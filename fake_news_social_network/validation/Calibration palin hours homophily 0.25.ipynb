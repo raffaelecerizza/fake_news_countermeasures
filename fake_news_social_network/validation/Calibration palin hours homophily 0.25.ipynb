{
 "cells": [
  {
   "cell_type": "code",
   "execution_count": 1,
   "metadata": {},
   "outputs": [],
   "source": [
    "import os\n",
    "import sys\n",
    "import tqdm\n",
    "import random\n",
    "import numpy as np\n",
    "import pandas as pd\n",
    "from numpy.random import seed\n",
    "from skopt import BayesSearchCV\n",
    "from sklearn.base import BaseEstimator\n",
    "from sklearn.metrics import mean_squared_error\n",
    "\n",
    "sys.path.append('.')\n",
    "sys.path.append('../../')\n",
    "sys.path.append('../network_model/')\n",
    "\n",
    "notebook_path = os.getcwd()\n",
    "project_path = os.path.abspath(os.path.join(notebook_path, '..'))\n",
    "sys.path.append(project_path)\n",
    "\n",
    "from network_model.network_classes import Network\n",
    "from networks_container import NetworksContainer\n",
    "from estimator import Estimator"
   ]
  },
  {
   "cell_type": "code",
   "execution_count": 2,
   "metadata": {},
   "outputs": [],
   "source": [
    "cherrypicked_seed = 42\n",
    "\n",
    "seed(cherrypicked_seed)\n",
    "random.seed(cherrypicked_seed)"
   ]
  },
  {
   "cell_type": "code",
   "execution_count": 3,
   "metadata": {},
   "outputs": [],
   "source": [
    "dataset_palin = pd.read_csv(\"../datasets/palinAnonimized.csv\", dtype=str)"
   ]
  },
  {
   "cell_type": "code",
   "execution_count": 4,
   "metadata": {},
   "outputs": [],
   "source": [
    "endorsers_percentage_list = pd.read_csv(\"../datasets/palin_endorsers_hours_percentage_list.csv\", dtype=int, header=None)\n",
    "endorsers_percentage_list = endorsers_percentage_list.values.tolist()\n",
    "endorsers_percentage_list = [item for sublist in endorsers_percentage_list for item in sublist]"
   ]
  },
  {
   "cell_type": "code",
   "execution_count": 5,
   "metadata": {},
   "outputs": [
    {
     "name": "stdout",
     "output_type": "stream",
     "text": [
      "3634\n"
     ]
    }
   ],
   "source": [
    "print(len(endorsers_percentage_list))"
   ]
  },
  {
   "cell_type": "code",
   "execution_count": 6,
   "metadata": {},
   "outputs": [],
   "source": [
    "# Tolgo 1 in quanto considero la prima epoca come lo stato iniziale\n",
    "epochs = len(endorsers_percentage_list) - 1"
   ]
  },
  {
   "cell_type": "code",
   "execution_count": 7,
   "metadata": {},
   "outputs": [
    {
     "name": "stdout",
     "output_type": "stream",
     "text": [
      "4423\n"
     ]
    }
   ],
   "source": [
    "print(len(dataset_palin))"
   ]
  },
  {
   "cell_type": "code",
   "execution_count": 8,
   "metadata": {},
   "outputs": [
    {
     "data": {
      "text/plain": [
       "3181"
      ]
     },
     "execution_count": 8,
     "metadata": {},
     "output_type": "execute_result"
    }
   ],
   "source": [
    "n_nodes = 3181\n",
    "n_nodes"
   ]
  },
  {
   "cell_type": "code",
   "execution_count": 9,
   "metadata": {},
   "outputs": [
    {
     "data": {
      "text/plain": [
       "64"
      ]
     },
     "execution_count": 9,
     "metadata": {},
     "output_type": "execute_result"
    }
   ],
   "source": [
    "n_bots = round((2 / 100) * n_nodes)\n",
    "n_bots"
   ]
  },
  {
   "cell_type": "code",
   "execution_count": 10,
   "metadata": {},
   "outputs": [
    {
     "data": {
      "text/plain": [
       "64"
      ]
     },
     "execution_count": 10,
     "metadata": {},
     "output_type": "execute_result"
    }
   ],
   "source": [
    "n_fact_checkers = round((2 / 100) * n_nodes)\n",
    "n_fact_checkers"
   ]
  },
  {
   "cell_type": "code",
   "execution_count": 11,
   "metadata": {},
   "outputs": [],
   "source": [
    "n_influencers = 25"
   ]
  },
  {
   "cell_type": "code",
   "execution_count": 12,
   "metadata": {},
   "outputs": [
    {
     "data": {
      "text/plain": [
       "3028"
      ]
     },
     "execution_count": 12,
     "metadata": {},
     "output_type": "execute_result"
    }
   ],
   "source": [
    "n_commons = n_nodes - n_bots - n_fact_checkers - n_influencers\n",
    "n_commons"
   ]
  },
  {
   "cell_type": "code",
   "execution_count": 13,
   "metadata": {},
   "outputs": [
    {
     "data": {
      "text/plain": [
       "31"
      ]
     },
     "execution_count": 13,
     "metadata": {},
     "output_type": "execute_result"
    }
   ],
   "source": [
    "n_initial_infected_nodes = round((3 / 100) * n_nodes) - n_bots\n",
    "n_initial_infected_nodes"
   ]
  },
  {
   "cell_type": "code",
   "execution_count": 14,
   "metadata": {},
   "outputs": [],
   "source": [
    "df = pd.DataFrame(columns=['alpha','beta','homophily','prob_infection','prob_vaccination',\n",
    "                           'prob_cure','prob_influencer','prob_echo','rmse'])"
   ]
  },
  {
   "cell_type": "code",
   "execution_count": 15,
   "metadata": {},
   "outputs": [],
   "source": [
    "search_spaces = {\n",
    "    'prob_influencer': (0.0, 1.0),\n",
    "    'prob_infection': (0.25, 0.5),\n",
    "    'prob_vaccination': (0.0, 0.25),\n",
    "    'prob_cure': (0.0, 0.25),\n",
    "    'prob_echo': (0.0, 1.0),\n",
    "}\n",
    "\n",
    "best_params = []\n",
    "best_rmse = 1000"
   ]
  },
  {
   "cell_type": "code",
   "execution_count": 16,
   "metadata": {},
   "outputs": [],
   "source": [
    "# Funzione per salvare i migliori parametri e il miglior RMSE a ogni passo di inferenza\n",
    "def on_step_callback(result):\n",
    "    global best_rmse, best_params\n",
    "    length = len(result.func_vals)\n",
    "    last_val = result.func_vals[length-1]\n",
    "    if last_val < best_rmse:\n",
    "        best_rmse = last_val\n",
    "        best_params = result.x"
   ]
  },
  {
   "cell_type": "code",
   "execution_count": 17,
   "metadata": {},
   "outputs": [],
   "source": [
    "# Funzione per verificare se i valori di alpha e beta sono corretti\n",
    "def check_values(alpha, beta):\n",
    "    if  alpha + beta > 1.0:\n",
    "        return False\n",
    "    # Con alpha = 0 e beta = 1 non vengono aggiunti nuovi nodi\n",
    "    if alpha == 0 and beta == 1:\n",
    "        return False\n",
    "    return True"
   ]
  },
  {
   "cell_type": "code",
   "execution_count": 18,
   "metadata": {},
   "outputs": [],
   "source": [
    "def run_simulations(alpha, beta, homophily):\n",
    "    container = NetworksContainer(n_networks=2, n_nodes=n_nodes, \n",
    "                                  alpha=alpha, beta=beta, \n",
    "                                  delta_in=1, delta_out=1, \n",
    "                                  homophily=homophily, n_commons=n_commons, \n",
    "                                  n_influencers=n_influencers, n_bots=n_bots, \n",
    "                                  n_fact_checkers=n_fact_checkers,\n",
    "                                  prob_complaint=0.1, \n",
    "                                  prob_infection=0.5, \n",
    "                                  prob_vaccination=0.1,\n",
    "                                  prob_cure=0.1, \n",
    "                                  prob_influencer=0.1, \n",
    "                                  exp_decay=True, user_block=False, \n",
    "                                  prob_echo=0.0, epochs=epochs)\n",
    "    container.create_network_list(n_initial_infected_nodes=n_initial_infected_nodes)\n",
    "    estimator = Estimator()\n",
    "    clf = BayesSearchCV(estimator, \n",
    "                        search_spaces=search_spaces,\n",
    "                        cv=[(slice(None), slice(None))], # per evitare la cross-validation\n",
    "                        verbose=0,\n",
    "                        n_iter=8)\n",
    "    clf.fit(np.array([container]), \n",
    "            np.array([endorsers_percentage_list]),\n",
    "            callback=on_step_callback)\n",
    "    best_prob_cure = best_params[0]\n",
    "    best_prob_echo = best_params[1]\n",
    "    best_prob_influencer = best_params[2]\n",
    "    best_prob_infection = best_params[3]\n",
    "    best_prob_vaccination = best_params[4]\n",
    "    \n",
    "    return best_prob_infection, best_prob_vaccination, best_prob_cure, best_prob_influencer, best_prob_echo"
   ]
  },
  {
   "cell_type": "code",
   "execution_count": 19,
   "metadata": {},
   "outputs": [],
   "source": [
    "values_alpha_beta = [0.0, 0.25, 0.33, 0.50, 0.75, 1.0]"
   ]
  },
  {
   "cell_type": "code",
   "execution_count": 20,
   "metadata": {},
   "outputs": [
    {
     "name": "stderr",
     "output_type": "stream",
     "text": [
      "  0%|          | 0/6 [00:00<?, ?it/s]"
     ]
    },
    {
     "name": "stderr",
     "output_type": "stream",
     "text": [
      "100%|██████████| 6/6 [2:42:21<00:00, 1623.62s/it]\n",
      "100%|██████████| 6/6 [2:53:36<00:00, 1736.06s/it]it]\n",
      "100%|██████████| 6/6 [1:51:38<00:00, 1116.44s/it]/it]\n",
      "100%|██████████| 6/6 [1:56:17<00:00, 1162.84s/it]    \n",
      "100%|██████████| 6/6 [50:57<00:00, 509.64s/it]   t]\n",
      "100%|██████████| 6/6 [23:10<00:00, 231.74s/it]   it]\n",
      "100%|██████████| 6/6 [10:38:02<00:00, 6380.35s/it]  \n"
     ]
    }
   ],
   "source": [
    "for i in tqdm.tqdm((range(len(values_alpha_beta)))):\n",
    "    alpha = values_alpha_beta[i]\n",
    "    for j in tqdm.tqdm(range(len(values_alpha_beta))):\n",
    "        beta = values_alpha_beta[j]\n",
    "        checked_values = check_values(alpha, beta)\n",
    "        if checked_values:\n",
    "            homophily = 0.25\n",
    "            prob_infection, prob_vaccination, prob_cure, prob_influencer, prob_echo = run_simulations(alpha, beta, homophily)\n",
    "            row = {'alpha':alpha,'beta':beta,\n",
    "                    'homophily':homophily,\n",
    "                    'prob_infection':prob_infection,\n",
    "                    'prob_vaccination':prob_vaccination,\n",
    "                    'prob_cure':prob_cure,\n",
    "                    'prob_influencer':prob_influencer,\n",
    "                    'prob_echo':prob_echo,\n",
    "                    'rmse':best_rmse}\n",
    "            row = pd.DataFrame([row])\n",
    "            df = pd.concat([df, row], ignore_index=True)\n",
    "            df.to_csv(\"parameters_optimization_palin_hours_homophily_0.25.csv\", index=False)\n",
    "            best_params = []\n",
    "            best_rmse = 1000"
   ]
  },
  {
   "cell_type": "code",
   "execution_count": null,
   "metadata": {},
   "outputs": [],
   "source": []
  }
 ],
 "metadata": {
  "kernelspec": {
   "display_name": "SCMS",
   "language": "python",
   "name": "python3"
  },
  "language_info": {
   "codemirror_mode": {
    "name": "ipython",
    "version": 3
   },
   "file_extension": ".py",
   "mimetype": "text/x-python",
   "name": "python",
   "nbconvert_exporter": "python",
   "pygments_lexer": "ipython3",
   "version": "3.10.4"
  },
  "orig_nbformat": 4,
  "vscode": {
   "interpreter": {
    "hash": "c97dbac1812ec30b48a7f39712c01c480bd467df285f0a5249fb97075fa3baaf"
   }
  }
 },
 "nbformat": 4,
 "nbformat_minor": 2
}
