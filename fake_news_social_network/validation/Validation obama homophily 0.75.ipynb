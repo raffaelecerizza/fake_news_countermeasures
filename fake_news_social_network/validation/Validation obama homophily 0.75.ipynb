{
 "cells": [
  {
   "cell_type": "code",
   "execution_count": 1,
   "metadata": {},
   "outputs": [],
   "source": [
    "import os\n",
    "import sys\n",
    "import tqdm\n",
    "import random\n",
    "import numpy as np\n",
    "import pandas as pd\n",
    "import matplotlib.pyplot as plt\n",
    "from numpy.random import seed\n",
    "from skopt import BayesSearchCV\n",
    "from sklearn.base import BaseEstimator\n",
    "from sklearn.metrics import mean_squared_error\n",
    "\n",
    "sys.path.append('.')\n",
    "sys.path.append('../../')\n",
    "sys.path.append('../network_model/')\n",
    "\n",
    "notebook_path = os.getcwd()\n",
    "project_path = os.path.abspath(os.path.join(notebook_path, '..'))\n",
    "sys.path.append(project_path)\n",
    "\n",
    "from network_model.network_classes import Network\n",
    "from networks_container import NetworksContainer\n",
    "from estimator import Estimator"
   ]
  },
  {
   "cell_type": "code",
   "execution_count": 2,
   "metadata": {},
   "outputs": [],
   "source": [
    "cherrypicked_seed = 42\n",
    "\n",
    "seed(cherrypicked_seed)\n",
    "random.seed(cherrypicked_seed)"
   ]
  },
  {
   "cell_type": "code",
   "execution_count": 3,
   "metadata": {},
   "outputs": [],
   "source": [
    "dataset_obama = pd.read_csv(\"../datasets/obamaAnonimized.csv\", dtype=str)"
   ]
  },
  {
   "cell_type": "code",
   "execution_count": 4,
   "metadata": {},
   "outputs": [],
   "source": [
    "endorsers_percentage_list = pd.read_csv(\"../datasets/obama_endorsers_hours_percentage_list.csv\", dtype=int, header=None)\n",
    "endorsers_percentage_list = endorsers_percentage_list.values.tolist()\n",
    "endorsers_percentage_list = [item for sublist in endorsers_percentage_list for item in sublist]"
   ]
  },
  {
   "cell_type": "code",
   "execution_count": 5,
   "metadata": {},
   "outputs": [
    {
     "name": "stdout",
     "output_type": "stream",
     "text": [
      "4730\n"
     ]
    }
   ],
   "source": [
    "print(len(endorsers_percentage_list))"
   ]
  },
  {
   "cell_type": "code",
   "execution_count": 6,
   "metadata": {},
   "outputs": [],
   "source": [
    "# Tolgo 1 in quanto considero la prima epoca come lo stato iniziale\n",
    "epochs = len(endorsers_percentage_list) - 1"
   ]
  },
  {
   "cell_type": "code",
   "execution_count": 7,
   "metadata": {},
   "outputs": [
    {
     "name": "stdout",
     "output_type": "stream",
     "text": [
      "4337\n"
     ]
    }
   ],
   "source": [
    "print(len(dataset_obama))"
   ]
  },
  {
   "cell_type": "code",
   "execution_count": 8,
   "metadata": {},
   "outputs": [
    {
     "data": {
      "text/plain": [
       "2678"
      ]
     },
     "execution_count": 8,
     "metadata": {},
     "output_type": "execute_result"
    }
   ],
   "source": [
    "n_nodes = 2678\n",
    "n_nodes"
   ]
  },
  {
   "cell_type": "code",
   "execution_count": 9,
   "metadata": {},
   "outputs": [
    {
     "data": {
      "text/plain": [
       "27"
      ]
     },
     "execution_count": 9,
     "metadata": {},
     "output_type": "execute_result"
    }
   ],
   "source": [
    "n_bots = round((1 / 100) * n_nodes)\n",
    "n_bots"
   ]
  },
  {
   "cell_type": "code",
   "execution_count": 10,
   "metadata": {},
   "outputs": [
    {
     "data": {
      "text/plain": [
       "27"
      ]
     },
     "execution_count": 10,
     "metadata": {},
     "output_type": "execute_result"
    }
   ],
   "source": [
    "n_fact_checkers = round((1 / 100) * n_nodes)\n",
    "n_fact_checkers"
   ]
  },
  {
   "cell_type": "code",
   "execution_count": 11,
   "metadata": {},
   "outputs": [],
   "source": [
    "n_influencers = 29"
   ]
  },
  {
   "cell_type": "code",
   "execution_count": 12,
   "metadata": {},
   "outputs": [
    {
     "data": {
      "text/plain": [
       "2595"
      ]
     },
     "execution_count": 12,
     "metadata": {},
     "output_type": "execute_result"
    }
   ],
   "source": [
    "n_commons = n_nodes - n_bots - n_fact_checkers - n_influencers\n",
    "n_commons"
   ]
  },
  {
   "cell_type": "code",
   "execution_count": 13,
   "metadata": {},
   "outputs": [
    {
     "data": {
      "text/plain": [
       "0"
      ]
     },
     "execution_count": 13,
     "metadata": {},
     "output_type": "execute_result"
    }
   ],
   "source": [
    "n_initial_infected_nodes = round((1 / 100) * n_nodes) - n_bots\n",
    "n_initial_infected_nodes"
   ]
  },
  {
   "attachments": {},
   "cell_type": "markdown",
   "metadata": {},
   "source": [
    "# Validation for homophily 0.75"
   ]
  },
  {
   "cell_type": "code",
   "execution_count": 14,
   "metadata": {},
   "outputs": [],
   "source": [
    "# Prendo i parametri calibrati con un dataset diverso da quello usato per la validazione\n",
    "parameters_homophily_075 = pd.read_csv(\"./parameters/parameters_optimization_palin_hours_homophily_0.75.csv\")"
   ]
  },
  {
   "cell_type": "code",
   "execution_count": 15,
   "metadata": {},
   "outputs": [
    {
     "data": {
      "text/html": [
       "<div>\n",
       "<style scoped>\n",
       "    .dataframe tbody tr th:only-of-type {\n",
       "        vertical-align: middle;\n",
       "    }\n",
       "\n",
       "    .dataframe tbody tr th {\n",
       "        vertical-align: top;\n",
       "    }\n",
       "\n",
       "    .dataframe thead th {\n",
       "        text-align: right;\n",
       "    }\n",
       "</style>\n",
       "<table border=\"1\" class=\"dataframe\">\n",
       "  <thead>\n",
       "    <tr style=\"text-align: right;\">\n",
       "      <th></th>\n",
       "      <th>alpha</th>\n",
       "      <th>beta</th>\n",
       "      <th>homophily</th>\n",
       "      <th>prob_infection</th>\n",
       "      <th>prob_vaccination</th>\n",
       "      <th>prob_cure</th>\n",
       "      <th>prob_influencer</th>\n",
       "      <th>prob_echo</th>\n",
       "      <th>rmse</th>\n",
       "    </tr>\n",
       "  </thead>\n",
       "  <tbody>\n",
       "    <tr>\n",
       "      <th>8</th>\n",
       "      <td>0.25</td>\n",
       "      <td>0.50</td>\n",
       "      <td>0.75</td>\n",
       "      <td>0.356252</td>\n",
       "      <td>0.017479</td>\n",
       "      <td>0.175856</td>\n",
       "      <td>0.765985</td>\n",
       "      <td>0.120913</td>\n",
       "      <td>2.808166</td>\n",
       "    </tr>\n",
       "    <tr>\n",
       "      <th>16</th>\n",
       "      <td>0.50</td>\n",
       "      <td>0.33</td>\n",
       "      <td>0.75</td>\n",
       "      <td>0.414064</td>\n",
       "      <td>0.047075</td>\n",
       "      <td>0.034623</td>\n",
       "      <td>0.178342</td>\n",
       "      <td>0.282544</td>\n",
       "      <td>4.140375</td>\n",
       "    </tr>\n",
       "    <tr>\n",
       "      <th>13</th>\n",
       "      <td>0.33</td>\n",
       "      <td>0.50</td>\n",
       "      <td>0.75</td>\n",
       "      <td>0.275412</td>\n",
       "      <td>0.045151</td>\n",
       "      <td>0.096935</td>\n",
       "      <td>0.128075</td>\n",
       "      <td>0.046543</td>\n",
       "      <td>4.415927</td>\n",
       "    </tr>\n",
       "    <tr>\n",
       "      <th>9</th>\n",
       "      <td>0.25</td>\n",
       "      <td>0.75</td>\n",
       "      <td>0.75</td>\n",
       "      <td>0.271138</td>\n",
       "      <td>0.040907</td>\n",
       "      <td>0.149349</td>\n",
       "      <td>0.247602</td>\n",
       "      <td>0.118232</td>\n",
       "      <td>4.878142</td>\n",
       "    </tr>\n",
       "    <tr>\n",
       "      <th>15</th>\n",
       "      <td>0.50</td>\n",
       "      <td>0.25</td>\n",
       "      <td>0.75</td>\n",
       "      <td>0.484349</td>\n",
       "      <td>0.008930</td>\n",
       "      <td>0.220526</td>\n",
       "      <td>0.821273</td>\n",
       "      <td>0.841017</td>\n",
       "      <td>4.942028</td>\n",
       "    </tr>\n",
       "    <tr>\n",
       "      <th>17</th>\n",
       "      <td>0.50</td>\n",
       "      <td>0.50</td>\n",
       "      <td>0.75</td>\n",
       "      <td>0.365947</td>\n",
       "      <td>0.141042</td>\n",
       "      <td>0.154889</td>\n",
       "      <td>0.340464</td>\n",
       "      <td>0.694014</td>\n",
       "      <td>5.267927</td>\n",
       "    </tr>\n",
       "    <tr>\n",
       "      <th>12</th>\n",
       "      <td>0.33</td>\n",
       "      <td>0.33</td>\n",
       "      <td>0.75</td>\n",
       "      <td>0.252444</td>\n",
       "      <td>0.007455</td>\n",
       "      <td>0.019582</td>\n",
       "      <td>0.921363</td>\n",
       "      <td>0.757493</td>\n",
       "      <td>5.975239</td>\n",
       "    </tr>\n",
       "    <tr>\n",
       "      <th>4</th>\n",
       "      <td>0.00</td>\n",
       "      <td>0.75</td>\n",
       "      <td>0.75</td>\n",
       "      <td>0.424358</td>\n",
       "      <td>0.000317</td>\n",
       "      <td>0.099590</td>\n",
       "      <td>0.301847</td>\n",
       "      <td>0.661524</td>\n",
       "      <td>6.183577</td>\n",
       "    </tr>\n",
       "    <tr>\n",
       "      <th>19</th>\n",
       "      <td>0.75</td>\n",
       "      <td>0.25</td>\n",
       "      <td>0.75</td>\n",
       "      <td>0.458369</td>\n",
       "      <td>0.105972</td>\n",
       "      <td>0.017619</td>\n",
       "      <td>0.380314</td>\n",
       "      <td>0.155000</td>\n",
       "      <td>10.179279</td>\n",
       "    </tr>\n",
       "    <tr>\n",
       "      <th>11</th>\n",
       "      <td>0.33</td>\n",
       "      <td>0.25</td>\n",
       "      <td>0.75</td>\n",
       "      <td>0.445290</td>\n",
       "      <td>0.023595</td>\n",
       "      <td>0.213421</td>\n",
       "      <td>0.939777</td>\n",
       "      <td>0.877979</td>\n",
       "      <td>15.929395</td>\n",
       "    </tr>\n",
       "    <tr>\n",
       "      <th>3</th>\n",
       "      <td>0.00</td>\n",
       "      <td>0.50</td>\n",
       "      <td>0.75</td>\n",
       "      <td>0.445254</td>\n",
       "      <td>0.017769</td>\n",
       "      <td>0.007319</td>\n",
       "      <td>0.556912</td>\n",
       "      <td>0.288653</td>\n",
       "      <td>17.628983</td>\n",
       "    </tr>\n",
       "    <tr>\n",
       "      <th>18</th>\n",
       "      <td>0.75</td>\n",
       "      <td>0.00</td>\n",
       "      <td>0.75</td>\n",
       "      <td>0.357064</td>\n",
       "      <td>0.042601</td>\n",
       "      <td>0.103001</td>\n",
       "      <td>0.874065</td>\n",
       "      <td>0.701237</td>\n",
       "      <td>20.577835</td>\n",
       "    </tr>\n",
       "    <tr>\n",
       "      <th>7</th>\n",
       "      <td>0.25</td>\n",
       "      <td>0.33</td>\n",
       "      <td>0.75</td>\n",
       "      <td>0.460166</td>\n",
       "      <td>0.093299</td>\n",
       "      <td>0.034028</td>\n",
       "      <td>0.908041</td>\n",
       "      <td>0.740487</td>\n",
       "      <td>20.651136</td>\n",
       "    </tr>\n",
       "    <tr>\n",
       "      <th>1</th>\n",
       "      <td>0.00</td>\n",
       "      <td>0.25</td>\n",
       "      <td>0.75</td>\n",
       "      <td>0.449377</td>\n",
       "      <td>0.004663</td>\n",
       "      <td>0.157338</td>\n",
       "      <td>0.543493</td>\n",
       "      <td>0.014626</td>\n",
       "      <td>27.317241</td>\n",
       "    </tr>\n",
       "    <tr>\n",
       "      <th>6</th>\n",
       "      <td>0.25</td>\n",
       "      <td>0.25</td>\n",
       "      <td>0.75</td>\n",
       "      <td>0.341581</td>\n",
       "      <td>0.098791</td>\n",
       "      <td>0.039121</td>\n",
       "      <td>0.516681</td>\n",
       "      <td>0.806624</td>\n",
       "      <td>27.458541</td>\n",
       "    </tr>\n",
       "    <tr>\n",
       "      <th>2</th>\n",
       "      <td>0.00</td>\n",
       "      <td>0.33</td>\n",
       "      <td>0.75</td>\n",
       "      <td>0.273555</td>\n",
       "      <td>0.036841</td>\n",
       "      <td>0.138489</td>\n",
       "      <td>0.096313</td>\n",
       "      <td>0.876235</td>\n",
       "      <td>28.488797</td>\n",
       "    </tr>\n",
       "    <tr>\n",
       "      <th>14</th>\n",
       "      <td>0.50</td>\n",
       "      <td>0.00</td>\n",
       "      <td>0.75</td>\n",
       "      <td>0.410900</td>\n",
       "      <td>0.039537</td>\n",
       "      <td>0.038816</td>\n",
       "      <td>0.697304</td>\n",
       "      <td>0.250900</td>\n",
       "      <td>29.364382</td>\n",
       "    </tr>\n",
       "    <tr>\n",
       "      <th>5</th>\n",
       "      <td>0.25</td>\n",
       "      <td>0.00</td>\n",
       "      <td>0.75</td>\n",
       "      <td>0.456033</td>\n",
       "      <td>0.005324</td>\n",
       "      <td>0.178662</td>\n",
       "      <td>0.112539</td>\n",
       "      <td>0.270152</td>\n",
       "      <td>30.374178</td>\n",
       "    </tr>\n",
       "    <tr>\n",
       "      <th>20</th>\n",
       "      <td>1.00</td>\n",
       "      <td>0.00</td>\n",
       "      <td>0.75</td>\n",
       "      <td>0.477424</td>\n",
       "      <td>0.129218</td>\n",
       "      <td>0.087400</td>\n",
       "      <td>0.859220</td>\n",
       "      <td>0.636667</td>\n",
       "      <td>31.179229</td>\n",
       "    </tr>\n",
       "    <tr>\n",
       "      <th>10</th>\n",
       "      <td>0.33</td>\n",
       "      <td>0.00</td>\n",
       "      <td>0.75</td>\n",
       "      <td>0.333871</td>\n",
       "      <td>0.093705</td>\n",
       "      <td>0.072075</td>\n",
       "      <td>0.665327</td>\n",
       "      <td>0.893000</td>\n",
       "      <td>31.840873</td>\n",
       "    </tr>\n",
       "    <tr>\n",
       "      <th>0</th>\n",
       "      <td>0.00</td>\n",
       "      <td>0.00</td>\n",
       "      <td>0.75</td>\n",
       "      <td>0.434442</td>\n",
       "      <td>0.095741</td>\n",
       "      <td>0.048375</td>\n",
       "      <td>0.895181</td>\n",
       "      <td>0.991688</td>\n",
       "      <td>33.786217</td>\n",
       "    </tr>\n",
       "  </tbody>\n",
       "</table>\n",
       "</div>"
      ],
      "text/plain": [
       "    alpha  beta  homophily  prob_infection  prob_vaccination  prob_cure  \\\n",
       "8    0.25  0.50       0.75        0.356252          0.017479   0.175856   \n",
       "16   0.50  0.33       0.75        0.414064          0.047075   0.034623   \n",
       "13   0.33  0.50       0.75        0.275412          0.045151   0.096935   \n",
       "9    0.25  0.75       0.75        0.271138          0.040907   0.149349   \n",
       "15   0.50  0.25       0.75        0.484349          0.008930   0.220526   \n",
       "17   0.50  0.50       0.75        0.365947          0.141042   0.154889   \n",
       "12   0.33  0.33       0.75        0.252444          0.007455   0.019582   \n",
       "4    0.00  0.75       0.75        0.424358          0.000317   0.099590   \n",
       "19   0.75  0.25       0.75        0.458369          0.105972   0.017619   \n",
       "11   0.33  0.25       0.75        0.445290          0.023595   0.213421   \n",
       "3    0.00  0.50       0.75        0.445254          0.017769   0.007319   \n",
       "18   0.75  0.00       0.75        0.357064          0.042601   0.103001   \n",
       "7    0.25  0.33       0.75        0.460166          0.093299   0.034028   \n",
       "1    0.00  0.25       0.75        0.449377          0.004663   0.157338   \n",
       "6    0.25  0.25       0.75        0.341581          0.098791   0.039121   \n",
       "2    0.00  0.33       0.75        0.273555          0.036841   0.138489   \n",
       "14   0.50  0.00       0.75        0.410900          0.039537   0.038816   \n",
       "5    0.25  0.00       0.75        0.456033          0.005324   0.178662   \n",
       "20   1.00  0.00       0.75        0.477424          0.129218   0.087400   \n",
       "10   0.33  0.00       0.75        0.333871          0.093705   0.072075   \n",
       "0    0.00  0.00       0.75        0.434442          0.095741   0.048375   \n",
       "\n",
       "    prob_influencer  prob_echo       rmse  \n",
       "8          0.765985   0.120913   2.808166  \n",
       "16         0.178342   0.282544   4.140375  \n",
       "13         0.128075   0.046543   4.415927  \n",
       "9          0.247602   0.118232   4.878142  \n",
       "15         0.821273   0.841017   4.942028  \n",
       "17         0.340464   0.694014   5.267927  \n",
       "12         0.921363   0.757493   5.975239  \n",
       "4          0.301847   0.661524   6.183577  \n",
       "19         0.380314   0.155000  10.179279  \n",
       "11         0.939777   0.877979  15.929395  \n",
       "3          0.556912   0.288653  17.628983  \n",
       "18         0.874065   0.701237  20.577835  \n",
       "7          0.908041   0.740487  20.651136  \n",
       "1          0.543493   0.014626  27.317241  \n",
       "6          0.516681   0.806624  27.458541  \n",
       "2          0.096313   0.876235  28.488797  \n",
       "14         0.697304   0.250900  29.364382  \n",
       "5          0.112539   0.270152  30.374178  \n",
       "20         0.859220   0.636667  31.179229  \n",
       "10         0.665327   0.893000  31.840873  \n",
       "0          0.895181   0.991688  33.786217  "
      ]
     },
     "execution_count": 15,
     "metadata": {},
     "output_type": "execute_result"
    }
   ],
   "source": [
    "parameters_homophily_075 = parameters_homophily_075.sort_values(by='rmse')\n",
    "parameters_homophily_075"
   ]
  },
  {
   "cell_type": "code",
   "execution_count": 16,
   "metadata": {},
   "outputs": [],
   "source": [
    "alpha = parameters_homophily_075['alpha'].iloc[0]\n",
    "beta = parameters_homophily_075['beta'].iloc[0]\n",
    "homophily = parameters_homophily_075['homophily'].iloc[0]\n",
    "prob_infection = parameters_homophily_075['prob_infection'].iloc[0]\n",
    "prob_vaccination = parameters_homophily_075['prob_vaccination'].iloc[0]\n",
    "prob_cure = parameters_homophily_075['prob_cure'].iloc[0]\n",
    "prob_influencer = parameters_homophily_075['prob_influencer'].iloc[0]\n",
    "prob_echo = parameters_homophily_075['prob_echo'].iloc[0]"
   ]
  },
  {
   "cell_type": "code",
   "execution_count": 17,
   "metadata": {},
   "outputs": [],
   "source": [
    "container = NetworksContainer(n_networks=30, n_nodes=n_nodes, \n",
    "                              alpha=alpha, beta=beta, \n",
    "                              delta_in=1, delta_out=1, \n",
    "                              homophily=homophily, n_commons=n_commons, \n",
    "                              n_influencers=n_influencers, n_bots=n_bots, \n",
    "                              n_fact_checkers=n_fact_checkers,\n",
    "                              prob_complaint=0.0, \n",
    "                              prob_infection=prob_infection, \n",
    "                              prob_vaccination=prob_vaccination,\n",
    "                              prob_cure=prob_cure, \n",
    "                              prob_influencer=prob_influencer, \n",
    "                              exp_decay=True, user_block=False, \n",
    "                              prob_echo=prob_echo, epochs=epochs)\n",
    "container.create_network_list(n_initial_infected_nodes=n_initial_infected_nodes)"
   ]
  },
  {
   "cell_type": "code",
   "execution_count": 18,
   "metadata": {},
   "outputs": [],
   "source": [
    "total_y_pred_list_homophily_075 = []\n",
    "\n",
    "for i in range(container.n_networks):   \n",
    "    y_pred_list = []\n",
    "    container.network_list[i].reset_network()\n",
    "    for j in range(container.epochs):\n",
    "        container.network_list[i].update_nodes()\n",
    "    y_pred_list = container.network_list[i].perc_infected\n",
    "    total_y_pred_list_homophily_075.append(y_pred_list)"
   ]
  },
  {
   "cell_type": "code",
   "execution_count": 19,
   "metadata": {},
   "outputs": [],
   "source": [
    "avg_y_pred_list_homophily_075 = [sum(column) / len(column) for column in zip(*total_y_pred_list_homophily_075)]"
   ]
  },
  {
   "cell_type": "code",
   "execution_count": 20,
   "metadata": {},
   "outputs": [],
   "source": [
    "std_y_pred_list_homophily_075 = [np.std(column) for column in zip(*total_y_pred_list_homophily_075)]"
   ]
  },
  {
   "cell_type": "code",
   "execution_count": 21,
   "metadata": {},
   "outputs": [],
   "source": [
    "std_low_y_pred_list_homophily_075 = []\n",
    "std_high_y_pred_list_homophily_075 = []\n",
    "for i in range(len(avg_y_pred_list_homophily_075)):\n",
    "    std_low_y_pred_list_homophily_075.append(avg_y_pred_list_homophily_075[i] - std_y_pred_list_homophily_075[i])\n",
    "    std_high_y_pred_list_homophily_075.append(avg_y_pred_list_homophily_075[i] + std_y_pred_list_homophily_075[i])"
   ]
  },
  {
   "cell_type": "code",
   "execution_count": 22,
   "metadata": {},
   "outputs": [],
   "source": [
    "x = []\n",
    "for i in range(len(endorsers_percentage_list)):\n",
    "    x.append(i)"
   ]
  },
  {
   "cell_type": "code",
   "execution_count": 23,
   "metadata": {},
   "outputs": [
    {
     "data": {
      "image/png": "[encoded data removed]",
      "text/plain": [
       "<Figure size 1200x400 with 1 Axes>"
      ]
     },
     "metadata": {},
     "output_type": "display_data"
    }
   ],
   "source": [
    "fig, axs = plt.subplots(1, 1, figsize=(12, 4))\n",
    "axs.plot(endorsers_percentage_list, c='r', label='Real endorsers percentage', linewidth=1.0)\n",
    "plt.plot(avg_y_pred_list_homophily_075, c='b', label='Simulated endorsers percentage', linewidth=1.0)\n",
    "axs.fill_between(x, avg_y_pred_list_homophily_075, std_low_y_pred_list_homophily_075, color='b', alpha=.1)\n",
    "axs.fill_between(x, avg_y_pred_list_homophily_075, std_high_y_pred_list_homophily_075, color='b', alpha=.1)\n",
    "legend = plt.legend(bbox_to_anchor=(1.05, 1), loc='upper left')\n",
    "plt.xlabel(\"Epoch\")\n",
    "plt.ylabel(\"Percentage of endorsers\")\n",
    "plt.show()"
   ]
  },
  {
   "cell_type": "code",
   "execution_count": 24,
   "metadata": {},
   "outputs": [],
   "source": [
    "x = []\n",
    "endorsers_percentage_list_truncated = []\n",
    "avg_y_pred_list_homophily_075_truncated = []\n",
    "std_low_y_pred_list_homophily_075_truncated = []\n",
    "std_high_y_pred_list_homophily_075_truncated = []\n",
    "for i in range(500):\n",
    "    x.append(i)\n",
    "    endorsers_percentage_list_truncated.append(endorsers_percentage_list[i])\n",
    "    avg_y_pred_list_homophily_075_truncated.append(avg_y_pred_list_homophily_075[i])\n",
    "    std_low_y_pred_list_homophily_075_truncated.append(std_low_y_pred_list_homophily_075[i])\n",
    "    std_high_y_pred_list_homophily_075_truncated.append(std_high_y_pred_list_homophily_075[i])"
   ]
  },
  {
   "cell_type": "code",
   "execution_count": 25,
   "metadata": {},
   "outputs": [
    {
     "data": {
      "image/png": "[encoded data removed]",
      "text/plain": [
       "<Figure size 1200x400 with 1 Axes>"
      ]
     },
     "metadata": {},
     "output_type": "display_data"
    }
   ],
   "source": [
    "fig, axs = plt.subplots(1, 1, figsize=(12, 4))\n",
    "axs.plot(endorsers_percentage_list_truncated, c='r', label='Real endorsers percentage', linewidth=1.0)\n",
    "plt.plot(avg_y_pred_list_homophily_075_truncated, c='b', label='Simulated endorsers percentage', linewidth=1.0)\n",
    "axs.fill_between(x, avg_y_pred_list_homophily_075_truncated, std_low_y_pred_list_homophily_075_truncated, color='b', alpha=.1)\n",
    "axs.fill_between(x, avg_y_pred_list_homophily_075_truncated, std_high_y_pred_list_homophily_075_truncated, color='b', alpha=.1)\n",
    "legend = plt.legend(bbox_to_anchor=(1.05, 1), loc='upper left')\n",
    "plt.xlabel(\"Epoch\")\n",
    "plt.ylabel(\"Percentage of endorsers\")\n",
    "plt.show()"
   ]
  },
  {
   "cell_type": "code",
   "execution_count": 26,
   "metadata": {},
   "outputs": [
    {
     "name": "stdout",
     "output_type": "stream",
     "text": [
      "Mean 0.75:  -18.180247599586746\n",
      "Standard deviation 0.75:  5.640868378025487\n"
     ]
    }
   ],
   "source": [
    "y_true = endorsers_percentage_list\n",
    "\n",
    "neg_rmse_list_homophily_075 = []\n",
    "for i in range(container.n_networks):\n",
    "        mse = mean_squared_error(y_true=y_true, y_pred=total_y_pred_list_homophily_075[i])\n",
    "        neg_rmse = - np.sqrt(mse)\n",
    "        neg_rmse_list_homophily_075.append(neg_rmse)\n",
    "    \n",
    "mean_neg_rmse_homophily_075 = np.mean(neg_rmse_list_homophily_075)\n",
    "std_neg_rmse_homophily_075 = np.std(neg_rmse_list_homophily_075)\n",
    "print(\"Mean 0.75: \", mean_neg_rmse_homophily_075)\n",
    "print(\"Standard deviation 0.75: \", std_neg_rmse_homophily_075)"
   ]
  },
  {
   "cell_type": "code",
   "execution_count": 27,
   "metadata": {},
   "outputs": [],
   "source": [
    "df_total_y_pred_list_homophily_075 = pd.DataFrame(total_y_pred_list_homophily_075).T\n",
    "df_total_y_pred_list_homophily_075.to_csv(\"validation_obama_endorsers_percentages_homophily_0.75.csv\", index=False, header=False)"
   ]
  },
  {
   "cell_type": "code",
   "execution_count": 28,
   "metadata": {},
   "outputs": [],
   "source": [
    "df_statistics_homophily_075 = pd.DataFrame(avg_y_pred_list_homophily_075).T\n",
    "df_statistics_homophily_075.loc[1] = std_y_pred_list_homophily_075\n",
    "df_statistics_homophily_075.loc[2] = std_high_y_pred_list_homophily_075\n",
    "df_statistics_homophily_075.loc[3] = std_low_y_pred_list_homophily_075\n",
    "df_statistics_homophily_075.to_csv(\"validation_obama_statistics_homophily_0.75.csv\", index=False, header=False)"
   ]
  },
  {
   "cell_type": "code",
   "execution_count": 29,
   "metadata": {},
   "outputs": [],
   "source": [
    "df_rmse_homophily_075 = pd.DataFrame(neg_rmse_list_homophily_075).T\n",
    "df_rmse_homophily_075.to_csv(\"validation_obama_rmse_homophily_0.75.csv\", index=False, header=False)"
   ]
  },
  {
   "cell_type": "code",
   "execution_count": null,
   "metadata": {},
   "outputs": [],
   "source": []
  }
 ],
 "metadata": {
  "kernelspec": {
   "display_name": "SCMS",
   "language": "python",
   "name": "python3"
  },
  "language_info": {
   "codemirror_mode": {
    "name": "ipython",
    "version": 3
   },
   "file_extension": ".py",
   "mimetype": "text/x-python",
   "name": "python",
   "nbconvert_exporter": "python",
   "pygments_lexer": "ipython3",
   "version": "3.11.0"
  },
  "orig_nbformat": 4,
  "vscode": {
   "interpreter": {
    "hash": "c97dbac1812ec30b48a7f39712c01c480bd467df285f0a5249fb97075fa3baaf"
   }
  }
 },
 "nbformat": 4,
 "nbformat_minor": 2
}
