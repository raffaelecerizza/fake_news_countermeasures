{
 "cells": [
  {
   "cell_type": "code",
   "execution_count": 1,
   "metadata": {},
   "outputs": [],
   "source": [
    "import os\n",
    "import sys\n",
    "import tqdm\n",
    "import random\n",
    "import numpy as np\n",
    "import pandas as pd\n",
    "import matplotlib.pyplot as plt\n",
    "from numpy.random import seed\n",
    "from skopt import BayesSearchCV\n",
    "from sklearn.base import BaseEstimator\n",
    "from sklearn.metrics import mean_squared_error\n",
    "\n",
    "sys.path.append('.')\n",
    "sys.path.append('../../')\n",
    "sys.path.append('../network_model/')\n",
    "\n",
    "notebook_path = os.getcwd()\n",
    "project_path = os.path.abspath(os.path.join(notebook_path, '..'))\n",
    "sys.path.append(project_path)\n",
    "\n",
    "from network_model.network_classes import Network\n",
    "from networks_container import NetworksContainer\n",
    "from estimator import Estimator"
   ]
  },
  {
   "cell_type": "code",
   "execution_count": 2,
   "metadata": {},
   "outputs": [],
   "source": [
    "cherrypicked_seed = 42\n",
    "\n",
    "seed(cherrypicked_seed)\n",
    "random.seed(cherrypicked_seed)"
   ]
  },
  {
   "cell_type": "code",
   "execution_count": 3,
   "metadata": {},
   "outputs": [],
   "source": [
    "dataset_obama = pd.read_csv(\"../datasets/obamaAnonimized.csv\", dtype=str)"
   ]
  },
  {
   "cell_type": "code",
   "execution_count": 4,
   "metadata": {},
   "outputs": [],
   "source": [
    "endorsers_percentage_list = pd.read_csv(\"../datasets/obama_endorsers_hours_percentage_list.csv\", dtype=int, header=None)\n",
    "endorsers_percentage_list = endorsers_percentage_list.values.tolist()\n",
    "endorsers_percentage_list = [item for sublist in endorsers_percentage_list for item in sublist]"
   ]
  },
  {
   "cell_type": "code",
   "execution_count": 5,
   "metadata": {},
   "outputs": [
    {
     "name": "stdout",
     "output_type": "stream",
     "text": [
      "4730\n"
     ]
    }
   ],
   "source": [
    "print(len(endorsers_percentage_list))"
   ]
  },
  {
   "cell_type": "code",
   "execution_count": 6,
   "metadata": {},
   "outputs": [],
   "source": [
    "# Tolgo 1 in quanto considero la prima epoca come lo stato iniziale\n",
    "epochs = len(endorsers_percentage_list) - 1"
   ]
  },
  {
   "cell_type": "code",
   "execution_count": 7,
   "metadata": {},
   "outputs": [
    {
     "name": "stdout",
     "output_type": "stream",
     "text": [
      "4337\n"
     ]
    }
   ],
   "source": [
    "print(len(dataset_obama))"
   ]
  },
  {
   "cell_type": "code",
   "execution_count": 8,
   "metadata": {},
   "outputs": [
    {
     "data": {
      "text/plain": [
       "2678"
      ]
     },
     "execution_count": 8,
     "metadata": {},
     "output_type": "execute_result"
    }
   ],
   "source": [
    "n_nodes = 2678\n",
    "n_nodes"
   ]
  },
  {
   "cell_type": "code",
   "execution_count": 9,
   "metadata": {},
   "outputs": [
    {
     "data": {
      "text/plain": [
       "27"
      ]
     },
     "execution_count": 9,
     "metadata": {},
     "output_type": "execute_result"
    }
   ],
   "source": [
    "n_bots = round((1 / 100) * n_nodes)\n",
    "n_bots"
   ]
  },
  {
   "cell_type": "code",
   "execution_count": 10,
   "metadata": {},
   "outputs": [
    {
     "data": {
      "text/plain": [
       "27"
      ]
     },
     "execution_count": 10,
     "metadata": {},
     "output_type": "execute_result"
    }
   ],
   "source": [
    "n_fact_checkers = round((1 / 100) * n_nodes)\n",
    "n_fact_checkers"
   ]
  },
  {
   "cell_type": "code",
   "execution_count": 11,
   "metadata": {},
   "outputs": [],
   "source": [
    "n_influencers = 29"
   ]
  },
  {
   "cell_type": "code",
   "execution_count": 12,
   "metadata": {},
   "outputs": [
    {
     "data": {
      "text/plain": [
       "2595"
      ]
     },
     "execution_count": 12,
     "metadata": {},
     "output_type": "execute_result"
    }
   ],
   "source": [
    "n_commons = n_nodes - n_bots - n_fact_checkers - n_influencers\n",
    "n_commons"
   ]
  },
  {
   "cell_type": "code",
   "execution_count": 13,
   "metadata": {},
   "outputs": [
    {
     "data": {
      "text/plain": [
       "0"
      ]
     },
     "execution_count": 13,
     "metadata": {},
     "output_type": "execute_result"
    }
   ],
   "source": [
    "n_initial_infected_nodes = round((1 / 100) * n_nodes) - n_bots\n",
    "n_initial_infected_nodes"
   ]
  },
  {
   "attachments": {},
   "cell_type": "markdown",
   "metadata": {},
   "source": [
    "# Validation for homophily 0.25"
   ]
  },
  {
   "cell_type": "code",
   "execution_count": 14,
   "metadata": {},
   "outputs": [],
   "source": [
    "# Prendo i parametri calibrati con un dataset diverso da quello usato per la validazione\n",
    "parameters_homophily_025 = pd.read_csv(\"./parameters/parameters_optimization_palin_hours_homophily_0.25.csv\")"
   ]
  },
  {
   "cell_type": "code",
   "execution_count": 15,
   "metadata": {},
   "outputs": [
    {
     "data": {
      "text/html": [
       "<div>\n",
       "<style scoped>\n",
       "    .dataframe tbody tr th:only-of-type {\n",
       "        vertical-align: middle;\n",
       "    }\n",
       "\n",
       "    .dataframe tbody tr th {\n",
       "        vertical-align: top;\n",
       "    }\n",
       "\n",
       "    .dataframe thead th {\n",
       "        text-align: right;\n",
       "    }\n",
       "</style>\n",
       "<table border=\"1\" class=\"dataframe\">\n",
       "  <thead>\n",
       "    <tr style=\"text-align: right;\">\n",
       "      <th></th>\n",
       "      <th>alpha</th>\n",
       "      <th>beta</th>\n",
       "      <th>homophily</th>\n",
       "      <th>prob_infection</th>\n",
       "      <th>prob_vaccination</th>\n",
       "      <th>prob_cure</th>\n",
       "      <th>prob_influencer</th>\n",
       "      <th>prob_echo</th>\n",
       "      <th>rmse</th>\n",
       "    </tr>\n",
       "  </thead>\n",
       "  <tbody>\n",
       "    <tr>\n",
       "      <th>8</th>\n",
       "      <td>0.25</td>\n",
       "      <td>0.50</td>\n",
       "      <td>0.25</td>\n",
       "      <td>0.818161</td>\n",
       "      <td>0.008427</td>\n",
       "      <td>0.731191</td>\n",
       "      <td>0.296803</td>\n",
       "      <td>0.367388</td>\n",
       "      <td>2.239058</td>\n",
       "    </tr>\n",
       "    <tr>\n",
       "      <th>13</th>\n",
       "      <td>0.33</td>\n",
       "      <td>0.50</td>\n",
       "      <td>0.25</td>\n",
       "      <td>0.706928</td>\n",
       "      <td>0.061085</td>\n",
       "      <td>0.280727</td>\n",
       "      <td>0.942890</td>\n",
       "      <td>0.739112</td>\n",
       "      <td>6.473275</td>\n",
       "    </tr>\n",
       "    <tr>\n",
       "      <th>19</th>\n",
       "      <td>0.75</td>\n",
       "      <td>0.25</td>\n",
       "      <td>0.25</td>\n",
       "      <td>0.555140</td>\n",
       "      <td>0.324185</td>\n",
       "      <td>0.851184</td>\n",
       "      <td>0.555215</td>\n",
       "      <td>0.861590</td>\n",
       "      <td>6.561343</td>\n",
       "    </tr>\n",
       "    <tr>\n",
       "      <th>17</th>\n",
       "      <td>0.50</td>\n",
       "      <td>0.50</td>\n",
       "      <td>0.25</td>\n",
       "      <td>0.462909</td>\n",
       "      <td>0.186649</td>\n",
       "      <td>0.316037</td>\n",
       "      <td>0.781633</td>\n",
       "      <td>0.358545</td>\n",
       "      <td>6.808571</td>\n",
       "    </tr>\n",
       "    <tr>\n",
       "      <th>9</th>\n",
       "      <td>0.25</td>\n",
       "      <td>0.75</td>\n",
       "      <td>0.25</td>\n",
       "      <td>0.782793</td>\n",
       "      <td>0.261562</td>\n",
       "      <td>0.651366</td>\n",
       "      <td>0.622789</td>\n",
       "      <td>0.793123</td>\n",
       "      <td>13.699911</td>\n",
       "    </tr>\n",
       "    <tr>\n",
       "      <th>6</th>\n",
       "      <td>0.25</td>\n",
       "      <td>0.25</td>\n",
       "      <td>0.25</td>\n",
       "      <td>0.799404</td>\n",
       "      <td>0.001260</td>\n",
       "      <td>0.862183</td>\n",
       "      <td>0.794482</td>\n",
       "      <td>0.716376</td>\n",
       "      <td>14.036515</td>\n",
       "    </tr>\n",
       "    <tr>\n",
       "      <th>11</th>\n",
       "      <td>0.33</td>\n",
       "      <td>0.25</td>\n",
       "      <td>0.25</td>\n",
       "      <td>0.576806</td>\n",
       "      <td>0.114734</td>\n",
       "      <td>0.748037</td>\n",
       "      <td>0.721968</td>\n",
       "      <td>0.654270</td>\n",
       "      <td>21.887891</td>\n",
       "    </tr>\n",
       "    <tr>\n",
       "      <th>3</th>\n",
       "      <td>0.00</td>\n",
       "      <td>0.50</td>\n",
       "      <td>0.25</td>\n",
       "      <td>0.237302</td>\n",
       "      <td>0.085620</td>\n",
       "      <td>0.678745</td>\n",
       "      <td>0.836654</td>\n",
       "      <td>0.175695</td>\n",
       "      <td>25.402390</td>\n",
       "    </tr>\n",
       "    <tr>\n",
       "      <th>15</th>\n",
       "      <td>0.50</td>\n",
       "      <td>0.25</td>\n",
       "      <td>0.25</td>\n",
       "      <td>0.047901</td>\n",
       "      <td>0.003012</td>\n",
       "      <td>0.627479</td>\n",
       "      <td>0.038375</td>\n",
       "      <td>0.640699</td>\n",
       "      <td>25.484633</td>\n",
       "    </tr>\n",
       "    <tr>\n",
       "      <th>1</th>\n",
       "      <td>0.00</td>\n",
       "      <td>0.25</td>\n",
       "      <td>0.25</td>\n",
       "      <td>0.038382</td>\n",
       "      <td>0.003285</td>\n",
       "      <td>0.169062</td>\n",
       "      <td>0.353512</td>\n",
       "      <td>0.319569</td>\n",
       "      <td>25.544227</td>\n",
       "    </tr>\n",
       "    <tr>\n",
       "      <th>14</th>\n",
       "      <td>0.50</td>\n",
       "      <td>0.00</td>\n",
       "      <td>0.25</td>\n",
       "      <td>0.709865</td>\n",
       "      <td>0.081490</td>\n",
       "      <td>0.357087</td>\n",
       "      <td>0.884475</td>\n",
       "      <td>0.929503</td>\n",
       "      <td>26.919886</td>\n",
       "    </tr>\n",
       "    <tr>\n",
       "      <th>16</th>\n",
       "      <td>0.50</td>\n",
       "      <td>0.33</td>\n",
       "      <td>0.25</td>\n",
       "      <td>0.723617</td>\n",
       "      <td>0.260863</td>\n",
       "      <td>0.627583</td>\n",
       "      <td>0.385786</td>\n",
       "      <td>0.973654</td>\n",
       "      <td>27.733877</td>\n",
       "    </tr>\n",
       "    <tr>\n",
       "      <th>20</th>\n",
       "      <td>1.00</td>\n",
       "      <td>0.00</td>\n",
       "      <td>0.25</td>\n",
       "      <td>0.348294</td>\n",
       "      <td>0.957686</td>\n",
       "      <td>0.582828</td>\n",
       "      <td>0.966159</td>\n",
       "      <td>0.748001</td>\n",
       "      <td>28.013031</td>\n",
       "    </tr>\n",
       "    <tr>\n",
       "      <th>7</th>\n",
       "      <td>0.25</td>\n",
       "      <td>0.33</td>\n",
       "      <td>0.25</td>\n",
       "      <td>0.852346</td>\n",
       "      <td>0.212073</td>\n",
       "      <td>0.544941</td>\n",
       "      <td>0.853417</td>\n",
       "      <td>0.226910</td>\n",
       "      <td>28.938559</td>\n",
       "    </tr>\n",
       "    <tr>\n",
       "      <th>12</th>\n",
       "      <td>0.33</td>\n",
       "      <td>0.33</td>\n",
       "      <td>0.25</td>\n",
       "      <td>0.571992</td>\n",
       "      <td>0.287739</td>\n",
       "      <td>0.165189</td>\n",
       "      <td>0.600984</td>\n",
       "      <td>0.613630</td>\n",
       "      <td>29.357064</td>\n",
       "    </tr>\n",
       "    <tr>\n",
       "      <th>10</th>\n",
       "      <td>0.33</td>\n",
       "      <td>0.00</td>\n",
       "      <td>0.25</td>\n",
       "      <td>0.665989</td>\n",
       "      <td>0.050990</td>\n",
       "      <td>0.309644</td>\n",
       "      <td>0.507894</td>\n",
       "      <td>0.695042</td>\n",
       "      <td>29.391430</td>\n",
       "    </tr>\n",
       "    <tr>\n",
       "      <th>2</th>\n",
       "      <td>0.00</td>\n",
       "      <td>0.33</td>\n",
       "      <td>0.25</td>\n",
       "      <td>0.536152</td>\n",
       "      <td>0.126219</td>\n",
       "      <td>0.455073</td>\n",
       "      <td>0.698743</td>\n",
       "      <td>0.105066</td>\n",
       "      <td>30.726598</td>\n",
       "    </tr>\n",
       "    <tr>\n",
       "      <th>5</th>\n",
       "      <td>0.25</td>\n",
       "      <td>0.00</td>\n",
       "      <td>0.25</td>\n",
       "      <td>0.825485</td>\n",
       "      <td>0.133918</td>\n",
       "      <td>0.909714</td>\n",
       "      <td>0.443169</td>\n",
       "      <td>0.579642</td>\n",
       "      <td>32.795576</td>\n",
       "    </tr>\n",
       "    <tr>\n",
       "      <th>18</th>\n",
       "      <td>0.75</td>\n",
       "      <td>0.00</td>\n",
       "      <td>0.25</td>\n",
       "      <td>0.242327</td>\n",
       "      <td>0.250979</td>\n",
       "      <td>0.436333</td>\n",
       "      <td>0.232672</td>\n",
       "      <td>0.842941</td>\n",
       "      <td>32.828545</td>\n",
       "    </tr>\n",
       "    <tr>\n",
       "      <th>4</th>\n",
       "      <td>0.00</td>\n",
       "      <td>0.75</td>\n",
       "      <td>0.25</td>\n",
       "      <td>0.934030</td>\n",
       "      <td>0.371216</td>\n",
       "      <td>0.347549</td>\n",
       "      <td>0.626458</td>\n",
       "      <td>0.766584</td>\n",
       "      <td>33.323455</td>\n",
       "    </tr>\n",
       "    <tr>\n",
       "      <th>0</th>\n",
       "      <td>0.00</td>\n",
       "      <td>0.00</td>\n",
       "      <td>0.25</td>\n",
       "      <td>0.347875</td>\n",
       "      <td>0.328040</td>\n",
       "      <td>0.842198</td>\n",
       "      <td>0.947431</td>\n",
       "      <td>0.422984</td>\n",
       "      <td>34.805950</td>\n",
       "    </tr>\n",
       "  </tbody>\n",
       "</table>\n",
       "</div>"
      ],
      "text/plain": [
       "    alpha  beta  homophily  prob_infection  prob_vaccination  prob_cure  \\\n",
       "8    0.25  0.50       0.25        0.818161          0.008427   0.731191   \n",
       "13   0.33  0.50       0.25        0.706928          0.061085   0.280727   \n",
       "19   0.75  0.25       0.25        0.555140          0.324185   0.851184   \n",
       "17   0.50  0.50       0.25        0.462909          0.186649   0.316037   \n",
       "9    0.25  0.75       0.25        0.782793          0.261562   0.651366   \n",
       "6    0.25  0.25       0.25        0.799404          0.001260   0.862183   \n",
       "11   0.33  0.25       0.25        0.576806          0.114734   0.748037   \n",
       "3    0.00  0.50       0.25        0.237302          0.085620   0.678745   \n",
       "15   0.50  0.25       0.25        0.047901          0.003012   0.627479   \n",
       "1    0.00  0.25       0.25        0.038382          0.003285   0.169062   \n",
       "14   0.50  0.00       0.25        0.709865          0.081490   0.357087   \n",
       "16   0.50  0.33       0.25        0.723617          0.260863   0.627583   \n",
       "20   1.00  0.00       0.25        0.348294          0.957686   0.582828   \n",
       "7    0.25  0.33       0.25        0.852346          0.212073   0.544941   \n",
       "12   0.33  0.33       0.25        0.571992          0.287739   0.165189   \n",
       "10   0.33  0.00       0.25        0.665989          0.050990   0.309644   \n",
       "2    0.00  0.33       0.25        0.536152          0.126219   0.455073   \n",
       "5    0.25  0.00       0.25        0.825485          0.133918   0.909714   \n",
       "18   0.75  0.00       0.25        0.242327          0.250979   0.436333   \n",
       "4    0.00  0.75       0.25        0.934030          0.371216   0.347549   \n",
       "0    0.00  0.00       0.25        0.347875          0.328040   0.842198   \n",
       "\n",
       "    prob_influencer  prob_echo       rmse  \n",
       "8          0.296803   0.367388   2.239058  \n",
       "13         0.942890   0.739112   6.473275  \n",
       "19         0.555215   0.861590   6.561343  \n",
       "17         0.781633   0.358545   6.808571  \n",
       "9          0.622789   0.793123  13.699911  \n",
       "6          0.794482   0.716376  14.036515  \n",
       "11         0.721968   0.654270  21.887891  \n",
       "3          0.836654   0.175695  25.402390  \n",
       "15         0.038375   0.640699  25.484633  \n",
       "1          0.353512   0.319569  25.544227  \n",
       "14         0.884475   0.929503  26.919886  \n",
       "16         0.385786   0.973654  27.733877  \n",
       "20         0.966159   0.748001  28.013031  \n",
       "7          0.853417   0.226910  28.938559  \n",
       "12         0.600984   0.613630  29.357064  \n",
       "10         0.507894   0.695042  29.391430  \n",
       "2          0.698743   0.105066  30.726598  \n",
       "5          0.443169   0.579642  32.795576  \n",
       "18         0.232672   0.842941  32.828545  \n",
       "4          0.626458   0.766584  33.323455  \n",
       "0          0.947431   0.422984  34.805950  "
      ]
     },
     "execution_count": 15,
     "metadata": {},
     "output_type": "execute_result"
    }
   ],
   "source": [
    "parameters_homophily_025 = parameters_homophily_025.sort_values(by='rmse')\n",
    "parameters_homophily_025"
   ]
  },
  {
   "cell_type": "code",
   "execution_count": 16,
   "metadata": {},
   "outputs": [],
   "source": [
    "alpha = parameters_homophily_025['alpha'].iloc[0]\n",
    "beta = parameters_homophily_025['beta'].iloc[0]\n",
    "homophily = parameters_homophily_025['homophily'].iloc[0]\n",
    "prob_infection = parameters_homophily_025['prob_infection'].iloc[0]\n",
    "prob_vaccination = parameters_homophily_025['prob_vaccination'].iloc[0]\n",
    "prob_cure = parameters_homophily_025['prob_cure'].iloc[0]\n",
    "prob_influencer = parameters_homophily_025['prob_influencer'].iloc[0]\n",
    "prob_echo = parameters_homophily_025['prob_echo'].iloc[0]"
   ]
  },
  {
   "cell_type": "code",
   "execution_count": 17,
   "metadata": {},
   "outputs": [],
   "source": [
    "container = NetworksContainer(n_networks=30, n_nodes=n_nodes, \n",
    "                              alpha=alpha, beta=beta, \n",
    "                              delta_in=1, delta_out=1, \n",
    "                              homophily=homophily, n_commons=n_commons, \n",
    "                              n_influencers=n_influencers, n_bots=n_bots, \n",
    "                              n_fact_checkers=n_fact_checkers,\n",
    "                              prob_complaint=0.0, \n",
    "                              prob_infection=prob_infection, \n",
    "                              prob_vaccination=prob_vaccination,\n",
    "                              prob_cure=prob_cure, \n",
    "                              prob_influencer=prob_influencer, \n",
    "                              exp_decay=True, user_block=False, \n",
    "                              prob_echo=prob_echo, epochs=epochs)\n",
    "container.create_network_list(n_initial_infected_nodes=n_initial_infected_nodes)"
   ]
  },
  {
   "cell_type": "code",
   "execution_count": 18,
   "metadata": {},
   "outputs": [],
   "source": [
    "total_y_pred_list_homophily_025 = []\n",
    "\n",
    "for i in range(container.n_networks):   \n",
    "    y_pred_list = []\n",
    "    container.network_list[i].reset_network()\n",
    "    for j in range(container.epochs):\n",
    "        container.network_list[i].update_nodes()\n",
    "    y_pred_list = container.network_list[i].perc_infected\n",
    "    total_y_pred_list_homophily_025.append(y_pred_list)"
   ]
  },
  {
   "cell_type": "code",
   "execution_count": 19,
   "metadata": {},
   "outputs": [],
   "source": [
    "avg_y_pred_list_homophily_025 = [sum(column) / len(column) for column in zip(*total_y_pred_list_homophily_025)]"
   ]
  },
  {
   "cell_type": "code",
   "execution_count": 20,
   "metadata": {},
   "outputs": [],
   "source": [
    "std_y_pred_list_homophily_025 = [np.std(column) for column in zip(*total_y_pred_list_homophily_025)]"
   ]
  },
  {
   "cell_type": "code",
   "execution_count": 21,
   "metadata": {},
   "outputs": [],
   "source": [
    "std_low_y_pred_list_homophily_025 = []\n",
    "std_high_y_pred_list_homophily_025 = []\n",
    "for i in range(len(avg_y_pred_list_homophily_025)):\n",
    "    std_low_y_pred_list_homophily_025.append(avg_y_pred_list_homophily_025[i] - std_y_pred_list_homophily_025[i])\n",
    "    std_high_y_pred_list_homophily_025.append(avg_y_pred_list_homophily_025[i] + std_y_pred_list_homophily_025[i])"
   ]
  },
  {
   "cell_type": "code",
   "execution_count": 22,
   "metadata": {},
   "outputs": [],
   "source": [
    "x = []\n",
    "for i in range(len(endorsers_percentage_list)):\n",
    "    x.append(i)"
   ]
  },
  {
   "cell_type": "code",
   "execution_count": 23,
   "metadata": {},
   "outputs": [
    {
     "data": {
      "image/png": "[encoded data removed]",
      "text/plain": [
       "<Figure size 1200x400 with 1 Axes>"
      ]
     },
     "metadata": {},
     "output_type": "display_data"
    }
   ],
   "source": [
    "fig, axs = plt.subplots(1, 1, figsize=(12, 4))\n",
    "axs.plot(endorsers_percentage_list, c='r', label='Real endorsers percentage', linewidth=1.0)\n",
    "plt.plot(avg_y_pred_list_homophily_025, c='b', label='Simulated endorsers percentage', linewidth=1.0)\n",
    "axs.fill_between(x, avg_y_pred_list_homophily_025, std_low_y_pred_list_homophily_025, color='b', alpha=.1)\n",
    "axs.fill_between(x, avg_y_pred_list_homophily_025, std_high_y_pred_list_homophily_025, color='b', alpha=.1)\n",
    "legend = plt.legend(bbox_to_anchor=(1.05, 1), loc='upper left')\n",
    "plt.xlabel(\"Epoch\")\n",
    "plt.ylabel(\"Percentage of endorsers\")\n",
    "plt.show()"
   ]
  },
  {
   "cell_type": "code",
   "execution_count": 24,
   "metadata": {},
   "outputs": [],
   "source": [
    "x = []\n",
    "endorsers_percentage_list_truncated = []\n",
    "avg_y_pred_list_homophily_025_truncated = []\n",
    "std_low_y_pred_list_homophily_025_truncated = []\n",
    "std_high_y_pred_list_homophily_025_truncated = []\n",
    "for i in range(500):\n",
    "    x.append(i)\n",
    "    endorsers_percentage_list_truncated.append(endorsers_percentage_list[i])\n",
    "    avg_y_pred_list_homophily_025_truncated.append(avg_y_pred_list_homophily_025[i])\n",
    "    std_low_y_pred_list_homophily_025_truncated.append(std_low_y_pred_list_homophily_025[i])\n",
    "    std_high_y_pred_list_homophily_025_truncated.append(std_high_y_pred_list_homophily_025[i])"
   ]
  },
  {
   "cell_type": "code",
   "execution_count": 25,
   "metadata": {},
   "outputs": [
    {
     "data": {
      "image/png": "[encoded data removed]",
      "text/plain": [
       "<Figure size 1200x400 with 1 Axes>"
      ]
     },
     "metadata": {},
     "output_type": "display_data"
    }
   ],
   "source": [
    "fig, axs = plt.subplots(1, 1, figsize=(12, 4))\n",
    "axs.plot(endorsers_percentage_list_truncated, c='r', label='Real endorsers percentage', linewidth=1.0)\n",
    "plt.plot(avg_y_pred_list_homophily_025_truncated, c='b', label='Simulated endorsers percentage', linewidth=1.0)\n",
    "axs.fill_between(x, avg_y_pred_list_homophily_025_truncated, std_low_y_pred_list_homophily_025_truncated, color='b', alpha=.1)\n",
    "axs.fill_between(x, avg_y_pred_list_homophily_025_truncated, std_high_y_pred_list_homophily_025_truncated, color='b', alpha=.1)\n",
    "legend = plt.legend(bbox_to_anchor=(1.05, 1), loc='upper left')\n",
    "plt.xlabel(\"Epoch\")\n",
    "plt.ylabel(\"Percentage of endorsers\")\n",
    "plt.show()"
   ]
  },
  {
   "cell_type": "code",
   "execution_count": 26,
   "metadata": {},
   "outputs": [
    {
     "name": "stdout",
     "output_type": "stream",
     "text": [
      "Mean 0.25:  -27.100336920276412\n",
      "Standard deviation 0.25:  1.9708958860499945\n"
     ]
    }
   ],
   "source": [
    "y_true = endorsers_percentage_list\n",
    "\n",
    "neg_rmse_list_homophily_025 = []\n",
    "for i in range(container.n_networks):\n",
    "        mse = mean_squared_error(y_true=y_true, y_pred=total_y_pred_list_homophily_025[i])\n",
    "        neg_rmse = - np.sqrt(mse)\n",
    "        neg_rmse_list_homophily_025.append(neg_rmse)\n",
    "    \n",
    "mean_neg_rmse_homophily_025 = np.mean(neg_rmse_list_homophily_025)\n",
    "std_neg_rmse_homophily_025 = np.std(neg_rmse_list_homophily_025)\n",
    "print(\"Mean 0.25: \", mean_neg_rmse_homophily_025)\n",
    "print(\"Standard deviation 0.25: \", std_neg_rmse_homophily_025)"
   ]
  },
  {
   "cell_type": "code",
   "execution_count": 27,
   "metadata": {},
   "outputs": [],
   "source": [
    "df_total_y_pred_list_homophily_025 = pd.DataFrame(total_y_pred_list_homophily_025).T\n",
    "df_total_y_pred_list_homophily_025.to_csv(\"validation_obama_endorsers_percentages_homophily_0.25.csv\", index=False, header=False)"
   ]
  },
  {
   "cell_type": "code",
   "execution_count": 28,
   "metadata": {},
   "outputs": [],
   "source": [
    "df_statistics_homophily_025 = pd.DataFrame(avg_y_pred_list_homophily_025).T\n",
    "df_statistics_homophily_025.loc[1] = std_y_pred_list_homophily_025\n",
    "df_statistics_homophily_025.loc[2] = std_high_y_pred_list_homophily_025\n",
    "df_statistics_homophily_025.loc[3] = std_low_y_pred_list_homophily_025\n",
    "df_statistics_homophily_025.to_csv(\"validation_obama_statistics_homophily_0.25.csv\", index=False, header=False)"
   ]
  },
  {
   "cell_type": "code",
   "execution_count": 29,
   "metadata": {},
   "outputs": [],
   "source": [
    "df_rmse_homophily_025 = pd.DataFrame(neg_rmse_list_homophily_025).T\n",
    "df_rmse_homophily_025.to_csv(\"validation_obama_rmse_homophily_0.25.csv\", index=False, header=False)"
   ]
  },
  {
   "cell_type": "code",
   "execution_count": null,
   "metadata": {},
   "outputs": [],
   "source": []
  }
 ],
 "metadata": {
  "kernelspec": {
   "display_name": "SCMS",
   "language": "python",
   "name": "python3"
  },
  "language_info": {
   "codemirror_mode": {
    "name": "ipython",
    "version": 3
   },
   "file_extension": ".py",
   "mimetype": "text/x-python",
   "name": "python",
   "nbconvert_exporter": "python",
   "pygments_lexer": "ipython3",
   "version": "3.10.4"
  },
  "orig_nbformat": 4,
  "vscode": {
   "interpreter": {
    "hash": "c97dbac1812ec30b48a7f39712c01c480bd467df285f0a5249fb97075fa3baaf"
   }
  }
 },
 "nbformat": 4,
 "nbformat_minor": 2
}
