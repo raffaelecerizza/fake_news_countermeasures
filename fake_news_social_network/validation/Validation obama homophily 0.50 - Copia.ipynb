{
 "cells": [
  {
   "cell_type": "code",
   "execution_count": 1,
   "metadata": {},
   "outputs": [],
   "source": [
    "import os\n",
    "import sys\n",
    "import tqdm\n",
    "import random\n",
    "import numpy as np\n",
    "import pandas as pd\n",
    "import matplotlib.pyplot as plt\n",
    "from numpy.random import seed\n",
    "from skopt import BayesSearchCV\n",
    "from sklearn.base import BaseEstimator\n",
    "from sklearn.metrics import mean_squared_error\n",
    "\n",
    "sys.path.append('.')\n",
    "sys.path.append('../../')\n",
    "sys.path.append('../network_model/')\n",
    "\n",
    "notebook_path = os.getcwd()\n",
    "project_path = os.path.abspath(os.path.join(notebook_path, '..'))\n",
    "sys.path.append(project_path)\n",
    "\n",
    "from network_model.network_classes import Network\n",
    "from networks_container import NetworksContainer\n",
    "from estimator import Estimator"
   ]
  },
  {
   "cell_type": "code",
   "execution_count": 2,
   "metadata": {},
   "outputs": [],
   "source": [
    "cherrypicked_seed = 42\n",
    "\n",
    "seed(cherrypicked_seed)\n",
    "random.seed(cherrypicked_seed)"
   ]
  },
  {
   "cell_type": "code",
   "execution_count": 3,
   "metadata": {},
   "outputs": [],
   "source": [
    "dataset_obama = pd.read_csv(\"../datasets/obamaAnonimized.csv\", dtype=str)"
   ]
  },
  {
   "cell_type": "code",
   "execution_count": 4,
   "metadata": {},
   "outputs": [],
   "source": [
    "endorsers_percentage_list = pd.read_csv(\"../datasets/obama_endorsers_hours_percentage_list.csv\", dtype=int, header=None)\n",
    "endorsers_percentage_list = endorsers_percentage_list.values.tolist()\n",
    "endorsers_percentage_list = [item for sublist in endorsers_percentage_list for item in sublist]"
   ]
  },
  {
   "cell_type": "code",
   "execution_count": 5,
   "metadata": {},
   "outputs": [
    {
     "name": "stdout",
     "output_type": "stream",
     "text": [
      "4730\n"
     ]
    }
   ],
   "source": [
    "print(len(endorsers_percentage_list))"
   ]
  },
  {
   "cell_type": "code",
   "execution_count": 6,
   "metadata": {},
   "outputs": [],
   "source": [
    "# Tolgo 1 in quanto considero la prima epoca come lo stato iniziale\n",
    "epochs = len(endorsers_percentage_list) - 1"
   ]
  },
  {
   "cell_type": "code",
   "execution_count": 7,
   "metadata": {},
   "outputs": [
    {
     "name": "stdout",
     "output_type": "stream",
     "text": [
      "4337\n"
     ]
    }
   ],
   "source": [
    "print(len(dataset_obama))"
   ]
  },
  {
   "cell_type": "code",
   "execution_count": 8,
   "metadata": {},
   "outputs": [
    {
     "data": {
      "text/plain": [
       "2678"
      ]
     },
     "execution_count": 8,
     "metadata": {},
     "output_type": "execute_result"
    }
   ],
   "source": [
    "n_nodes = 2678\n",
    "n_nodes"
   ]
  },
  {
   "cell_type": "code",
   "execution_count": 9,
   "metadata": {},
   "outputs": [
    {
     "data": {
      "text/plain": [
       "27"
      ]
     },
     "execution_count": 9,
     "metadata": {},
     "output_type": "execute_result"
    }
   ],
   "source": [
    "n_bots = round((1 / 100) * n_nodes)\n",
    "n_bots"
   ]
  },
  {
   "cell_type": "code",
   "execution_count": 10,
   "metadata": {},
   "outputs": [
    {
     "data": {
      "text/plain": [
       "27"
      ]
     },
     "execution_count": 10,
     "metadata": {},
     "output_type": "execute_result"
    }
   ],
   "source": [
    "n_fact_checkers = round((1 / 100) * n_nodes)\n",
    "n_fact_checkers"
   ]
  },
  {
   "cell_type": "code",
   "execution_count": 11,
   "metadata": {},
   "outputs": [],
   "source": [
    "n_influencers = 29"
   ]
  },
  {
   "cell_type": "code",
   "execution_count": 12,
   "metadata": {},
   "outputs": [
    {
     "data": {
      "text/plain": [
       "2595"
      ]
     },
     "execution_count": 12,
     "metadata": {},
     "output_type": "execute_result"
    }
   ],
   "source": [
    "n_commons = n_nodes - n_bots - n_fact_checkers - n_influencers\n",
    "n_commons"
   ]
  },
  {
   "cell_type": "code",
   "execution_count": 13,
   "metadata": {},
   "outputs": [
    {
     "data": {
      "text/plain": [
       "0"
      ]
     },
     "execution_count": 13,
     "metadata": {},
     "output_type": "execute_result"
    }
   ],
   "source": [
    "n_initial_infected_nodes = round((1 / 100) * n_nodes) - n_bots\n",
    "n_initial_infected_nodes"
   ]
  },
  {
   "attachments": {},
   "cell_type": "markdown",
   "metadata": {},
   "source": [
    "# Validation for homophily 0.50"
   ]
  },
  {
   "cell_type": "code",
   "execution_count": 14,
   "metadata": {},
   "outputs": [],
   "source": [
    "# Prendo i parametri calibrati con un dataset diverso da quello usato per la validazione\n",
    "parameters_homophily_050 = pd.read_csv(\"./parameters/parameters_optimization_palin_hours_homophily_0.50.csv\")"
   ]
  },
  {
   "cell_type": "code",
   "execution_count": 15,
   "metadata": {},
   "outputs": [
    {
     "data": {
      "text/html": [
       "<div>\n",
       "<style scoped>\n",
       "    .dataframe tbody tr th:only-of-type {\n",
       "        vertical-align: middle;\n",
       "    }\n",
       "\n",
       "    .dataframe tbody tr th {\n",
       "        vertical-align: top;\n",
       "    }\n",
       "\n",
       "    .dataframe thead th {\n",
       "        text-align: right;\n",
       "    }\n",
       "</style>\n",
       "<table border=\"1\" class=\"dataframe\">\n",
       "  <thead>\n",
       "    <tr style=\"text-align: right;\">\n",
       "      <th></th>\n",
       "      <th>alpha</th>\n",
       "      <th>beta</th>\n",
       "      <th>homophily</th>\n",
       "      <th>prob_infection</th>\n",
       "      <th>prob_vaccination</th>\n",
       "      <th>prob_cure</th>\n",
       "      <th>prob_influencer</th>\n",
       "      <th>prob_echo</th>\n",
       "      <th>rmse</th>\n",
       "    </tr>\n",
       "  </thead>\n",
       "  <tbody>\n",
       "    <tr>\n",
       "      <th>8</th>\n",
       "      <td>0.25</td>\n",
       "      <td>0.50</td>\n",
       "      <td>0.5</td>\n",
       "      <td>0.443859</td>\n",
       "      <td>0.098546</td>\n",
       "      <td>0.127511</td>\n",
       "      <td>0.941369</td>\n",
       "      <td>0.042834</td>\n",
       "      <td>2.061167</td>\n",
       "    </tr>\n",
       "    <tr>\n",
       "      <th>13</th>\n",
       "      <td>0.33</td>\n",
       "      <td>0.50</td>\n",
       "      <td>0.5</td>\n",
       "      <td>0.100720</td>\n",
       "      <td>0.029019</td>\n",
       "      <td>0.626069</td>\n",
       "      <td>0.359240</td>\n",
       "      <td>0.451349</td>\n",
       "      <td>3.733030</td>\n",
       "    </tr>\n",
       "    <tr>\n",
       "      <th>16</th>\n",
       "      <td>0.50</td>\n",
       "      <td>0.33</td>\n",
       "      <td>0.5</td>\n",
       "      <td>0.856125</td>\n",
       "      <td>0.187407</td>\n",
       "      <td>0.125657</td>\n",
       "      <td>0.702822</td>\n",
       "      <td>0.868028</td>\n",
       "      <td>3.921738</td>\n",
       "    </tr>\n",
       "    <tr>\n",
       "      <th>17</th>\n",
       "      <td>0.50</td>\n",
       "      <td>0.50</td>\n",
       "      <td>0.5</td>\n",
       "      <td>0.845530</td>\n",
       "      <td>0.419042</td>\n",
       "      <td>0.237069</td>\n",
       "      <td>0.896393</td>\n",
       "      <td>0.344756</td>\n",
       "      <td>5.846353</td>\n",
       "    </tr>\n",
       "    <tr>\n",
       "      <th>7</th>\n",
       "      <td>0.25</td>\n",
       "      <td>0.33</td>\n",
       "      <td>0.5</td>\n",
       "      <td>0.492750</td>\n",
       "      <td>0.005327</td>\n",
       "      <td>0.735202</td>\n",
       "      <td>0.805541</td>\n",
       "      <td>0.050565</td>\n",
       "      <td>8.436895</td>\n",
       "    </tr>\n",
       "    <tr>\n",
       "      <th>15</th>\n",
       "      <td>0.50</td>\n",
       "      <td>0.25</td>\n",
       "      <td>0.5</td>\n",
       "      <td>0.092425</td>\n",
       "      <td>0.386219</td>\n",
       "      <td>0.848022</td>\n",
       "      <td>0.999040</td>\n",
       "      <td>0.067329</td>\n",
       "      <td>9.511836</td>\n",
       "    </tr>\n",
       "    <tr>\n",
       "      <th>19</th>\n",
       "      <td>0.75</td>\n",
       "      <td>0.25</td>\n",
       "      <td>0.5</td>\n",
       "      <td>0.160062</td>\n",
       "      <td>0.484532</td>\n",
       "      <td>0.858237</td>\n",
       "      <td>0.878654</td>\n",
       "      <td>0.755461</td>\n",
       "      <td>11.697097</td>\n",
       "    </tr>\n",
       "    <tr>\n",
       "      <th>9</th>\n",
       "      <td>0.25</td>\n",
       "      <td>0.75</td>\n",
       "      <td>0.5</td>\n",
       "      <td>0.365273</td>\n",
       "      <td>0.504495</td>\n",
       "      <td>0.947275</td>\n",
       "      <td>0.941644</td>\n",
       "      <td>0.877097</td>\n",
       "      <td>11.747540</td>\n",
       "    </tr>\n",
       "    <tr>\n",
       "      <th>11</th>\n",
       "      <td>0.33</td>\n",
       "      <td>0.25</td>\n",
       "      <td>0.5</td>\n",
       "      <td>0.252417</td>\n",
       "      <td>0.061354</td>\n",
       "      <td>0.004153</td>\n",
       "      <td>0.993620</td>\n",
       "      <td>0.710981</td>\n",
       "      <td>12.297983</td>\n",
       "    </tr>\n",
       "    <tr>\n",
       "      <th>4</th>\n",
       "      <td>0.00</td>\n",
       "      <td>0.75</td>\n",
       "      <td>0.5</td>\n",
       "      <td>0.118196</td>\n",
       "      <td>0.163733</td>\n",
       "      <td>0.220993</td>\n",
       "      <td>0.913153</td>\n",
       "      <td>0.597945</td>\n",
       "      <td>16.072907</td>\n",
       "    </tr>\n",
       "    <tr>\n",
       "      <th>6</th>\n",
       "      <td>0.25</td>\n",
       "      <td>0.25</td>\n",
       "      <td>0.5</td>\n",
       "      <td>0.402708</td>\n",
       "      <td>0.079118</td>\n",
       "      <td>0.254486</td>\n",
       "      <td>0.908293</td>\n",
       "      <td>0.895350</td>\n",
       "      <td>18.071497</td>\n",
       "    </tr>\n",
       "    <tr>\n",
       "      <th>18</th>\n",
       "      <td>0.75</td>\n",
       "      <td>0.00</td>\n",
       "      <td>0.5</td>\n",
       "      <td>0.953487</td>\n",
       "      <td>0.088089</td>\n",
       "      <td>0.819348</td>\n",
       "      <td>0.940414</td>\n",
       "      <td>0.092886</td>\n",
       "      <td>23.603738</td>\n",
       "    </tr>\n",
       "    <tr>\n",
       "      <th>20</th>\n",
       "      <td>1.00</td>\n",
       "      <td>0.00</td>\n",
       "      <td>0.5</td>\n",
       "      <td>0.017352</td>\n",
       "      <td>0.545056</td>\n",
       "      <td>0.667407</td>\n",
       "      <td>0.291615</td>\n",
       "      <td>0.642635</td>\n",
       "      <td>24.267319</td>\n",
       "    </tr>\n",
       "    <tr>\n",
       "      <th>3</th>\n",
       "      <td>0.00</td>\n",
       "      <td>0.50</td>\n",
       "      <td>0.5</td>\n",
       "      <td>0.035587</td>\n",
       "      <td>0.085279</td>\n",
       "      <td>0.974816</td>\n",
       "      <td>0.601947</td>\n",
       "      <td>0.440843</td>\n",
       "      <td>25.107870</td>\n",
       "    </tr>\n",
       "    <tr>\n",
       "      <th>14</th>\n",
       "      <td>0.50</td>\n",
       "      <td>0.00</td>\n",
       "      <td>0.5</td>\n",
       "      <td>0.061544</td>\n",
       "      <td>0.007363</td>\n",
       "      <td>0.546188</td>\n",
       "      <td>0.828568</td>\n",
       "      <td>0.812333</td>\n",
       "      <td>26.144028</td>\n",
       "    </tr>\n",
       "    <tr>\n",
       "      <th>2</th>\n",
       "      <td>0.00</td>\n",
       "      <td>0.33</td>\n",
       "      <td>0.5</td>\n",
       "      <td>0.848057</td>\n",
       "      <td>0.037934</td>\n",
       "      <td>0.296676</td>\n",
       "      <td>0.468683</td>\n",
       "      <td>0.848552</td>\n",
       "      <td>26.301925</td>\n",
       "    </tr>\n",
       "    <tr>\n",
       "      <th>1</th>\n",
       "      <td>0.00</td>\n",
       "      <td>0.25</td>\n",
       "      <td>0.5</td>\n",
       "      <td>0.291533</td>\n",
       "      <td>0.065632</td>\n",
       "      <td>0.746930</td>\n",
       "      <td>0.935470</td>\n",
       "      <td>0.323327</td>\n",
       "      <td>26.930009</td>\n",
       "    </tr>\n",
       "    <tr>\n",
       "      <th>12</th>\n",
       "      <td>0.33</td>\n",
       "      <td>0.33</td>\n",
       "      <td>0.5</td>\n",
       "      <td>0.146741</td>\n",
       "      <td>0.838546</td>\n",
       "      <td>0.055249</td>\n",
       "      <td>0.920676</td>\n",
       "      <td>0.678317</td>\n",
       "      <td>27.961285</td>\n",
       "    </tr>\n",
       "    <tr>\n",
       "      <th>10</th>\n",
       "      <td>0.33</td>\n",
       "      <td>0.00</td>\n",
       "      <td>0.5</td>\n",
       "      <td>0.877706</td>\n",
       "      <td>0.198097</td>\n",
       "      <td>0.047475</td>\n",
       "      <td>0.338947</td>\n",
       "      <td>0.740148</td>\n",
       "      <td>32.870191</td>\n",
       "    </tr>\n",
       "    <tr>\n",
       "      <th>0</th>\n",
       "      <td>0.00</td>\n",
       "      <td>0.00</td>\n",
       "      <td>0.5</td>\n",
       "      <td>0.347875</td>\n",
       "      <td>0.328040</td>\n",
       "      <td>0.842198</td>\n",
       "      <td>0.947431</td>\n",
       "      <td>0.422984</td>\n",
       "      <td>33.392833</td>\n",
       "    </tr>\n",
       "    <tr>\n",
       "      <th>5</th>\n",
       "      <td>0.25</td>\n",
       "      <td>0.00</td>\n",
       "      <td>0.5</td>\n",
       "      <td>0.861757</td>\n",
       "      <td>0.366898</td>\n",
       "      <td>0.452570</td>\n",
       "      <td>0.447949</td>\n",
       "      <td>0.823765</td>\n",
       "      <td>33.414271</td>\n",
       "    </tr>\n",
       "  </tbody>\n",
       "</table>\n",
       "</div>"
      ],
      "text/plain": [
       "    alpha  beta  homophily  prob_infection  prob_vaccination  prob_cure  \\\n",
       "8    0.25  0.50        0.5        0.443859          0.098546   0.127511   \n",
       "13   0.33  0.50        0.5        0.100720          0.029019   0.626069   \n",
       "16   0.50  0.33        0.5        0.856125          0.187407   0.125657   \n",
       "17   0.50  0.50        0.5        0.845530          0.419042   0.237069   \n",
       "7    0.25  0.33        0.5        0.492750          0.005327   0.735202   \n",
       "15   0.50  0.25        0.5        0.092425          0.386219   0.848022   \n",
       "19   0.75  0.25        0.5        0.160062          0.484532   0.858237   \n",
       "9    0.25  0.75        0.5        0.365273          0.504495   0.947275   \n",
       "11   0.33  0.25        0.5        0.252417          0.061354   0.004153   \n",
       "4    0.00  0.75        0.5        0.118196          0.163733   0.220993   \n",
       "6    0.25  0.25        0.5        0.402708          0.079118   0.254486   \n",
       "18   0.75  0.00        0.5        0.953487          0.088089   0.819348   \n",
       "20   1.00  0.00        0.5        0.017352          0.545056   0.667407   \n",
       "3    0.00  0.50        0.5        0.035587          0.085279   0.974816   \n",
       "14   0.50  0.00        0.5        0.061544          0.007363   0.546188   \n",
       "2    0.00  0.33        0.5        0.848057          0.037934   0.296676   \n",
       "1    0.00  0.25        0.5        0.291533          0.065632   0.746930   \n",
       "12   0.33  0.33        0.5        0.146741          0.838546   0.055249   \n",
       "10   0.33  0.00        0.5        0.877706          0.198097   0.047475   \n",
       "0    0.00  0.00        0.5        0.347875          0.328040   0.842198   \n",
       "5    0.25  0.00        0.5        0.861757          0.366898   0.452570   \n",
       "\n",
       "    prob_influencer  prob_echo       rmse  \n",
       "8          0.941369   0.042834   2.061167  \n",
       "13         0.359240   0.451349   3.733030  \n",
       "16         0.702822   0.868028   3.921738  \n",
       "17         0.896393   0.344756   5.846353  \n",
       "7          0.805541   0.050565   8.436895  \n",
       "15         0.999040   0.067329   9.511836  \n",
       "19         0.878654   0.755461  11.697097  \n",
       "9          0.941644   0.877097  11.747540  \n",
       "11         0.993620   0.710981  12.297983  \n",
       "4          0.913153   0.597945  16.072907  \n",
       "6          0.908293   0.895350  18.071497  \n",
       "18         0.940414   0.092886  23.603738  \n",
       "20         0.291615   0.642635  24.267319  \n",
       "3          0.601947   0.440843  25.107870  \n",
       "14         0.828568   0.812333  26.144028  \n",
       "2          0.468683   0.848552  26.301925  \n",
       "1          0.935470   0.323327  26.930009  \n",
       "12         0.920676   0.678317  27.961285  \n",
       "10         0.338947   0.740148  32.870191  \n",
       "0          0.947431   0.422984  33.392833  \n",
       "5          0.447949   0.823765  33.414271  "
      ]
     },
     "execution_count": 15,
     "metadata": {},
     "output_type": "execute_result"
    }
   ],
   "source": [
    "parameters_homophily_050 = parameters_homophily_050.sort_values(by='rmse')\n",
    "parameters_homophily_050"
   ]
  },
  {
   "cell_type": "code",
   "execution_count": 16,
   "metadata": {},
   "outputs": [],
   "source": [
    "alpha = parameters_homophily_050['alpha'].iloc[0]\n",
    "beta = parameters_homophily_050['beta'].iloc[0]\n",
    "homophily = parameters_homophily_050['homophily'].iloc[0]\n",
    "prob_infection = parameters_homophily_050['prob_infection'].iloc[0]\n",
    "prob_vaccination = parameters_homophily_050['prob_vaccination'].iloc[0]\n",
    "prob_cure = parameters_homophily_050['prob_cure'].iloc[0]\n",
    "prob_influencer = parameters_homophily_050['prob_influencer'].iloc[0]\n",
    "prob_echo = parameters_homophily_050['prob_echo'].iloc[0]"
   ]
  },
  {
   "cell_type": "code",
   "execution_count": 17,
   "metadata": {},
   "outputs": [],
   "source": [
    "container = NetworksContainer(n_networks=30, n_nodes=n_nodes, \n",
    "                              alpha=alpha, beta=beta, \n",
    "                              delta_in=1, delta_out=1, \n",
    "                              homophily=homophily, n_commons=n_commons, \n",
    "                              n_influencers=n_influencers, n_bots=n_bots, \n",
    "                              n_fact_checkers=n_fact_checkers,\n",
    "                              prob_complaint=0.0, \n",
    "                              prob_infection=prob_infection, \n",
    "                              prob_vaccination=prob_vaccination,\n",
    "                              prob_cure=prob_cure, \n",
    "                              prob_influencer=prob_influencer, \n",
    "                              exp_decay=True, user_block=False, \n",
    "                              prob_echo=prob_echo, epochs=epochs)\n",
    "container.create_network_list(n_initial_infected_nodes=n_initial_infected_nodes)"
   ]
  },
  {
   "cell_type": "code",
   "execution_count": 18,
   "metadata": {},
   "outputs": [],
   "source": [
    "total_y_pred_list_homophily_050 = []\n",
    "\n",
    "for i in range(container.n_networks):   \n",
    "    y_pred_list = []\n",
    "    container.network_list[i].reset_network()\n",
    "    for j in range(container.epochs):\n",
    "        container.network_list[i].update_nodes()\n",
    "    y_pred_list = container.network_list[i].perc_infected\n",
    "    total_y_pred_list_homophily_050.append(y_pred_list)"
   ]
  },
  {
   "cell_type": "code",
   "execution_count": 19,
   "metadata": {},
   "outputs": [],
   "source": [
    "avg_y_pred_list_homophily_050 = [sum(column) / len(column) for column in zip(*total_y_pred_list_homophily_050)]"
   ]
  },
  {
   "cell_type": "code",
   "execution_count": 20,
   "metadata": {},
   "outputs": [],
   "source": [
    "std_y_pred_list_homophily_050 = [np.std(column) for column in zip(*total_y_pred_list_homophily_050)]"
   ]
  },
  {
   "cell_type": "code",
   "execution_count": 21,
   "metadata": {},
   "outputs": [],
   "source": [
    "std_low_y_pred_list_homophily_050 = []\n",
    "std_high_y_pred_list_homophily_050 = []\n",
    "for i in range(len(avg_y_pred_list_homophily_050)):\n",
    "    std_low_y_pred_list_homophily_050.append(avg_y_pred_list_homophily_050[i] - std_y_pred_list_homophily_050[i])\n",
    "    std_high_y_pred_list_homophily_050.append(avg_y_pred_list_homophily_050[i] + std_y_pred_list_homophily_050[i])"
   ]
  },
  {
   "cell_type": "code",
   "execution_count": 22,
   "metadata": {},
   "outputs": [],
   "source": [
    "x = []\n",
    "for i in range(len(endorsers_percentage_list)):\n",
    "    x.append(i)"
   ]
  },
  {
   "cell_type": "code",
   "execution_count": 23,
   "metadata": {},
   "outputs": [
    {
     "data": {
      "image/png": "[encoded data removed]",
      "text/plain": [
       "<Figure size 1200x400 with 1 Axes>"
      ]
     },
     "metadata": {},
     "output_type": "display_data"
    }
   ],
   "source": [
    "fig, axs = plt.subplots(1, 1, figsize=(12, 4))\n",
    "axs.plot(endorsers_percentage_list, c='r', label='Real endorsers percentage', linewidth=1.0)\n",
    "plt.plot(avg_y_pred_list_homophily_050, c='b', label='Simulated endorsers percentage', linewidth=1.0)\n",
    "axs.fill_between(x, avg_y_pred_list_homophily_050, std_low_y_pred_list_homophily_050, color='b', alpha=.1)\n",
    "axs.fill_between(x, avg_y_pred_list_homophily_050, std_high_y_pred_list_homophily_050, color='b', alpha=.1)\n",
    "legend = plt.legend(bbox_to_anchor=(1.05, 1), loc='upper left')\n",
    "plt.xlabel(\"Epoch\")\n",
    "plt.ylabel(\"Percentage of endorsers\")\n",
    "plt.show()"
   ]
  },
  {
   "cell_type": "code",
   "execution_count": 24,
   "metadata": {},
   "outputs": [],
   "source": [
    "x = []\n",
    "endorsers_percentage_list_truncated = []\n",
    "avg_y_pred_list_homophily_050_truncated = []\n",
    "std_low_y_pred_list_homophily_050_truncated = []\n",
    "std_high_y_pred_list_homophily_050_truncated = []\n",
    "for i in range(500):\n",
    "    x.append(i)\n",
    "    endorsers_percentage_list_truncated.append(endorsers_percentage_list[i])\n",
    "    avg_y_pred_list_homophily_050_truncated.append(avg_y_pred_list_homophily_050[i])\n",
    "    std_low_y_pred_list_homophily_050_truncated.append(std_low_y_pred_list_homophily_050[i])\n",
    "    std_high_y_pred_list_homophily_050_truncated.append(std_high_y_pred_list_homophily_050[i])"
   ]
  },
  {
   "cell_type": "code",
   "execution_count": 25,
   "metadata": {},
   "outputs": [
    {
     "data": {
      "image/png": "[encoded data removed]",
      "text/plain": [
       "<Figure size 1200x400 with 1 Axes>"
      ]
     },
     "metadata": {},
     "output_type": "display_data"
    }
   ],
   "source": [
    "fig, axs = plt.subplots(1, 1, figsize=(12, 4))\n",
    "axs.plot(endorsers_percentage_list_truncated, c='r', label='Real endorsers percentage', linewidth=1.0)\n",
    "plt.plot(avg_y_pred_list_homophily_050_truncated, c='b', label='Simulated endorsers percentage', linewidth=1.0)\n",
    "axs.fill_between(x, avg_y_pred_list_homophily_050_truncated, std_low_y_pred_list_homophily_050_truncated, color='b', alpha=.1)\n",
    "axs.fill_between(x, avg_y_pred_list_homophily_050_truncated, std_high_y_pred_list_homophily_050_truncated, color='b', alpha=.1)\n",
    "legend = plt.legend(bbox_to_anchor=(1.05, 1), loc='upper left')\n",
    "plt.xlabel(\"Epoch\")\n",
    "plt.ylabel(\"Percentage of endorsers\")\n",
    "plt.show()"
   ]
  },
  {
   "cell_type": "code",
   "execution_count": 26,
   "metadata": {},
   "outputs": [
    {
     "name": "stdout",
     "output_type": "stream",
     "text": [
      "Mean 0.50:  -5.600997741334781\n",
      "Standard deviation 0.50:  3.3784791080260383\n"
     ]
    }
   ],
   "source": [
    "y_true = endorsers_percentage_list\n",
    "\n",
    "neg_rmse_list_homophily_050 = []\n",
    "for i in range(container.n_networks):\n",
    "        mse = mean_squared_error(y_true=y_true, y_pred=total_y_pred_list_homophily_050[i])\n",
    "        neg_rmse = - np.sqrt(mse)\n",
    "        neg_rmse_list_homophily_050.append(neg_rmse)\n",
    "    \n",
    "mean_neg_rmse_homophily_050 = np.mean(neg_rmse_list_homophily_050)\n",
    "std_neg_rmse_homophily_050 = np.std(neg_rmse_list_homophily_050)\n",
    "print(\"Mean 0.50: \", mean_neg_rmse_homophily_050)\n",
    "print(\"Standard deviation 0.50: \", std_neg_rmse_homophily_050)"
   ]
  },
  {
   "cell_type": "code",
   "execution_count": 27,
   "metadata": {},
   "outputs": [],
   "source": [
    "df_total_y_pred_list_homophily_050 = pd.DataFrame(total_y_pred_list_homophily_050).T\n",
    "df_total_y_pred_list_homophily_050.to_csv(\"validation_obama_endorsers_percentages_homophily_0.50.csv\", index=False, header=False)"
   ]
  },
  {
   "cell_type": "code",
   "execution_count": 28,
   "metadata": {},
   "outputs": [],
   "source": [
    "df_statistics_homophily_050 = pd.DataFrame(avg_y_pred_list_homophily_050).T\n",
    "df_statistics_homophily_050.loc[1] = std_y_pred_list_homophily_050\n",
    "df_statistics_homophily_050.loc[2] = std_high_y_pred_list_homophily_050\n",
    "df_statistics_homophily_050.loc[3] = std_low_y_pred_list_homophily_050\n",
    "df_statistics_homophily_050.to_csv(\"validation_obama_statistics_homophily_0.50.csv\", index=False, header=False)"
   ]
  },
  {
   "cell_type": "code",
   "execution_count": 29,
   "metadata": {},
   "outputs": [],
   "source": [
    "df_rmse_homophily_050 = pd.DataFrame(neg_rmse_list_homophily_050).T\n",
    "df_rmse_homophily_050.to_csv(\"validation_obama_rmse_homophily_0.50.csv\", index=False, header=False)"
   ]
  },
  {
   "cell_type": "code",
   "execution_count": null,
   "metadata": {},
   "outputs": [],
   "source": []
  }
 ],
 "metadata": {
  "kernelspec": {
   "display_name": "SCMS",
   "language": "python",
   "name": "python3"
  },
  "language_info": {
   "codemirror_mode": {
    "name": "ipython",
    "version": 3
   },
   "file_extension": ".py",
   "mimetype": "text/x-python",
   "name": "python",
   "nbconvert_exporter": "python",
   "pygments_lexer": "ipython3",
   "version": "3.10.4"
  },
  "orig_nbformat": 4,
  "vscode": {
   "interpreter": {
    "hash": "c97dbac1812ec30b48a7f39712c01c480bd467df285f0a5249fb97075fa3baaf"
   }
  }
 },
 "nbformat": 4,
 "nbformat_minor": 2
}
