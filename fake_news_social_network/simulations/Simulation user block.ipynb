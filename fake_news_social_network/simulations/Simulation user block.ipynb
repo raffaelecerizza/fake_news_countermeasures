{
 "cells": [
  {
   "cell_type": "code",
   "execution_count": 1,
   "metadata": {},
   "outputs": [],
   "source": [
    "import os\n",
    "import sys\n",
    "import tqdm\n",
    "import random\n",
    "import numpy as np\n",
    "import pandas as pd\n",
    "import matplotlib.pyplot as plt\n",
    "from numpy.random import seed\n",
    "from skopt import BayesSearchCV\n",
    "from sklearn.base import BaseEstimator\n",
    "from sklearn.metrics import mean_squared_error\n",
    "\n",
    "sys.path.append('.')\n",
    "sys.path.append('../../')\n",
    "sys.path.append('../network_model/')\n",
    "sys.path.append('../validation/')\n",
    "\n",
    "notebook_path = os.getcwd()\n",
    "project_path = os.path.abspath(os.path.join(notebook_path, '..'))\n",
    "sys.path.append(project_path)\n",
    "\n",
    "from network_model.network_classes import Network\n",
    "from networks_container import NetworksContainer\n",
    "from estimator import Estimator"
   ]
  },
  {
   "cell_type": "code",
   "execution_count": 2,
   "metadata": {},
   "outputs": [],
   "source": [
    "cherrypicked_seed = 42\n",
    "\n",
    "seed(cherrypicked_seed)\n",
    "random.seed(cherrypicked_seed)"
   ]
  },
  {
   "cell_type": "code",
   "execution_count": 3,
   "metadata": {},
   "outputs": [],
   "source": [
    "epochs = 1000"
   ]
  },
  {
   "cell_type": "code",
   "execution_count": 4,
   "metadata": {},
   "outputs": [
    {
     "data": {
      "text/plain": [
       "2000"
      ]
     },
     "execution_count": 4,
     "metadata": {},
     "output_type": "execute_result"
    }
   ],
   "source": [
    "n_nodes = 2000\n",
    "n_nodes"
   ]
  },
  {
   "cell_type": "code",
   "execution_count": 5,
   "metadata": {},
   "outputs": [
    {
     "data": {
      "text/plain": [
       "40"
      ]
     },
     "execution_count": 5,
     "metadata": {},
     "output_type": "execute_result"
    }
   ],
   "source": [
    "n_bots = round((2 / 100) * n_nodes)\n",
    "n_bots"
   ]
  },
  {
   "cell_type": "code",
   "execution_count": 6,
   "metadata": {},
   "outputs": [
    {
     "data": {
      "text/plain": [
       "40"
      ]
     },
     "execution_count": 6,
     "metadata": {},
     "output_type": "execute_result"
    }
   ],
   "source": [
    "n_fact_checkers = round((2 / 100) * n_nodes)\n",
    "n_fact_checkers"
   ]
  },
  {
   "cell_type": "code",
   "execution_count": 7,
   "metadata": {},
   "outputs": [],
   "source": [
    "n_influencers = 20"
   ]
  },
  {
   "cell_type": "code",
   "execution_count": 8,
   "metadata": {},
   "outputs": [
    {
     "data": {
      "text/plain": [
       "1900"
      ]
     },
     "execution_count": 8,
     "metadata": {},
     "output_type": "execute_result"
    }
   ],
   "source": [
    "n_commons = n_nodes - n_bots - n_fact_checkers - n_influencers\n",
    "n_commons"
   ]
  },
  {
   "cell_type": "code",
   "execution_count": 9,
   "metadata": {},
   "outputs": [
    {
     "data": {
      "text/plain": [
       "60"
      ]
     },
     "execution_count": 9,
     "metadata": {},
     "output_type": "execute_result"
    }
   ],
   "source": [
    "n_initial_infected_nodes = round((5 / 100) * n_nodes) - n_bots\n",
    "n_initial_infected_nodes"
   ]
  },
  {
   "cell_type": "code",
   "execution_count": 10,
   "metadata": {},
   "outputs": [],
   "source": [
    "parameters_df = pd.read_csv(\"../validation/parameters/parameters_optimization_palin_hours_homophily_0.50.csv\")"
   ]
  },
  {
   "cell_type": "code",
   "execution_count": 12,
   "metadata": {},
   "outputs": [
    {
     "data": {
      "text/html": [
       "<div>\n",
       "<style scoped>\n",
       "    .dataframe tbody tr th:only-of-type {\n",
       "        vertical-align: middle;\n",
       "    }\n",
       "\n",
       "    .dataframe tbody tr th {\n",
       "        vertical-align: top;\n",
       "    }\n",
       "\n",
       "    .dataframe thead th {\n",
       "        text-align: right;\n",
       "    }\n",
       "</style>\n",
       "<table border=\"1\" class=\"dataframe\">\n",
       "  <thead>\n",
       "    <tr style=\"text-align: right;\">\n",
       "      <th></th>\n",
       "      <th>alpha</th>\n",
       "      <th>beta</th>\n",
       "      <th>homophily</th>\n",
       "      <th>prob_infection</th>\n",
       "      <th>prob_vaccination</th>\n",
       "      <th>prob_cure</th>\n",
       "      <th>prob_influencer</th>\n",
       "      <th>prob_echo</th>\n",
       "      <th>rmse</th>\n",
       "    </tr>\n",
       "  </thead>\n",
       "  <tbody>\n",
       "    <tr>\n",
       "      <th>8</th>\n",
       "      <td>0.25</td>\n",
       "      <td>0.50</td>\n",
       "      <td>0.50</td>\n",
       "      <td>0.443859</td>\n",
       "      <td>0.098546</td>\n",
       "      <td>0.127511</td>\n",
       "      <td>0.941369</td>\n",
       "      <td>0.042834</td>\n",
       "      <td>2.061167</td>\n",
       "    </tr>\n",
       "    <tr>\n",
       "      <th>16</th>\n",
       "      <td>0.50</td>\n",
       "      <td>0.33</td>\n",
       "      <td>0.75</td>\n",
       "      <td>0.024295</td>\n",
       "      <td>0.238505</td>\n",
       "      <td>0.627572</td>\n",
       "      <td>0.860890</td>\n",
       "      <td>0.610532</td>\n",
       "      <td>3.607667</td>\n",
       "    </tr>\n",
       "    <tr>\n",
       "      <th>15</th>\n",
       "      <td>0.50</td>\n",
       "      <td>0.25</td>\n",
       "      <td>0.25</td>\n",
       "      <td>0.946572</td>\n",
       "      <td>0.019471</td>\n",
       "      <td>0.806971</td>\n",
       "      <td>0.485082</td>\n",
       "      <td>0.630385</td>\n",
       "      <td>3.665503</td>\n",
       "    </tr>\n",
       "    <tr>\n",
       "      <th>13</th>\n",
       "      <td>0.33</td>\n",
       "      <td>0.50</td>\n",
       "      <td>0.50</td>\n",
       "      <td>0.100720</td>\n",
       "      <td>0.029019</td>\n",
       "      <td>0.626069</td>\n",
       "      <td>0.359240</td>\n",
       "      <td>0.451349</td>\n",
       "      <td>3.733030</td>\n",
       "    </tr>\n",
       "    <tr>\n",
       "      <th>16</th>\n",
       "      <td>0.50</td>\n",
       "      <td>0.33</td>\n",
       "      <td>0.50</td>\n",
       "      <td>0.856125</td>\n",
       "      <td>0.187407</td>\n",
       "      <td>0.125657</td>\n",
       "      <td>0.702822</td>\n",
       "      <td>0.868028</td>\n",
       "      <td>3.921738</td>\n",
       "    </tr>\n",
       "    <tr>\n",
       "      <th>...</th>\n",
       "      <td>...</td>\n",
       "      <td>...</td>\n",
       "      <td>...</td>\n",
       "      <td>...</td>\n",
       "      <td>...</td>\n",
       "      <td>...</td>\n",
       "      <td>...</td>\n",
       "      <td>...</td>\n",
       "      <td>...</td>\n",
       "    </tr>\n",
       "    <tr>\n",
       "      <th>10</th>\n",
       "      <td>0.33</td>\n",
       "      <td>0.00</td>\n",
       "      <td>0.50</td>\n",
       "      <td>0.877706</td>\n",
       "      <td>0.198097</td>\n",
       "      <td>0.047475</td>\n",
       "      <td>0.338947</td>\n",
       "      <td>0.740148</td>\n",
       "      <td>32.870191</td>\n",
       "    </tr>\n",
       "    <tr>\n",
       "      <th>0</th>\n",
       "      <td>0.00</td>\n",
       "      <td>0.00</td>\n",
       "      <td>0.50</td>\n",
       "      <td>0.347875</td>\n",
       "      <td>0.328040</td>\n",
       "      <td>0.842198</td>\n",
       "      <td>0.947431</td>\n",
       "      <td>0.422984</td>\n",
       "      <td>33.392833</td>\n",
       "    </tr>\n",
       "    <tr>\n",
       "      <th>5</th>\n",
       "      <td>0.25</td>\n",
       "      <td>0.00</td>\n",
       "      <td>0.50</td>\n",
       "      <td>0.861757</td>\n",
       "      <td>0.366898</td>\n",
       "      <td>0.452570</td>\n",
       "      <td>0.447949</td>\n",
       "      <td>0.823765</td>\n",
       "      <td>33.414271</td>\n",
       "    </tr>\n",
       "    <tr>\n",
       "      <th>0</th>\n",
       "      <td>0.00</td>\n",
       "      <td>0.00</td>\n",
       "      <td>0.25</td>\n",
       "      <td>0.347875</td>\n",
       "      <td>0.328040</td>\n",
       "      <td>0.842198</td>\n",
       "      <td>0.947431</td>\n",
       "      <td>0.422984</td>\n",
       "      <td>33.445233</td>\n",
       "    </tr>\n",
       "    <tr>\n",
       "      <th>0</th>\n",
       "      <td>0.00</td>\n",
       "      <td>0.00</td>\n",
       "      <td>0.75</td>\n",
       "      <td>0.347875</td>\n",
       "      <td>0.328040</td>\n",
       "      <td>0.842198</td>\n",
       "      <td>0.947431</td>\n",
       "      <td>0.422984</td>\n",
       "      <td>33.644201</td>\n",
       "    </tr>\n",
       "  </tbody>\n",
       "</table>\n",
       "<p>63 rows × 9 columns</p>\n",
       "</div>"
      ],
      "text/plain": [
       "    alpha  beta  homophily  prob_infection  prob_vaccination  prob_cure  \\\n",
       "8    0.25  0.50       0.50        0.443859          0.098546   0.127511   \n",
       "16   0.50  0.33       0.75        0.024295          0.238505   0.627572   \n",
       "15   0.50  0.25       0.25        0.946572          0.019471   0.806971   \n",
       "13   0.33  0.50       0.50        0.100720          0.029019   0.626069   \n",
       "16   0.50  0.33       0.50        0.856125          0.187407   0.125657   \n",
       "..    ...   ...        ...             ...               ...        ...   \n",
       "10   0.33  0.00       0.50        0.877706          0.198097   0.047475   \n",
       "0    0.00  0.00       0.50        0.347875          0.328040   0.842198   \n",
       "5    0.25  0.00       0.50        0.861757          0.366898   0.452570   \n",
       "0    0.00  0.00       0.25        0.347875          0.328040   0.842198   \n",
       "0    0.00  0.00       0.75        0.347875          0.328040   0.842198   \n",
       "\n",
       "    prob_influencer  prob_echo       rmse  \n",
       "8          0.941369   0.042834   2.061167  \n",
       "16         0.860890   0.610532   3.607667  \n",
       "15         0.485082   0.630385   3.665503  \n",
       "13         0.359240   0.451349   3.733030  \n",
       "16         0.702822   0.868028   3.921738  \n",
       "..              ...        ...        ...  \n",
       "10         0.338947   0.740148  32.870191  \n",
       "0          0.947431   0.422984  33.392833  \n",
       "5          0.447949   0.823765  33.414271  \n",
       "0          0.947431   0.422984  33.445233  \n",
       "0          0.947431   0.422984  33.644201  \n",
       "\n",
       "[63 rows x 9 columns]"
      ]
     },
     "execution_count": 12,
     "metadata": {},
     "output_type": "execute_result"
    }
   ],
   "source": [
    "parameters_df = parameters_df.sort_values(by='rmse')\n",
    "parameters_df"
   ]
  },
  {
   "cell_type": "code",
   "execution_count": 13,
   "metadata": {},
   "outputs": [],
   "source": [
    "alpha = parameters_df['alpha'].iloc[0]\n",
    "beta = parameters_df['beta'].iloc[0]\n",
    "homophily = parameters_df['homophily'].iloc[0]\n",
    "prob_infection = parameters_df['prob_infection'].iloc[0]\n",
    "prob_vaccination = parameters_df['prob_vaccination'].iloc[0]\n",
    "prob_cure = parameters_df['prob_cure'].iloc[0]\n",
    "prob_influencer = parameters_df['prob_influencer'].iloc[0]\n",
    "prob_echo = parameters_df['prob_echo'].iloc[0]"
   ]
  },
  {
   "cell_type": "code",
   "execution_count": 14,
   "metadata": {},
   "outputs": [],
   "source": [
    "prob_complaint = 0.0"
   ]
  },
  {
   "cell_type": "code",
   "execution_count": 15,
   "metadata": {},
   "outputs": [],
   "source": [
    "container = NetworksContainer(n_networks=30, n_nodes=n_nodes, \n",
    "                              alpha=alpha, beta=beta, \n",
    "                              delta_in=1, delta_out=1, \n",
    "                              homophily=homophily, n_commons=n_commons, \n",
    "                              n_influencers=n_influencers, n_bots=n_bots, \n",
    "                              n_fact_checkers=n_fact_checkers,\n",
    "                              prob_complaint=prob_complaint, \n",
    "                              prob_infection=prob_infection, \n",
    "                              prob_vaccination=prob_vaccination,\n",
    "                              prob_cure=prob_cure, \n",
    "                              prob_influencer=prob_influencer, \n",
    "                              exp_decay=True, user_block=True, \n",
    "                              prob_echo=prob_echo, epochs=epochs)\n",
    "container.create_network_list(n_initial_infected_nodes=n_initial_infected_nodes)"
   ]
  },
  {
   "cell_type": "code",
   "execution_count": 16,
   "metadata": {},
   "outputs": [],
   "source": [
    "total_y_pred_list_prob_000 = []\n",
    "total_blocked_nodes_prob_000 = []\n",
    "\n",
    "for i in range(container.n_networks):   \n",
    "    y_pred_list = []\n",
    "    container.network_list[i].reset_network()\n",
    "    for j in range(container.epochs):\n",
    "        container.network_list[i].update_nodes()\n",
    "    y_pred_list = container.network_list[i].perc_infected\n",
    "    total_y_pred_list_prob_000.append(y_pred_list)\n",
    "    total_blocked_nodes_prob_000.append(container.network_list[i].n_blocked_nodes)"
   ]
  },
  {
   "cell_type": "code",
   "execution_count": 17,
   "metadata": {},
   "outputs": [],
   "source": [
    "prob_complaint = 0.25\n",
    "container.set_prob_complaint(prob_complaint)"
   ]
  },
  {
   "cell_type": "code",
   "execution_count": 18,
   "metadata": {},
   "outputs": [],
   "source": [
    "total_y_pred_list_prob_025 = []\n",
    "total_blocked_nodes_prob_025 = []\n",
    "\n",
    "for i in range(container.n_networks):   \n",
    "    y_pred_list = []\n",
    "    container.network_list[i].reset_network()\n",
    "    for j in range(container.epochs):\n",
    "        container.network_list[i].update_nodes()\n",
    "    y_pred_list = container.network_list[i].perc_infected\n",
    "    total_y_pred_list_prob_025.append(y_pred_list)\n",
    "    total_blocked_nodes_prob_025.append(container.network_list[i].n_blocked_nodes)"
   ]
  },
  {
   "cell_type": "code",
   "execution_count": 19,
   "metadata": {},
   "outputs": [],
   "source": [
    "prob_complaint = 0.50\n",
    "container.set_prob_complaint(prob_complaint)"
   ]
  },
  {
   "cell_type": "code",
   "execution_count": 20,
   "metadata": {},
   "outputs": [],
   "source": [
    "total_y_pred_list_prob_050 = []\n",
    "total_blocked_nodes_prob_050 = []\n",
    "\n",
    "for i in range(container.n_networks):   \n",
    "    y_pred_list = []\n",
    "    container.network_list[i].reset_network()\n",
    "    for j in range(container.epochs):\n",
    "        container.network_list[i].update_nodes()\n",
    "    y_pred_list = container.network_list[i].perc_infected\n",
    "    total_y_pred_list_prob_050.append(y_pred_list)\n",
    "    total_blocked_nodes_prob_050.append(container.network_list[i].n_blocked_nodes)"
   ]
  },
  {
   "cell_type": "code",
   "execution_count": 21,
   "metadata": {},
   "outputs": [],
   "source": [
    "prob_complaint = 0.75\n",
    "container.set_prob_complaint(prob_complaint)"
   ]
  },
  {
   "cell_type": "code",
   "execution_count": 22,
   "metadata": {},
   "outputs": [],
   "source": [
    "total_y_pred_list_prob_075 = []\n",
    "total_blocked_nodes_prob_075 = []\n",
    "\n",
    "for i in range(container.n_networks):   \n",
    "    y_pred_list = []\n",
    "    container.network_list[i].reset_network()\n",
    "    for j in range(container.epochs):\n",
    "        container.network_list[i].update_nodes()\n",
    "    y_pred_list = container.network_list[i].perc_infected\n",
    "    total_y_pred_list_prob_075.append(y_pred_list)\n",
    "    total_blocked_nodes_prob_075.append(container.network_list[i].n_blocked_nodes)"
   ]
  },
  {
   "cell_type": "code",
   "execution_count": 23,
   "metadata": {},
   "outputs": [],
   "source": [
    "prob_complaint = 1.00\n",
    "container.set_prob_complaint(prob_complaint)"
   ]
  },
  {
   "cell_type": "code",
   "execution_count": 24,
   "metadata": {},
   "outputs": [],
   "source": [
    "total_y_pred_list_prob_100 = []\n",
    "total_blocked_nodes_prob_100 = []\n",
    "\n",
    "for i in range(container.n_networks):   \n",
    "    y_pred_list = []\n",
    "    container.network_list[i].reset_network()\n",
    "    for j in range(container.epochs):\n",
    "        container.network_list[i].update_nodes()\n",
    "    y_pred_list = container.network_list[i].perc_infected\n",
    "    total_y_pred_list_prob_100.append(y_pred_list)\n",
    "    total_blocked_nodes_prob_100.append(container.network_list[i].n_blocked_nodes)"
   ]
  },
  {
   "cell_type": "code",
   "execution_count": 25,
   "metadata": {},
   "outputs": [],
   "source": [
    "avg_y_pred_list_prob_000 = [sum(column) / len(column) for column in zip(*total_y_pred_list_prob_000)]\n",
    "avg_y_pred_list_prob_025 = [sum(column) / len(column) for column in zip(*total_y_pred_list_prob_025)]\n",
    "avg_y_pred_list_prob_050 = [sum(column) / len(column) for column in zip(*total_y_pred_list_prob_050)]\n",
    "avg_y_pred_list_prob_075 = [sum(column) / len(column) for column in zip(*total_y_pred_list_prob_075)]\n",
    "avg_y_pred_list_prob_100 = [sum(column) / len(column) for column in zip(*total_y_pred_list_prob_100)]"
   ]
  },
  {
   "cell_type": "code",
   "execution_count": 26,
   "metadata": {},
   "outputs": [],
   "source": [
    "std_y_pred_list_prob_000 = [np.std(column) for column in zip(*total_y_pred_list_prob_000)]\n",
    "std_y_pred_list_prob_025 = [np.std(column) for column in zip(*total_y_pred_list_prob_025)]\n",
    "std_y_pred_list_prob_050 = [np.std(column) for column in zip(*total_y_pred_list_prob_050)]\n",
    "std_y_pred_list_prob_075 = [np.std(column) for column in zip(*total_y_pred_list_prob_075)]\n",
    "std_y_pred_list_prob_100 = [np.std(column) for column in zip(*total_y_pred_list_prob_100)]"
   ]
  },
  {
   "cell_type": "code",
   "execution_count": 27,
   "metadata": {},
   "outputs": [],
   "source": [
    "std_low_y_pred_list_prob_000 = []\n",
    "std_high_y_pred_list_prob_000 = []\n",
    "std_low_y_pred_list_prob_025 = []\n",
    "std_high_y_pred_list_prob_025 = []\n",
    "std_low_y_pred_list_prob_050 = []\n",
    "std_high_y_pred_list_prob_050 = []\n",
    "std_low_y_pred_list_prob_075 = []\n",
    "std_high_y_pred_list_prob_075 = []\n",
    "std_low_y_pred_list_prob_100 = []\n",
    "std_high_y_pred_list_prob_100 = []\n",
    "\n",
    "for i in range(len(avg_y_pred_list_prob_000)):\n",
    "    std_low_y_pred_list_prob_000.append(avg_y_pred_list_prob_000[i] - std_y_pred_list_prob_000[i])\n",
    "    std_high_y_pred_list_prob_000.append(avg_y_pred_list_prob_000[i] + std_y_pred_list_prob_000[i])\n",
    "\n",
    "for i in range(len(avg_y_pred_list_prob_025)):\n",
    "    std_low_y_pred_list_prob_025.append(avg_y_pred_list_prob_025[i] - std_y_pred_list_prob_025[i])\n",
    "    std_high_y_pred_list_prob_025.append(avg_y_pred_list_prob_025[i] + std_y_pred_list_prob_025[i])\n",
    "\n",
    "for i in range(len(avg_y_pred_list_prob_050)):\n",
    "    std_low_y_pred_list_prob_050.append(avg_y_pred_list_prob_050[i] - std_y_pred_list_prob_050[i])\n",
    "    std_high_y_pred_list_prob_050.append(avg_y_pred_list_prob_050[i] + std_y_pred_list_prob_050[i])\n",
    "\n",
    "for i in range(len(avg_y_pred_list_prob_075)):\n",
    "    std_low_y_pred_list_prob_075.append(avg_y_pred_list_prob_075[i] - std_y_pred_list_prob_075[i])\n",
    "    std_high_y_pred_list_prob_075.append(avg_y_pred_list_prob_075[i] + std_y_pred_list_prob_075[i])\n",
    "\n",
    "for i in range(len(avg_y_pred_list_prob_100)):\n",
    "    std_low_y_pred_list_prob_100.append(avg_y_pred_list_prob_100[i] - std_y_pred_list_prob_100[i])\n",
    "    std_high_y_pred_list_prob_100.append(avg_y_pred_list_prob_100[i] + std_y_pred_list_prob_100[i])"
   ]
  },
  {
   "cell_type": "code",
   "execution_count": 28,
   "metadata": {},
   "outputs": [],
   "source": [
    "x = []\n",
    "for i in range(epochs + 1):\n",
    "    x.append(i)"
   ]
  },
  {
   "cell_type": "code",
   "execution_count": 29,
   "metadata": {},
   "outputs": [
    {
     "data": {
      "image/png": "[encoded data removed]",
      "text/plain": [
       "<Figure size 1200x400 with 1 Axes>"
      ]
     },
     "metadata": {},
     "output_type": "display_data"
    }
   ],
   "source": [
    "fig, axs = plt.subplots(1, 1, figsize=(12, 4))\n",
    "plt.plot(avg_y_pred_list_prob_000, c='r', label='Prob. complaint 0.00', linewidth=1.0)\n",
    "axs.fill_between(x, avg_y_pred_list_prob_000, std_low_y_pred_list_prob_000, color='r', alpha=.1)\n",
    "axs.fill_between(x, avg_y_pred_list_prob_000, std_high_y_pred_list_prob_000, color='r', alpha=.1)\n",
    "plt.plot(avg_y_pred_list_prob_025, c='b', label='Prob. complaint 0.25', linewidth=1.0)\n",
    "axs.fill_between(x, avg_y_pred_list_prob_025, std_low_y_pred_list_prob_025, color='b', alpha=.1)\n",
    "axs.fill_between(x, avg_y_pred_list_prob_025, std_high_y_pred_list_prob_025, color='b', alpha=.1)\n",
    "plt.plot(avg_y_pred_list_prob_050, c='g', label='Prob. complaint 0.50', linewidth=1.0)\n",
    "axs.fill_between(x, avg_y_pred_list_prob_050, std_low_y_pred_list_prob_050, color='g', alpha=.1)\n",
    "axs.fill_between(x, avg_y_pred_list_prob_050, std_high_y_pred_list_prob_050, color='g', alpha=.1)\n",
    "plt.plot(avg_y_pred_list_prob_075, c='y', label='Prob. complaint 0.75', linewidth=1.0)\n",
    "axs.fill_between(x, avg_y_pred_list_prob_075, std_low_y_pred_list_prob_075, color='y', alpha=.1)\n",
    "axs.fill_between(x, avg_y_pred_list_prob_075, std_high_y_pred_list_prob_075, color='y', alpha=.1)\n",
    "plt.plot(avg_y_pred_list_prob_100, c='m', label='Prob. complaint 1.00', linewidth=1.0)\n",
    "axs.fill_between(x, avg_y_pred_list_prob_100, std_low_y_pred_list_prob_100, color='m', alpha=.1)\n",
    "axs.fill_between(x, avg_y_pred_list_prob_100, std_high_y_pred_list_prob_100, color='m', alpha=.1)\n",
    "legend = plt.legend(bbox_to_anchor=(1.05, 1), loc='upper left')\n",
    "plt.xlabel(\"Epoch\")\n",
    "plt.ylabel(\"Percentage of endorsers\")\n",
    "plt.show()"
   ]
  },
  {
   "cell_type": "code",
   "execution_count": 30,
   "metadata": {},
   "outputs": [],
   "source": [
    "x = []\n",
    "avg_y_pred_list_prob_000_truncated = []\n",
    "std_low_y_pred_list_prob_000_truncated = []\n",
    "std_high_y_pred_list_prob_000_truncated = []\n",
    "avg_y_pred_list_prob_025_truncated = []\n",
    "std_low_y_pred_list_prob_025_truncated = []\n",
    "std_high_y_pred_list_prob_025_truncated = []\n",
    "avg_y_pred_list_prob_050_truncated = []\n",
    "std_low_y_pred_list_prob_050_truncated = []\n",
    "std_high_y_pred_list_prob_050_truncated = []\n",
    "avg_y_pred_list_prob_075_truncated = []\n",
    "std_low_y_pred_list_prob_075_truncated = []\n",
    "std_high_y_pred_list_prob_075_truncated = []\n",
    "avg_y_pred_list_prob_100_truncated = []\n",
    "std_low_y_pred_list_prob_100_truncated = []\n",
    "std_high_y_pred_list_prob_100_truncated = []\n",
    "for i in range(500):\n",
    "    x.append(i)\n",
    "    avg_y_pred_list_prob_000_truncated.append(avg_y_pred_list_prob_000[i])\n",
    "    std_low_y_pred_list_prob_000_truncated.append(std_low_y_pred_list_prob_000[i])\n",
    "    std_high_y_pred_list_prob_000_truncated.append(std_high_y_pred_list_prob_000[i])\n",
    "    avg_y_pred_list_prob_025_truncated.append(avg_y_pred_list_prob_025[i])\n",
    "    std_low_y_pred_list_prob_025_truncated.append(std_low_y_pred_list_prob_025[i])\n",
    "    std_high_y_pred_list_prob_025_truncated.append(std_high_y_pred_list_prob_025[i])\n",
    "    avg_y_pred_list_prob_050_truncated.append(avg_y_pred_list_prob_050[i])\n",
    "    std_low_y_pred_list_prob_050_truncated.append(std_low_y_pred_list_prob_050[i])\n",
    "    std_high_y_pred_list_prob_050_truncated.append(std_high_y_pred_list_prob_050[i])\n",
    "    avg_y_pred_list_prob_075_truncated.append(avg_y_pred_list_prob_075[i])\n",
    "    std_low_y_pred_list_prob_075_truncated.append(std_low_y_pred_list_prob_075[i])\n",
    "    std_high_y_pred_list_prob_075_truncated.append(std_high_y_pred_list_prob_075[i])\n",
    "    avg_y_pred_list_prob_100_truncated.append(avg_y_pred_list_prob_100[i])\n",
    "    std_low_y_pred_list_prob_100_truncated.append(std_low_y_pred_list_prob_100[i])\n",
    "    std_high_y_pred_list_prob_100_truncated.append(std_high_y_pred_list_prob_100[i])"
   ]
  },
  {
   "cell_type": "code",
   "execution_count": 31,
   "metadata": {},
   "outputs": [
    {
     "data": {
      "image/png": "[encoded data removed]",
      "text/plain": [
       "<Figure size 1200x400 with 1 Axes>"
      ]
     },
     "metadata": {},
     "output_type": "display_data"
    }
   ],
   "source": [
    "fig, axs = plt.subplots(1, 1, figsize=(12, 4))\n",
    "plt.plot(avg_y_pred_list_prob_000_truncated, c='r', label='Prob. complaint 0.00', linewidth=1.0)\n",
    "axs.fill_between(x, avg_y_pred_list_prob_000_truncated, std_low_y_pred_list_prob_000_truncated, color='r', alpha=.1)\n",
    "axs.fill_between(x, avg_y_pred_list_prob_000_truncated, std_high_y_pred_list_prob_000_truncated, color='r', alpha=.1)\n",
    "plt.plot(avg_y_pred_list_prob_025_truncated, c='b', label='Prob. complaint 0.25', linewidth=1.0)\n",
    "axs.fill_between(x, avg_y_pred_list_prob_025_truncated, std_low_y_pred_list_prob_025_truncated, color='b', alpha=.1)\n",
    "axs.fill_between(x, avg_y_pred_list_prob_025_truncated, std_high_y_pred_list_prob_025_truncated, color='b', alpha=.1)\n",
    "plt.plot(avg_y_pred_list_prob_050_truncated, c='g', label='Prob. complaint 0.50', linewidth=1.0)\n",
    "axs.fill_between(x, avg_y_pred_list_prob_050_truncated, std_low_y_pred_list_prob_050_truncated, color='g', alpha=.1)\n",
    "axs.fill_between(x, avg_y_pred_list_prob_050_truncated, std_high_y_pred_list_prob_050_truncated, color='g', alpha=.1)\n",
    "plt.plot(avg_y_pred_list_prob_075_truncated, c='y', label='Prob. complaint 0.75', linewidth=1.0)\n",
    "axs.fill_between(x, avg_y_pred_list_prob_075_truncated, std_low_y_pred_list_prob_075_truncated, color='y', alpha=.1)\n",
    "axs.fill_between(x, avg_y_pred_list_prob_075_truncated, std_high_y_pred_list_prob_075_truncated, color='y', alpha=.1)\n",
    "plt.plot(avg_y_pred_list_prob_100_truncated, c='m', label='Prob. complaint 1.00', linewidth=1.0)\n",
    "axs.fill_between(x, avg_y_pred_list_prob_100_truncated, std_low_y_pred_list_prob_100_truncated, color='m', alpha=.1)\n",
    "axs.fill_between(x, avg_y_pred_list_prob_100_truncated, std_high_y_pred_list_prob_100_truncated, color='m', alpha=.1)\n",
    "legend = plt.legend(bbox_to_anchor=(1.05, 1), loc='upper left')\n",
    "plt.xlabel(\"Epoch\")\n",
    "plt.ylabel(\"Percentage of endorsers\")\n",
    "plt.show()"
   ]
  },
  {
   "cell_type": "code",
   "execution_count": 32,
   "metadata": {},
   "outputs": [],
   "source": [
    "df_total_y_pred_list_000 = pd.DataFrame(total_y_pred_list_prob_000).T\n",
    "df_total_y_pred_list_000.to_csv(\"simulation_complaint_0.00_obama_endorsers_percentages.csv\", index=False, header=False)\n",
    "\n",
    "df_total_y_pred_list_025 = pd.DataFrame(total_y_pred_list_prob_025).T\n",
    "df_total_y_pred_list_025.to_csv(\"simulation_complaint_0.25_obama_endorsers_percentages.csv\", index=False, header=False)\n",
    "\n",
    "df_total_y_pred_list_050 = pd.DataFrame(total_y_pred_list_prob_050).T\n",
    "df_total_y_pred_list_050.to_csv(\"simulation_complaint_0.50_obama_endorsers_percentages.csv\", index=False, header=False)\n",
    "\n",
    "df_total_y_pred_list_075 = pd.DataFrame(total_y_pred_list_prob_075).T\n",
    "df_total_y_pred_list_075.to_csv(\"simulation_complaint_0.75_obama_endorsers_percentages.csv\", index=False, header=False)\n",
    "\n",
    "df_total_y_pred_list_100 = pd.DataFrame(total_y_pred_list_prob_100).T\n",
    "df_total_y_pred_list_100.to_csv(\"simulation_complaint_1.00_obama_endorsers_percentages.csv\", index=False, header=False)"
   ]
  },
  {
   "cell_type": "code",
   "execution_count": 33,
   "metadata": {},
   "outputs": [],
   "source": [
    "df_statistics = pd.DataFrame(avg_y_pred_list_prob_000).T\n",
    "df_statistics.loc[1] = std_y_pred_list_prob_000\n",
    "df_statistics.loc[2] = std_high_y_pred_list_prob_000\n",
    "df_statistics.loc[3] = std_low_y_pred_list_prob_000\n",
    "df_statistics.loc[4] = avg_y_pred_list_prob_025\n",
    "df_statistics.loc[5] = std_y_pred_list_prob_025\n",
    "df_statistics.loc[6] = std_high_y_pred_list_prob_025\n",
    "df_statistics.loc[7] = std_low_y_pred_list_prob_025\n",
    "df_statistics.loc[8] = avg_y_pred_list_prob_050\n",
    "df_statistics.loc[9] = std_y_pred_list_prob_050\n",
    "df_statistics.loc[10] = std_high_y_pred_list_prob_050\n",
    "df_statistics.loc[11] = std_low_y_pred_list_prob_050\n",
    "df_statistics.loc[12] = avg_y_pred_list_prob_075\n",
    "df_statistics.loc[13] = std_y_pred_list_prob_075\n",
    "df_statistics.loc[14] = std_high_y_pred_list_prob_075\n",
    "df_statistics.loc[15] = std_low_y_pred_list_prob_075\n",
    "df_statistics.loc[16] = avg_y_pred_list_prob_100\n",
    "df_statistics.loc[17] = std_y_pred_list_prob_100\n",
    "df_statistics.loc[18] = std_high_y_pred_list_prob_100\n",
    "df_statistics.loc[19] = std_low_y_pred_list_prob_100\n",
    "df_statistics.to_csv(\"simulation_complaint_obama_statistics.csv\", index=False, header=False)"
   ]
  },
  {
   "cell_type": "code",
   "execution_count": 34,
   "metadata": {},
   "outputs": [
    {
     "name": "stdout",
     "output_type": "stream",
     "text": [
      "Mean blocked nodes prob. 0.00:  0.0\n",
      "Standard deviation blocked nodes prob. 0.00:  0.0\n"
     ]
    }
   ],
   "source": [
    "mean_blocked_nodes_prob_000 = np.mean(total_blocked_nodes_prob_000)\n",
    "std_blocked_nodes_prob_000 = np.std(total_blocked_nodes_prob_000)\n",
    "print(\"Mean blocked nodes prob. 0.00: \", mean_blocked_nodes_prob_000)\n",
    "print(\"Standard deviation blocked nodes prob. 0.00: \", std_blocked_nodes_prob_000)"
   ]
  },
  {
   "cell_type": "code",
   "execution_count": 35,
   "metadata": {},
   "outputs": [
    {
     "name": "stdout",
     "output_type": "stream",
     "text": [
      "Mean blocked nodes prob. 0.25:  8.966666666666667\n",
      "Standard deviation blocked nodes prob. 0.25:  5.467987645275809\n"
     ]
    }
   ],
   "source": [
    "mean_blocked_nodes_prob_025 = np.mean(total_blocked_nodes_prob_025)\n",
    "std_blocked_nodes_prob_025 = np.std(total_blocked_nodes_prob_025)\n",
    "print(\"Mean blocked nodes prob. 0.25: \", mean_blocked_nodes_prob_025)\n",
    "print(\"Standard deviation blocked nodes prob. 0.25: \", std_blocked_nodes_prob_025)"
   ]
  },
  {
   "cell_type": "code",
   "execution_count": 36,
   "metadata": {},
   "outputs": [
    {
     "name": "stdout",
     "output_type": "stream",
     "text": [
      "Mean blocked nodes prob. 0.50:  11.733333333333333\n",
      "Standard deviation blocked nodes prob. 0.50:  6.2339571880325115\n"
     ]
    }
   ],
   "source": [
    "mean_blocked_nodes_prob_050 = np.mean(total_blocked_nodes_prob_050)\n",
    "std_blocked_nodes_prob_050 = np.std(total_blocked_nodes_prob_050)\n",
    "print(\"Mean blocked nodes prob. 0.50: \", mean_blocked_nodes_prob_050)\n",
    "print(\"Standard deviation blocked nodes prob. 0.50: \", std_blocked_nodes_prob_050)"
   ]
  },
  {
   "cell_type": "code",
   "execution_count": 37,
   "metadata": {},
   "outputs": [
    {
     "name": "stdout",
     "output_type": "stream",
     "text": [
      "Mean blocked nodes prob. 0.75:  11.333333333333334\n",
      "Standard deviation blocked nodes prob. 0.75:  6.12281707132337\n"
     ]
    }
   ],
   "source": [
    "mean_blocked_nodes_prob_075 = np.mean(total_blocked_nodes_prob_075)\n",
    "std_blocked_nodes_prob_075 = np.std(total_blocked_nodes_prob_075)\n",
    "print(\"Mean blocked nodes prob. 0.75: \", mean_blocked_nodes_prob_075)\n",
    "print(\"Standard deviation blocked nodes prob. 0.75: \", std_blocked_nodes_prob_075)"
   ]
  },
  {
   "cell_type": "code",
   "execution_count": 38,
   "metadata": {},
   "outputs": [
    {
     "name": "stdout",
     "output_type": "stream",
     "text": [
      "Mean blocked nodes prob. 1.00:  11.566666666666666\n",
      "Standard deviation blocked nodes prob. 1.00:  7.031753377042994\n"
     ]
    }
   ],
   "source": [
    "mean_blocked_nodes_prob_100 = np.mean(total_blocked_nodes_prob_100)\n",
    "std_blocked_nodes_prob_100 = np.std(total_blocked_nodes_prob_100)\n",
    "print(\"Mean blocked nodes prob. 1.00: \", mean_blocked_nodes_prob_100)\n",
    "print(\"Standard deviation blocked nodes prob. 1.00: \", std_blocked_nodes_prob_100)"
   ]
  },
  {
   "cell_type": "code",
   "execution_count": 39,
   "metadata": {},
   "outputs": [],
   "source": [
    "df_blocked = pd.DataFrame(total_blocked_nodes_prob_000).T\n",
    "df_blocked.loc[1] = mean_blocked_nodes_prob_000\n",
    "df_blocked.loc[2] = std_blocked_nodes_prob_000\n",
    "df_blocked.loc[3] = total_blocked_nodes_prob_025\n",
    "df_blocked.loc[4] = mean_blocked_nodes_prob_025\n",
    "df_blocked.loc[5] = std_blocked_nodes_prob_025\n",
    "df_blocked.loc[6] = total_blocked_nodes_prob_050\n",
    "df_blocked.loc[7] = mean_blocked_nodes_prob_050\n",
    "df_blocked.loc[8] = std_blocked_nodes_prob_050\n",
    "df_blocked.loc[9] = total_blocked_nodes_prob_075\n",
    "df_blocked.loc[10] = mean_blocked_nodes_prob_075\n",
    "df_blocked.loc[11] = std_blocked_nodes_prob_075\n",
    "df_blocked.loc[12] = total_blocked_nodes_prob_100\n",
    "df_blocked.loc[13] = mean_blocked_nodes_prob_100\n",
    "df_blocked.loc[14] = std_blocked_nodes_prob_100\n",
    "df_statistics.to_csv(\"simulation_blocked_obama_statistics.csv\", index=False, header=False)"
   ]
  },
  {
   "cell_type": "code",
   "execution_count": null,
   "metadata": {},
   "outputs": [],
   "source": []
  }
 ],
 "metadata": {
  "kernelspec": {
   "display_name": "SCMS",
   "language": "python",
   "name": "python3"
  },
  "language_info": {
   "codemirror_mode": {
    "name": "ipython",
    "version": 3
   },
   "file_extension": ".py",
   "mimetype": "text/x-python",
   "name": "python",
   "nbconvert_exporter": "python",
   "pygments_lexer": "ipython3",
   "version": "3.10.4"
  },
  "orig_nbformat": 4,
  "vscode": {
   "interpreter": {
    "hash": "c97dbac1812ec30b48a7f39712c01c480bd467df285f0a5249fb97075fa3baaf"
   }
  }
 },
 "nbformat": 4,
 "nbformat_minor": 2
}
