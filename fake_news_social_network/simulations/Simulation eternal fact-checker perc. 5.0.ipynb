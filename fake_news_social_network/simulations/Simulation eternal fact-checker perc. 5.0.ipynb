{
 "cells": [
  {
   "cell_type": "code",
   "execution_count": 1,
   "metadata": {},
   "outputs": [],
   "source": [
    "import os\n",
    "import sys\n",
    "import tqdm\n",
    "import random\n",
    "import numpy as np\n",
    "import pandas as pd\n",
    "import matplotlib.pyplot as plt\n",
    "from numpy.random import seed\n",
    "from skopt import BayesSearchCV\n",
    "from sklearn.base import BaseEstimator\n",
    "from sklearn.metrics import mean_squared_error\n",
    "\n",
    "sys.path.append('.')\n",
    "sys.path.append('../../')\n",
    "sys.path.append('../network_model/')\n",
    "sys.path.append('../validation/')\n",
    "\n",
    "notebook_path = os.getcwd()\n",
    "project_path = os.path.abspath(os.path.join(notebook_path, '..'))\n",
    "sys.path.append(project_path)\n",
    "\n",
    "from network_model.network_classes import Network\n",
    "from networks_container import NetworksContainer\n",
    "from estimator import Estimator"
   ]
  },
  {
   "cell_type": "code",
   "execution_count": 2,
   "metadata": {},
   "outputs": [],
   "source": [
    "cherrypicked_seed = 42\n",
    "\n",
    "seed(cherrypicked_seed)\n",
    "random.seed(cherrypicked_seed)"
   ]
  },
  {
   "cell_type": "code",
   "execution_count": 3,
   "metadata": {},
   "outputs": [],
   "source": [
    "epochs = 1000"
   ]
  },
  {
   "cell_type": "code",
   "execution_count": 4,
   "metadata": {},
   "outputs": [
    {
     "data": {
      "text/plain": [
       "2000"
      ]
     },
     "execution_count": 4,
     "metadata": {},
     "output_type": "execute_result"
    }
   ],
   "source": [
    "n_nodes = 2000\n",
    "n_nodes"
   ]
  },
  {
   "cell_type": "code",
   "execution_count": 5,
   "metadata": {},
   "outputs": [
    {
     "data": {
      "text/plain": [
       "40"
      ]
     },
     "execution_count": 5,
     "metadata": {},
     "output_type": "execute_result"
    }
   ],
   "source": [
    "n_bots = round((2 / 100) * n_nodes)\n",
    "n_bots"
   ]
  },
  {
   "cell_type": "code",
   "execution_count": 6,
   "metadata": {},
   "outputs": [
    {
     "data": {
      "text/plain": [
       "100"
      ]
     },
     "execution_count": 6,
     "metadata": {},
     "output_type": "execute_result"
    }
   ],
   "source": [
    "n_fact_checkers = round((5 / 100) * n_nodes)\n",
    "n_fact_checkers"
   ]
  },
  {
   "cell_type": "code",
   "execution_count": 7,
   "metadata": {},
   "outputs": [],
   "source": [
    "n_influencers = 20"
   ]
  },
  {
   "cell_type": "code",
   "execution_count": 8,
   "metadata": {},
   "outputs": [
    {
     "data": {
      "text/plain": [
       "1840"
      ]
     },
     "execution_count": 8,
     "metadata": {},
     "output_type": "execute_result"
    }
   ],
   "source": [
    "n_commons = n_nodes - n_bots - n_fact_checkers - n_influencers\n",
    "n_commons"
   ]
  },
  {
   "cell_type": "code",
   "execution_count": 9,
   "metadata": {},
   "outputs": [
    {
     "data": {
      "text/plain": [
       "60"
      ]
     },
     "execution_count": 9,
     "metadata": {},
     "output_type": "execute_result"
    }
   ],
   "source": [
    "n_initial_infected_nodes = round((5 / 100) * n_nodes) - n_bots\n",
    "n_initial_infected_nodes"
   ]
  },
  {
   "cell_type": "code",
   "execution_count": 10,
   "metadata": {},
   "outputs": [],
   "source": [
    "parameters_homophily_025 = pd.read_csv(\"../validation/parameters/parameters_optimization_palin_hours_homophily_0.25.csv\")\n",
    "parameters_homophily_050 = pd.read_csv(\"../validation/parameters/parameters_optimization_palin_hours_homophily_0.50.csv\")\n",
    "parameters_homophily_075 = pd.read_csv(\"../validation/parameters/parameters_optimization_palin_hours_homophily_0.75.csv\")"
   ]
  },
  {
   "cell_type": "code",
   "execution_count": 11,
   "metadata": {},
   "outputs": [],
   "source": [
    "parameters_df = pd.concat([parameters_homophily_025, parameters_homophily_050, parameters_homophily_075])"
   ]
  },
  {
   "cell_type": "code",
   "execution_count": 12,
   "metadata": {},
   "outputs": [
    {
     "data": {
      "text/html": [
       "<div>\n",
       "<style scoped>\n",
       "    .dataframe tbody tr th:only-of-type {\n",
       "        vertical-align: middle;\n",
       "    }\n",
       "\n",
       "    .dataframe tbody tr th {\n",
       "        vertical-align: top;\n",
       "    }\n",
       "\n",
       "    .dataframe thead th {\n",
       "        text-align: right;\n",
       "    }\n",
       "</style>\n",
       "<table border=\"1\" class=\"dataframe\">\n",
       "  <thead>\n",
       "    <tr style=\"text-align: right;\">\n",
       "      <th></th>\n",
       "      <th>alpha</th>\n",
       "      <th>beta</th>\n",
       "      <th>homophily</th>\n",
       "      <th>prob_infection</th>\n",
       "      <th>prob_vaccination</th>\n",
       "      <th>prob_cure</th>\n",
       "      <th>prob_influencer</th>\n",
       "      <th>prob_echo</th>\n",
       "      <th>rmse</th>\n",
       "    </tr>\n",
       "  </thead>\n",
       "  <tbody>\n",
       "    <tr>\n",
       "      <th>8</th>\n",
       "      <td>0.25</td>\n",
       "      <td>0.50</td>\n",
       "      <td>0.50</td>\n",
       "      <td>0.443859</td>\n",
       "      <td>0.098546</td>\n",
       "      <td>0.127511</td>\n",
       "      <td>0.941369</td>\n",
       "      <td>0.042834</td>\n",
       "      <td>2.061167</td>\n",
       "    </tr>\n",
       "    <tr>\n",
       "      <th>16</th>\n",
       "      <td>0.50</td>\n",
       "      <td>0.33</td>\n",
       "      <td>0.75</td>\n",
       "      <td>0.024295</td>\n",
       "      <td>0.238505</td>\n",
       "      <td>0.627572</td>\n",
       "      <td>0.860890</td>\n",
       "      <td>0.610532</td>\n",
       "      <td>3.607667</td>\n",
       "    </tr>\n",
       "    <tr>\n",
       "      <th>15</th>\n",
       "      <td>0.50</td>\n",
       "      <td>0.25</td>\n",
       "      <td>0.25</td>\n",
       "      <td>0.946572</td>\n",
       "      <td>0.019471</td>\n",
       "      <td>0.806971</td>\n",
       "      <td>0.485082</td>\n",
       "      <td>0.630385</td>\n",
       "      <td>3.665503</td>\n",
       "    </tr>\n",
       "    <tr>\n",
       "      <th>13</th>\n",
       "      <td>0.33</td>\n",
       "      <td>0.50</td>\n",
       "      <td>0.50</td>\n",
       "      <td>0.100720</td>\n",
       "      <td>0.029019</td>\n",
       "      <td>0.626069</td>\n",
       "      <td>0.359240</td>\n",
       "      <td>0.451349</td>\n",
       "      <td>3.733030</td>\n",
       "    </tr>\n",
       "    <tr>\n",
       "      <th>16</th>\n",
       "      <td>0.50</td>\n",
       "      <td>0.33</td>\n",
       "      <td>0.50</td>\n",
       "      <td>0.856125</td>\n",
       "      <td>0.187407</td>\n",
       "      <td>0.125657</td>\n",
       "      <td>0.702822</td>\n",
       "      <td>0.868028</td>\n",
       "      <td>3.921738</td>\n",
       "    </tr>\n",
       "    <tr>\n",
       "      <th>...</th>\n",
       "      <td>...</td>\n",
       "      <td>...</td>\n",
       "      <td>...</td>\n",
       "      <td>...</td>\n",
       "      <td>...</td>\n",
       "      <td>...</td>\n",
       "      <td>...</td>\n",
       "      <td>...</td>\n",
       "      <td>...</td>\n",
       "    </tr>\n",
       "    <tr>\n",
       "      <th>10</th>\n",
       "      <td>0.33</td>\n",
       "      <td>0.00</td>\n",
       "      <td>0.50</td>\n",
       "      <td>0.877706</td>\n",
       "      <td>0.198097</td>\n",
       "      <td>0.047475</td>\n",
       "      <td>0.338947</td>\n",
       "      <td>0.740148</td>\n",
       "      <td>32.870191</td>\n",
       "    </tr>\n",
       "    <tr>\n",
       "      <th>0</th>\n",
       "      <td>0.00</td>\n",
       "      <td>0.00</td>\n",
       "      <td>0.50</td>\n",
       "      <td>0.347875</td>\n",
       "      <td>0.328040</td>\n",
       "      <td>0.842198</td>\n",
       "      <td>0.947431</td>\n",
       "      <td>0.422984</td>\n",
       "      <td>33.392833</td>\n",
       "    </tr>\n",
       "    <tr>\n",
       "      <th>5</th>\n",
       "      <td>0.25</td>\n",
       "      <td>0.00</td>\n",
       "      <td>0.50</td>\n",
       "      <td>0.861757</td>\n",
       "      <td>0.366898</td>\n",
       "      <td>0.452570</td>\n",
       "      <td>0.447949</td>\n",
       "      <td>0.823765</td>\n",
       "      <td>33.414271</td>\n",
       "    </tr>\n",
       "    <tr>\n",
       "      <th>0</th>\n",
       "      <td>0.00</td>\n",
       "      <td>0.00</td>\n",
       "      <td>0.25</td>\n",
       "      <td>0.347875</td>\n",
       "      <td>0.328040</td>\n",
       "      <td>0.842198</td>\n",
       "      <td>0.947431</td>\n",
       "      <td>0.422984</td>\n",
       "      <td>33.445233</td>\n",
       "    </tr>\n",
       "    <tr>\n",
       "      <th>0</th>\n",
       "      <td>0.00</td>\n",
       "      <td>0.00</td>\n",
       "      <td>0.75</td>\n",
       "      <td>0.347875</td>\n",
       "      <td>0.328040</td>\n",
       "      <td>0.842198</td>\n",
       "      <td>0.947431</td>\n",
       "      <td>0.422984</td>\n",
       "      <td>33.644201</td>\n",
       "    </tr>\n",
       "  </tbody>\n",
       "</table>\n",
       "<p>63 rows × 9 columns</p>\n",
       "</div>"
      ],
      "text/plain": [
       "    alpha  beta  homophily  prob_infection  prob_vaccination  prob_cure  \\\n",
       "8    0.25  0.50       0.50        0.443859          0.098546   0.127511   \n",
       "16   0.50  0.33       0.75        0.024295          0.238505   0.627572   \n",
       "15   0.50  0.25       0.25        0.946572          0.019471   0.806971   \n",
       "13   0.33  0.50       0.50        0.100720          0.029019   0.626069   \n",
       "16   0.50  0.33       0.50        0.856125          0.187407   0.125657   \n",
       "..    ...   ...        ...             ...               ...        ...   \n",
       "10   0.33  0.00       0.50        0.877706          0.198097   0.047475   \n",
       "0    0.00  0.00       0.50        0.347875          0.328040   0.842198   \n",
       "5    0.25  0.00       0.50        0.861757          0.366898   0.452570   \n",
       "0    0.00  0.00       0.25        0.347875          0.328040   0.842198   \n",
       "0    0.00  0.00       0.75        0.347875          0.328040   0.842198   \n",
       "\n",
       "    prob_influencer  prob_echo       rmse  \n",
       "8          0.941369   0.042834   2.061167  \n",
       "16         0.860890   0.610532   3.607667  \n",
       "15         0.485082   0.630385   3.665503  \n",
       "13         0.359240   0.451349   3.733030  \n",
       "16         0.702822   0.868028   3.921738  \n",
       "..              ...        ...        ...  \n",
       "10         0.338947   0.740148  32.870191  \n",
       "0          0.947431   0.422984  33.392833  \n",
       "5          0.447949   0.823765  33.414271  \n",
       "0          0.947431   0.422984  33.445233  \n",
       "0          0.947431   0.422984  33.644201  \n",
       "\n",
       "[63 rows x 9 columns]"
      ]
     },
     "execution_count": 12,
     "metadata": {},
     "output_type": "execute_result"
    }
   ],
   "source": [
    "parameters_df = parameters_df.sort_values(by='rmse')\n",
    "parameters_df"
   ]
  },
  {
   "cell_type": "code",
   "execution_count": 13,
   "metadata": {},
   "outputs": [],
   "source": [
    "alpha = parameters_df['alpha'].iloc[0]\n",
    "beta = parameters_df['beta'].iloc[0]\n",
    "homophily = parameters_df['homophily'].iloc[0]\n",
    "prob_infection = parameters_df['prob_infection'].iloc[0]\n",
    "prob_vaccination = parameters_df['prob_vaccination'].iloc[0]\n",
    "prob_cure = parameters_df['prob_cure'].iloc[0]\n",
    "prob_influencer = parameters_df['prob_influencer'].iloc[0]\n",
    "prob_echo = parameters_df['prob_echo'].iloc[0]"
   ]
  },
  {
   "cell_type": "code",
   "execution_count": 14,
   "metadata": {},
   "outputs": [],
   "source": [
    "prob_complaint = 0.0 "
   ]
  },
  {
   "cell_type": "code",
   "execution_count": 15,
   "metadata": {},
   "outputs": [],
   "source": [
    "container = NetworksContainer(n_networks=30, n_nodes=n_nodes, \n",
    "                              alpha=alpha, beta=beta, \n",
    "                              delta_in=1, delta_out=1, \n",
    "                              homophily=homophily, n_commons=n_commons, \n",
    "                              n_influencers=n_influencers, n_bots=n_bots, \n",
    "                              n_fact_checkers=n_fact_checkers,\n",
    "                              prob_complaint=prob_complaint, \n",
    "                              prob_infection=prob_infection, \n",
    "                              prob_vaccination=prob_vaccination,\n",
    "                              prob_cure=prob_cure, \n",
    "                              prob_influencer=prob_influencer, \n",
    "                              exp_decay=True, user_block=False, \n",
    "                              prob_echo=prob_echo, epochs=epochs)\n",
    "container.create_network_list(n_initial_infected_nodes=n_initial_infected_nodes)"
   ]
  },
  {
   "cell_type": "code",
   "execution_count": 16,
   "metadata": {},
   "outputs": [],
   "source": [
    "total_y_pred_list_fact_005 = []\n",
    "\n",
    "for i in range(container.n_networks):   \n",
    "    y_pred_list = []\n",
    "    container.network_list[i].reset_network()\n",
    "    for j in range(container.epochs):\n",
    "        container.network_list[i].update_nodes()\n",
    "    y_pred_list = container.network_list[i].perc_infected\n",
    "    total_y_pred_list_fact_005.append(y_pred_list)"
   ]
  },
  {
   "cell_type": "code",
   "execution_count": 17,
   "metadata": {},
   "outputs": [],
   "source": [
    "df_total_y_pred_list_fact_005 = pd.DataFrame(total_y_pred_list_fact_005).T\n",
    "df_total_y_pred_list_fact_005.to_csv(\"simulation_efc_005_obama_endorsers_percentages.csv\", index=False, header=False)"
   ]
  }
 ],
 "metadata": {
  "kernelspec": {
   "display_name": "SCMS",
   "language": "python",
   "name": "python3"
  },
  "language_info": {
   "codemirror_mode": {
    "name": "ipython",
    "version": 3
   },
   "file_extension": ".py",
   "mimetype": "text/x-python",
   "name": "python",
   "nbconvert_exporter": "python",
   "pygments_lexer": "ipython3",
   "version": "3.10.4"
  },
  "orig_nbformat": 4,
  "vscode": {
   "interpreter": {
    "hash": "c97dbac1812ec30b48a7f39712c01c480bd467df285f0a5249fb97075fa3baaf"
   }
  }
 },
 "nbformat": 4,
 "nbformat_minor": 2
}
