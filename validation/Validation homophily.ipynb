{
  "cells": [
    {
      "cell_type": "code",
      "execution_count": 1,
      "metadata": {
        "id": "DIJ_pbiypTYk"
      },
      "outputs": [],
      "source": [
        "import sys\n",
        "import random\n",
        "import scipy.stats\n",
        "import matplotlib.pyplot as plt\n",
        "import numpy as np\n",
        "from numpy.random import seed\n",
        "\n",
        "sys.path.append('.')\n",
        "sys.path.append('../../')\n",
        "sys.path.append('../network_model/')\n",
        "\n",
        "%load_ext autoreload\n",
        "%autoreload 2\n",
        "from graph_creation import create_graph"
      ]
    },
    {
      "cell_type": "code",
      "execution_count": 2,
      "metadata": {},
      "outputs": [],
      "source": [
        "cherrypicked_seed = 150\n",
        "\n",
        "seed(cherrypicked_seed)\n",
        "random.seed(cherrypicked_seed)"
      ]
    },
    {
      "attachments": {},
      "cell_type": "markdown",
      "metadata": {},
      "source": [
        "# Validation homophily"
      ]
    },
    {
      "cell_type": "code",
      "execution_count": 3,
      "metadata": {},
      "outputs": [],
      "source": [
        "n_networks = 50\n",
        "n_nodes = 100"
      ]
    },
    {
      "cell_type": "code",
      "execution_count": 4,
      "metadata": {},
      "outputs": [],
      "source": [
        "averages = []\n",
        "ci_lows = []\n",
        "ci_highs = []"
      ]
    },
    {
      "cell_type": "code",
      "execution_count": 5,
      "metadata": {},
      "outputs": [],
      "source": [
        "# Funzione per calcolare l'intervallo di confidenza\n",
        "def confidence_interval(data, n):\n",
        "    \n",
        "    mean = np.mean(data)\n",
        " \n",
        "    s_sum = 0\n",
        "    for i in range(len(data)):\n",
        "        s_sum += (data[i] - mean) * (data[i] - mean)\n",
        "    s_q = (1 / (n-1)) * s_sum\n",
        "    s = np.sqrt(s_q)  \n",
        "    sampling_error = s/(np.sqrt(n)) * scipy.stats.t.ppf(1.95 / 2.0, n-1)\n",
        "    \n",
        "    return (mean - sampling_error, mean + sampling_error)"
      ]
    },
    {
      "cell_type": "code",
      "execution_count": 6,
      "metadata": {},
      "outputs": [
        {
          "name": "stdout",
          "output_type": "stream",
          "text": [
            "Homophily value:  0.0\n",
            "Distance:  0.3747094908653336\n",
            "Lower bound of confidence interval:  0.36905587748035174\n",
            "Higher bound of confidence interval:  0.3803631042503155\n",
            "Edges:  147\n"
          ]
        }
      ],
      "source": [
        "homophily = 0.0\n",
        "n_edges = 0\n",
        "distances = []\n",
        "for i in range(n_networks):\n",
        "    N = create_graph(n_nodes, 1/3, 1/3, 1, 1, homophily)\n",
        "    nodes = N.nodes()\n",
        "    edges = N.edges()\n",
        "    for edge in edges:\n",
        "        node_start = edge[0]\n",
        "        node_end = edge[1]\n",
        "        opinion_start = nodes[node_start]['opinion']\n",
        "        opinion_end = nodes[node_end]['opinion']\n",
        "        distance = np.abs(opinion_start - opinion_end)\n",
        "        distances.append(distance)\n",
        "    n_edges = len(edges)\n",
        "distance = np.mean(distances)\n",
        "low, high = confidence_interval(distances, len(distances))\n",
        "averages.append(distance)\n",
        "ci_lows.append(low)\n",
        "ci_highs.append(high)\n",
        "print(\"Homophily value: \", homophily)\n",
        "print(\"Distance: \", distance)\n",
        "print(\"Lower bound of confidence interval: \", low)\n",
        "print(\"Higher bound of confidence interval: \", high)\n",
        "print(\"Edges: \", n_edges)"
      ]
    },
    {
      "cell_type": "code",
      "execution_count": 7,
      "metadata": {},
      "outputs": [
        {
          "name": "stdout",
          "output_type": "stream",
          "text": [
            "Homophily value:  0.1\n",
            "Distance:  0.3740657362178786\n",
            "Lower bound of confidence interval:  0.3683555268072504\n",
            "Higher bound of confidence interval:  0.37977594562850675\n",
            "Edges:  139\n"
          ]
        }
      ],
      "source": [
        "homophily = 0.1\n",
        "n_edges = 0\n",
        "distances = []\n",
        "for i in range(n_networks):\n",
        "    N = create_graph(n_nodes, 1/3, 1/3, 1, 1, homophily)\n",
        "    nodes = N.nodes()\n",
        "    edges = N.edges()\n",
        "    for edge in edges:\n",
        "        node_start = edge[0]\n",
        "        node_end = edge[1]\n",
        "        opinion_start = nodes[node_start]['opinion']\n",
        "        opinion_end = nodes[node_end]['opinion']\n",
        "        distance = np.abs(opinion_start - opinion_end)\n",
        "        distances.append(distance)\n",
        "    n_edges = len(edges)\n",
        "distance = np.mean(distances)\n",
        "low, high = confidence_interval(distances, len(distances))\n",
        "averages.append(distance)\n",
        "ci_lows.append(low)\n",
        "ci_highs.append(high)\n",
        "print(\"Homophily value: \", homophily)\n",
        "print(\"Distance: \", distance)\n",
        "print(\"Lower bound of confidence interval: \", low)\n",
        "print(\"Higher bound of confidence interval: \", high)\n",
        "print(\"Edges: \", n_edges)"
      ]
    },
    {
      "cell_type": "code",
      "execution_count": 8,
      "metadata": {},
      "outputs": [
        {
          "name": "stdout",
          "output_type": "stream",
          "text": [
            "Homophily value:  0.2\n",
            "Distance:  0.3662480267434804\n",
            "Lower bound of confidence interval:  0.36046300808391674\n",
            "Higher bound of confidence interval:  0.37203304540304405\n",
            "Edges:  148\n"
          ]
        }
      ],
      "source": [
        "homophily = 0.2\n",
        "n_edges = 0\n",
        "distances = []\n",
        "for i in range(n_networks):\n",
        "    N = create_graph(n_nodes, 1/3, 1/3, 1, 1, homophily)\n",
        "    nodes = N.nodes()\n",
        "    edges = N.edges()\n",
        "    for edge in edges:\n",
        "        node_start = edge[0]\n",
        "        node_end = edge[1]\n",
        "        opinion_start = nodes[node_start]['opinion']\n",
        "        opinion_end = nodes[node_end]['opinion']\n",
        "        distance = np.abs(opinion_start - opinion_end)\n",
        "        distances.append(distance)\n",
        "    n_edges = len(edges)\n",
        "distance = np.mean(distances)\n",
        "low, high = confidence_interval(distances, len(distances))\n",
        "averages.append(distance)\n",
        "ci_lows.append(low)\n",
        "ci_highs.append(high)\n",
        "print(\"Homophily value: \", homophily)\n",
        "print(\"Distance: \", distance)\n",
        "print(\"Lower bound of confidence interval: \", low)\n",
        "print(\"Higher bound of confidence interval: \", high)\n",
        "print(\"Edges: \", n_edges)"
      ]
    },
    {
      "cell_type": "code",
      "execution_count": 9,
      "metadata": {},
      "outputs": [
        {
          "name": "stdout",
          "output_type": "stream",
          "text": [
            "Homophily value:  0.3\n",
            "Distance:  0.34459748816407076\n",
            "Lower bound of confidence interval:  0.33880749659697534\n",
            "Higher bound of confidence interval:  0.3503874797311662\n",
            "Edges:  141\n"
          ]
        }
      ],
      "source": [
        "homophily = 0.3\n",
        "n_edges = 0\n",
        "distances = []\n",
        "for i in range(n_networks):\n",
        "    N = create_graph(n_nodes, 1/3, 1/3, 1, 1, homophily)\n",
        "    nodes = N.nodes()\n",
        "    edges = N.edges()\n",
        "    for edge in edges:\n",
        "        node_start = edge[0]\n",
        "        node_end = edge[1]\n",
        "        opinion_start = nodes[node_start]['opinion']\n",
        "        opinion_end = nodes[node_end]['opinion']\n",
        "        distance = np.abs(opinion_start - opinion_end)\n",
        "        distances.append(distance)\n",
        "    n_edges = len(edges)\n",
        "distance = np.mean(distances)\n",
        "low, high = confidence_interval(distances, len(distances))\n",
        "averages.append(distance)\n",
        "ci_lows.append(low)\n",
        "ci_highs.append(high)\n",
        "print(\"Homophily value: \", homophily)\n",
        "print(\"Distance: \", distance)\n",
        "print(\"Lower bound of confidence interval: \", low)\n",
        "print(\"Higher bound of confidence interval: \", high)\n",
        "print(\"Edges: \", n_edges)"
      ]
    },
    {
      "cell_type": "code",
      "execution_count": 10,
      "metadata": {},
      "outputs": [
        {
          "name": "stdout",
          "output_type": "stream",
          "text": [
            "Homophily value:  0.4\n",
            "Distance:  0.32631722689481263\n",
            "Lower bound of confidence interval:  0.3205742499248602\n",
            "Higher bound of confidence interval:  0.33206020386476504\n",
            "Edges:  141\n"
          ]
        }
      ],
      "source": [
        "homophily = 0.4\n",
        "n_edges = 0\n",
        "distances = []\n",
        "for i in range(n_networks):\n",
        "    N = create_graph(n_nodes, 1/3, 1/3, 1, 1, homophily)\n",
        "    nodes = N.nodes()\n",
        "    edges = N.edges()\n",
        "    for edge in edges:\n",
        "        node_start = edge[0]\n",
        "        node_end = edge[1]\n",
        "        opinion_start = nodes[node_start]['opinion']\n",
        "        opinion_end = nodes[node_end]['opinion']\n",
        "        distance = np.abs(opinion_start - opinion_end)\n",
        "        distances.append(distance)\n",
        "    n_edges = len(edges)\n",
        "distance = np.mean(distances)\n",
        "low, high = confidence_interval(distances, len(distances))\n",
        "averages.append(distance)\n",
        "ci_lows.append(low)\n",
        "ci_highs.append(high)\n",
        "print(\"Homophily value: \", homophily)\n",
        "print(\"Distance: \", distance)\n",
        "print(\"Lower bound of confidence interval: \", low)\n",
        "print(\"Higher bound of confidence interval: \", high)\n",
        "print(\"Edges: \", n_edges)"
      ]
    },
    {
      "cell_type": "code",
      "execution_count": 11,
      "metadata": {},
      "outputs": [
        {
          "name": "stdout",
          "output_type": "stream",
          "text": [
            "Homophily value:  0.5\n",
            "Distance:  0.3130773951742188\n",
            "Lower bound of confidence interval:  0.30747013107216986\n",
            "Higher bound of confidence interval:  0.3186846592762677\n",
            "Edges:  143\n"
          ]
        }
      ],
      "source": [
        "homophily = 0.5\n",
        "n_edges = 0\n",
        "distances = []\n",
        "for i in range(n_networks):\n",
        "    N = create_graph(n_nodes, 1/3, 1/3, 1, 1, homophily)\n",
        "    nodes = N.nodes()\n",
        "    edges = N.edges()\n",
        "    for edge in edges:\n",
        "        node_start = edge[0]\n",
        "        node_end = edge[1]\n",
        "        opinion_start = nodes[node_start]['opinion']\n",
        "        opinion_end = nodes[node_end]['opinion']\n",
        "        distance = np.abs(opinion_start - opinion_end)\n",
        "        distances.append(distance)\n",
        "    n_edges = len(edges)\n",
        "distance = np.mean(distances)\n",
        "low, high = confidence_interval(distances, len(distances))\n",
        "averages.append(distance)\n",
        "ci_lows.append(low)\n",
        "ci_highs.append(high)\n",
        "print(\"Homophily value: \", homophily)\n",
        "print(\"Distance: \", distance)\n",
        "print(\"Lower bound of confidence interval: \", low)\n",
        "print(\"Higher bound of confidence interval: \", high)\n",
        "print(\"Edges: \", n_edges)"
      ]
    },
    {
      "cell_type": "code",
      "execution_count": 12,
      "metadata": {},
      "outputs": [
        {
          "name": "stdout",
          "output_type": "stream",
          "text": [
            "Homophily value:  0.6\n",
            "Distance:  0.30353749113079415\n",
            "Lower bound of confidence interval:  0.2980533679840795\n",
            "Higher bound of confidence interval:  0.3090216142775088\n",
            "Edges:  129\n"
          ]
        }
      ],
      "source": [
        "homophily = 0.6\n",
        "n_edges = 0\n",
        "distances = []\n",
        "for i in range(n_networks):\n",
        "    N = create_graph(n_nodes, 1/3, 1/3, 1, 1, homophily)\n",
        "    nodes = N.nodes()\n",
        "    edges = N.edges()\n",
        "    for edge in edges:\n",
        "        node_start = edge[0]\n",
        "        node_end = edge[1]\n",
        "        opinion_start = nodes[node_start]['opinion']\n",
        "        opinion_end = nodes[node_end]['opinion']\n",
        "        distance = np.abs(opinion_start - opinion_end)\n",
        "        distances.append(distance)\n",
        "    n_edges = len(edges)\n",
        "distance = np.mean(distances)\n",
        "low, high = confidence_interval(distances, len(distances))\n",
        "averages.append(distance)\n",
        "ci_lows.append(low)\n",
        "ci_highs.append(high)\n",
        "print(\"Homophily value: \", homophily)\n",
        "print(\"Distance: \", distance)\n",
        "print(\"Lower bound of confidence interval: \", low)\n",
        "print(\"Higher bound of confidence interval: \", high)\n",
        "print(\"Edges: \", n_edges)"
      ]
    },
    {
      "cell_type": "code",
      "execution_count": 13,
      "metadata": {},
      "outputs": [
        {
          "name": "stdout",
          "output_type": "stream",
          "text": [
            "Homophily value:  0.7\n",
            "Distance:  0.2966534315168128\n",
            "Lower bound of confidence interval:  0.29136088128532156\n",
            "Higher bound of confidence interval:  0.301945981748304\n",
            "Edges:  156\n"
          ]
        }
      ],
      "source": [
        "homophily = 0.7\n",
        "n_edges = 0\n",
        "distances = []\n",
        "for i in range(n_networks):\n",
        "    N = create_graph(n_nodes, 1/3, 1/3, 1, 1, homophily)\n",
        "    nodes = N.nodes()\n",
        "    edges = N.edges()\n",
        "    for edge in edges:\n",
        "        node_start = edge[0]\n",
        "        node_end = edge[1]\n",
        "        opinion_start = nodes[node_start]['opinion']\n",
        "        opinion_end = nodes[node_end]['opinion']\n",
        "        distance = np.abs(opinion_start - opinion_end)\n",
        "        distances.append(distance)\n",
        "    n_edges = len(edges)\n",
        "distance = np.mean(distances)\n",
        "low, high = confidence_interval(distances, len(distances))\n",
        "averages.append(distance)\n",
        "ci_lows.append(low)\n",
        "ci_highs.append(high)\n",
        "print(\"Homophily value: \", homophily)\n",
        "print(\"Distance: \", distance)\n",
        "print(\"Lower bound of confidence interval: \", low)\n",
        "print(\"Higher bound of confidence interval: \", high)\n",
        "print(\"Edges: \", n_edges)"
      ]
    },
    {
      "cell_type": "code",
      "execution_count": 14,
      "metadata": {},
      "outputs": [
        {
          "name": "stdout",
          "output_type": "stream",
          "text": [
            "Homophily value:  0.8\n",
            "Distance:  0.2952212540636163\n",
            "Lower bound of confidence interval:  0.2899769561483319\n",
            "Higher bound of confidence interval:  0.30046555197890074\n",
            "Edges:  137\n"
          ]
        }
      ],
      "source": [
        "homophily = 0.8\n",
        "n_edges = 0\n",
        "distances = []\n",
        "for i in range(n_networks):\n",
        "    N = create_graph(n_nodes, 1/3, 1/3, 1, 1, homophily)\n",
        "    nodes = N.nodes()\n",
        "    edges = N.edges()\n",
        "    for edge in edges:\n",
        "        node_start = edge[0]\n",
        "        node_end = edge[1]\n",
        "        opinion_start = nodes[node_start]['opinion']\n",
        "        opinion_end = nodes[node_end]['opinion']\n",
        "        distance = np.abs(opinion_start - opinion_end)\n",
        "        distances.append(distance)\n",
        "    n_edges = len(edges)\n",
        "distance = np.mean(distances)\n",
        "low, high = confidence_interval(distances, len(distances))\n",
        "averages.append(distance)\n",
        "ci_lows.append(low)\n",
        "ci_highs.append(high)\n",
        "print(\"Homophily value: \", homophily)\n",
        "print(\"Distance: \", distance)\n",
        "print(\"Lower bound of confidence interval: \", low)\n",
        "print(\"Higher bound of confidence interval: \", high)\n",
        "print(\"Edges: \", n_edges)"
      ]
    },
    {
      "cell_type": "code",
      "execution_count": 15,
      "metadata": {},
      "outputs": [
        {
          "name": "stdout",
          "output_type": "stream",
          "text": [
            "Homophily value:  0.9\n",
            "Distance:  0.2932932897759389\n",
            "Lower bound of confidence interval:  0.28814564655296826\n",
            "Higher bound of confidence interval:  0.2984409329989095\n",
            "Edges:  153\n"
          ]
        }
      ],
      "source": [
        "homophily = 0.9\n",
        "n_edges = 0\n",
        "distances = []\n",
        "for i in range(n_networks):\n",
        "    N = create_graph(n_nodes, 1/3, 1/3, 1, 1, homophily)\n",
        "    nodes = N.nodes()\n",
        "    edges = N.edges()\n",
        "    for edge in edges:\n",
        "        node_start = edge[0]\n",
        "        node_end = edge[1]\n",
        "        opinion_start = nodes[node_start]['opinion']\n",
        "        opinion_end = nodes[node_end]['opinion']\n",
        "        distance = np.abs(opinion_start - opinion_end)\n",
        "        distances.append(distance)\n",
        "    n_edges = len(edges)\n",
        "distance = np.mean(distances)\n",
        "low, high = confidence_interval(distances, len(distances))\n",
        "averages.append(distance)\n",
        "ci_lows.append(low)\n",
        "ci_highs.append(high)\n",
        "print(\"Homophily value: \", homophily)\n",
        "print(\"Distance: \", distance)\n",
        "print(\"Lower bound of confidence interval: \", low)\n",
        "print(\"Higher bound of confidence interval: \", high)\n",
        "print(\"Edges: \", n_edges)"
      ]
    },
    {
      "cell_type": "code",
      "execution_count": 16,
      "metadata": {},
      "outputs": [
        {
          "name": "stdout",
          "output_type": "stream",
          "text": [
            "Homophily value:  1.0\n",
            "Distance:  0.29825946684467697\n",
            "Lower bound of confidence interval:  0.29296175149421166\n",
            "Higher bound of confidence interval:  0.30355718219514227\n",
            "Edges:  142\n"
          ]
        }
      ],
      "source": [
        "homophily = 1.0\n",
        "n_edges = 0\n",
        "distances = []\n",
        "for i in range(n_networks):\n",
        "    N = create_graph(n_nodes, 1/3, 1/3, 1, 1, homophily)\n",
        "    nodes = N.nodes()\n",
        "    edges = N.edges()\n",
        "    for edge in edges:\n",
        "        node_start = edge[0]\n",
        "        node_end = edge[1]\n",
        "        opinion_start = nodes[node_start]['opinion']\n",
        "        opinion_end = nodes[node_end]['opinion']\n",
        "        distance = np.abs(opinion_start - opinion_end)\n",
        "        distances.append(distance)\n",
        "    n_edges = len(edges)\n",
        "distance = np.mean(distances)\n",
        "low, high = confidence_interval(distances, len(distances))\n",
        "averages.append(distance)\n",
        "ci_lows.append(low)\n",
        "ci_highs.append(high)\n",
        "print(\"Homophily value: \", homophily)\n",
        "print(\"Distance: \", distance)\n",
        "print(\"Lower bound of confidence interval: \", low)\n",
        "print(\"Higher bound of confidence interval: \", high)\n",
        "print(\"Edges: \", n_edges)"
      ]
    },
    {
      "cell_type": "code",
      "execution_count": 17,
      "metadata": {},
      "outputs": [
        {
          "data": {
            "image/png": "[encoded data removed]",
            "text/plain": [
              "<Figure size 640x480 with 1 Axes>"
            ]
          },
          "metadata": {},
          "output_type": "display_data"
        }
      ],
      "source": [
        "# Genera una sequenza di 11 numeri da 0.1 a 1.0\n",
        "x = np.linspace(0.1, 1.0, num=11)  \n",
        "\n",
        "fig, ax = plt.subplots()\n",
        "plt.plot(x, averages, c='b', linewidth=1.0)\n",
        "ax.fill_between(x, averages, ci_lows, color='b', alpha=.1)\n",
        "ax.fill_between(x, averages, ci_highs, color='b', alpha=.1)\n",
        "plt.xlabel(\"Homophily value\")\n",
        "plt.ylabel(\"Average opinion distance\")\n",
        "plt.show()"
      ]
    },
    {
      "cell_type": "code",
      "execution_count": 18,
      "metadata": {},
      "outputs": [
        {
          "data": {
            "text/plain": [
              "array([0.1 , 0.19, 0.28, 0.37, 0.46, 0.55, 0.64, 0.73, 0.82, 0.91, 1.  ])"
            ]
          },
          "execution_count": 18,
          "metadata": {},
          "output_type": "execute_result"
        }
      ],
      "source": [
        "x"
      ]
    },
    {
      "cell_type": "code",
      "execution_count": 19,
      "metadata": {},
      "outputs": [
        {
          "data": {
            "text/plain": [
              "[0.3747094908653336,\n",
              " 0.3740657362178786,\n",
              " 0.3662480267434804,\n",
              " 0.34459748816407076,\n",
              " 0.32631722689481263,\n",
              " 0.3130773951742188,\n",
              " 0.30353749113079415,\n",
              " 0.2966534315168128,\n",
              " 0.2952212540636163,\n",
              " 0.2932932897759389,\n",
              " 0.29825946684467697]"
            ]
          },
          "execution_count": 19,
          "metadata": {},
          "output_type": "execute_result"
        }
      ],
      "source": [
        "averages"
      ]
    },
    {
      "cell_type": "code",
      "execution_count": 20,
      "metadata": {},
      "outputs": [
        {
          "data": {
            "text/plain": [
              "[0.36905587748035174,\n",
              " 0.3683555268072504,\n",
              " 0.36046300808391674,\n",
              " 0.33880749659697534,\n",
              " 0.3205742499248602,\n",
              " 0.30747013107216986,\n",
              " 0.2980533679840795,\n",
              " 0.29136088128532156,\n",
              " 0.2899769561483319,\n",
              " 0.28814564655296826,\n",
              " 0.29296175149421166]"
            ]
          },
          "execution_count": 20,
          "metadata": {},
          "output_type": "execute_result"
        }
      ],
      "source": [
        "ci_lows"
      ]
    },
    {
      "attachments": {},
      "cell_type": "markdown",
      "metadata": {},
      "source": [
        "## Examples"
      ]
    },
    {
      "cell_type": "code",
      "execution_count": 21,
      "metadata": {},
      "outputs": [
        {
          "name": "stdout",
          "output_type": "stream",
          "text": [
            "0.3712233499607303\n"
          ]
        }
      ],
      "source": [
        "N1 = create_graph(n_nodes, 1/3, 1/3, 1, 1, 0.2)\n",
        "nodes = N1.nodes()\n",
        "edges = N1.edges()\n",
        "distances = []\n",
        "for edge in edges:\n",
        "    node_start = edge[0]\n",
        "    node_end = edge[1]\n",
        "    opinion_start = nodes[node_start]['opinion']\n",
        "    opinion_end = nodes[node_end]['opinion']\n",
        "    distance = np.abs(opinion_start - opinion_end)\n",
        "    distances.append(distance)\n",
        "homophily = np.sum(distances) / len(edges)\n",
        "print(homophily)"
      ]
    },
    {
      "cell_type": "code",
      "execution_count": 22,
      "metadata": {},
      "outputs": [
        {
          "name": "stdout",
          "output_type": "stream",
          "text": [
            "0.30500296392458076\n"
          ]
        }
      ],
      "source": [
        "N2 = create_graph(n_nodes, 1/3, 1/3, 1, 1, 0.5)\n",
        "nodes = N2.nodes()\n",
        "edges = N2.edges()\n",
        "distances = []\n",
        "for edge in edges:\n",
        "    node_start = edge[0]\n",
        "    node_end = edge[1]\n",
        "    opinion_start = nodes[node_start]['opinion']\n",
        "    opinion_end = nodes[node_end]['opinion']\n",
        "    distance = np.abs(opinion_start - opinion_end)\n",
        "    distances.append(distance)\n",
        "homophily = np.sum(distances) / len(edges)\n",
        "print(homophily)"
      ]
    },
    {
      "cell_type": "code",
      "execution_count": 23,
      "metadata": {},
      "outputs": [
        {
          "name": "stdout",
          "output_type": "stream",
          "text": [
            "0.3128706950796345\n"
          ]
        }
      ],
      "source": [
        "N3 = create_graph(n_nodes, 1/3, 1/3, 1, 1, 0.8)\n",
        "nodes = N3.nodes()\n",
        "edges = N3.edges()\n",
        "distances = []\n",
        "for edge in edges:\n",
        "    node_start = edge[0]\n",
        "    node_end = edge[1]\n",
        "    opinion_start = nodes[node_start]['opinion']\n",
        "    opinion_end = nodes[node_end]['opinion']\n",
        "    distance = np.abs(opinion_start - opinion_end)\n",
        "    distances.append(distance)\n",
        "homophily = np.sum(distances) / len(edges)\n",
        "print(homophily)"
      ]
    },
    {
      "cell_type": "code",
      "execution_count": 24,
      "metadata": {},
      "outputs": [
        {
          "name": "stdout",
          "output_type": "stream",
          "text": [
            "Exception\n"
          ]
        }
      ],
      "source": [
        "# Non deve essere possibile creare grafi dove \n",
        "# alfa + beta + gamma > 1\n",
        "try:\n",
        "    N = create_graph(100, 1, 1, 1, 1, 0.2)\n",
        "except:\n",
        "    print(\"Exception\")"
      ]
    }
  ],
  "metadata": {
    "colab": {
      "authorship_tag": "ABX9TyPxUOU7G7csi5MdhCfAI0T9",
      "collapsed_sections": [],
      "include_colab_link": true,
      "name": "Comparison.ipynb",
      "provenance": []
    },
    "kernelspec": {
      "display_name": "Python 3.10.4 ('SCMS')",
      "language": "python",
      "name": "python3"
    },
    "language_info": {
      "codemirror_mode": {
        "name": "ipython",
        "version": 3
      },
      "file_extension": ".py",
      "mimetype": "text/x-python",
      "name": "python",
      "nbconvert_exporter": "python",
      "pygments_lexer": "ipython3",
      "version": "3.10.4"
    },
    "vscode": {
      "interpreter": {
        "hash": "c97dbac1812ec30b48a7f39712c01c480bd467df285f0a5249fb97075fa3baaf"
      }
    }
  },
  "nbformat": 4,
  "nbformat_minor": 0
}
