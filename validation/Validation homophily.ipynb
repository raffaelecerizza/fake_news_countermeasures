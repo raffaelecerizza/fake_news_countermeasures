{
  "cells": [
    {
      "cell_type": "code",
      "execution_count": 1,
      "metadata": {
        "id": "DIJ_pbiypTYk"
      },
      "outputs": [],
      "source": [
        "import sys\n",
        "import random\n",
        "import scipy.stats\n",
        "import matplotlib.pyplot as plt\n",
        "import numpy as np\n",
        "from numpy.random import seed\n",
        "\n",
        "sys.path.append('.')\n",
        "sys.path.append('../../')\n",
        "sys.path.append('../network_model/')\n",
        "\n",
        "%load_ext autoreload\n",
        "%autoreload 2\n",
        "from graph_creation import create_graph"
      ]
    },
    {
      "cell_type": "code",
      "execution_count": 2,
      "metadata": {},
      "outputs": [],
      "source": [
        "cherrypicked_seed = 150\n",
        "\n",
        "seed(cherrypicked_seed)\n",
        "random.seed(cherrypicked_seed)"
      ]
    },
    {
      "attachments": {},
      "cell_type": "markdown",
      "metadata": {},
      "source": [
        "# Validation homophily"
      ]
    },
    {
      "cell_type": "code",
      "execution_count": 3,
      "metadata": {},
      "outputs": [],
      "source": [
        "n_networks = 50\n",
        "n_nodes = 100"
      ]
    },
    {
      "cell_type": "code",
      "execution_count": 4,
      "metadata": {},
      "outputs": [],
      "source": [
        "averages = []\n",
        "ci_lows = []\n",
        "ci_highs = []"
      ]
    },
    {
      "cell_type": "code",
      "execution_count": 5,
      "metadata": {},
      "outputs": [],
      "source": [
        "# Funzione per calcolare l'intervallo di confidenza\n",
        "def confidence_interval(data, n):\n",
        "    \n",
        "    mean = np.mean(data)\n",
        " \n",
        "    s_sum = 0\n",
        "    for i in range(len(data)):\n",
        "        s_sum += (data[i] - mean) * (data[i] - mean)\n",
        "    s_q = (1 / (n-1)) * s_sum\n",
        "    s = np.sqrt(s_q)  \n",
        "    sampling_error = s/(np.sqrt(n)) * scipy.stats.t.ppf(1.95 / 2.0, n-1)\n",
        "    \n",
        "    return (mean - sampling_error, mean + sampling_error)"
      ]
    },
    {
      "cell_type": "code",
      "execution_count": 6,
      "metadata": {},
      "outputs": [
        {
          "name": "stdout",
          "output_type": "stream",
          "text": [
            "Homophily value:  0.0\n",
            "Distance:  0.3744539374080218\n",
            "Lower bound of confidence interval:  0.3650769109208963\n",
            "Higher bound of confidence interval:  0.3838309638951473\n",
            "Edges:  147\n"
          ]
        }
      ],
      "source": [
        "homophily = 0.0\n",
        "n_edges = 0\n",
        "avg_distances = []\n",
        "for i in range(n_networks):\n",
        "    N = create_graph(n_nodes, 1/3, 1/3, 1, 1, homophily)\n",
        "    nodes = N.nodes()\n",
        "    edges = N.edges()\n",
        "    distances = []\n",
        "    for edge in edges:\n",
        "        node_start = edge[0]\n",
        "        node_end = edge[1]\n",
        "        opinion_start = nodes[node_start]['opinion']\n",
        "        opinion_end = nodes[node_end]['opinion']\n",
        "        distance = np.abs(opinion_start - opinion_end)\n",
        "        distances.append(distance)\n",
        "    avg_distance = np.sum(distances) / len(edges)\n",
        "    avg_distances.append(avg_distance)\n",
        "    n_edges = len(edges)\n",
        "distance = np.sum(avg_distances) / n_networks\n",
        "low, high = confidence_interval(avg_distances, n_networks)\n",
        "averages.append(distance)\n",
        "ci_lows.append(low)\n",
        "ci_highs.append(high)\n",
        "print(\"Homophily value: \", homophily)\n",
        "print(\"Distance: \", distance)\n",
        "print(\"Lower bound of confidence interval: \", low)\n",
        "print(\"Higher bound of confidence interval: \", high)\n",
        "print(\"Edges: \", n_edges)"
      ]
    },
    {
      "cell_type": "code",
      "execution_count": 7,
      "metadata": {},
      "outputs": [
        {
          "name": "stdout",
          "output_type": "stream",
          "text": [
            "Homophily value:  0.1\n",
            "Distance:  0.373961931300546\n",
            "Lower bound of confidence interval:  0.3649624848795561\n",
            "Higher bound of confidence interval:  0.3829613777215359\n",
            "Edges:  139\n"
          ]
        }
      ],
      "source": [
        "homophily = 0.1\n",
        "n_edges = 0\n",
        "avg_distances = []\n",
        "for i in range(n_networks):\n",
        "    N = create_graph(n_nodes, 1/3, 1/3, 1, 1, homophily)\n",
        "    nodes = N.nodes()\n",
        "    edges = N.edges()\n",
        "    distances = []\n",
        "    for edge in edges:\n",
        "        node_start = edge[0]\n",
        "        node_end = edge[1]\n",
        "        opinion_start = nodes[node_start]['opinion']\n",
        "        opinion_end = nodes[node_end]['opinion']\n",
        "        distance = np.abs(opinion_start - opinion_end)\n",
        "        distances.append(distance)\n",
        "    avg_distance = np.sum(distances) / len(edges)\n",
        "    avg_distances.append(avg_distance)\n",
        "    n_edges = len(edges)\n",
        "distance = np.sum(avg_distances) / n_networks\n",
        "low, high = confidence_interval(avg_distances, n_networks)\n",
        "averages.append(distance)\n",
        "ci_lows.append(low)\n",
        "ci_highs.append(high)\n",
        "print(\"Homophily value: \", homophily)\n",
        "print(\"Distance: \", distance)\n",
        "print(\"Lower bound of confidence interval: \", low)\n",
        "print(\"Higher bound of confidence interval: \", high)\n",
        "print(\"Edges: \", n_edges)"
      ]
    },
    {
      "cell_type": "code",
      "execution_count": 8,
      "metadata": {},
      "outputs": [
        {
          "name": "stdout",
          "output_type": "stream",
          "text": [
            "Homophily value:  0.2\n",
            "Distance:  0.3662778573229823\n",
            "Lower bound of confidence interval:  0.3563355698032688\n",
            "Higher bound of confidence interval:  0.3762201448426958\n",
            "Edges:  148\n"
          ]
        }
      ],
      "source": [
        "homophily = 0.2\n",
        "n_edges = 0\n",
        "avg_distances = []\n",
        "for i in range(n_networks):\n",
        "    N = create_graph(n_nodes, 1/3, 1/3, 1, 1, homophily)\n",
        "    nodes = N.nodes()\n",
        "    edges = N.edges()\n",
        "    distances = []\n",
        "    for edge in edges:\n",
        "        node_start = edge[0]\n",
        "        node_end = edge[1]\n",
        "        opinion_start = nodes[node_start]['opinion']\n",
        "        opinion_end = nodes[node_end]['opinion']\n",
        "        distance = np.abs(opinion_start - opinion_end)\n",
        "        distances.append(distance)\n",
        "    avg_distance = np.sum(distances) / len(edges)\n",
        "    avg_distances.append(avg_distance)\n",
        "    n_edges = len(edges)\n",
        "distance = np.sum(avg_distances) / n_networks\n",
        "low, high = confidence_interval(avg_distances, n_networks)\n",
        "averages.append(distance)\n",
        "ci_lows.append(low)\n",
        "ci_highs.append(high)\n",
        "print(\"Homophily value: \", homophily)\n",
        "print(\"Distance: \", distance)\n",
        "print(\"Lower bound of confidence interval: \", low)\n",
        "print(\"Higher bound of confidence interval: \", high)\n",
        "print(\"Edges: \", n_edges)"
      ]
    },
    {
      "cell_type": "code",
      "execution_count": 9,
      "metadata": {},
      "outputs": [
        {
          "name": "stdout",
          "output_type": "stream",
          "text": [
            "Homophily value:  0.3\n",
            "Distance:  0.3448197428418864\n",
            "Lower bound of confidence interval:  0.33777269232803125\n",
            "Higher bound of confidence interval:  0.3518667933557415\n",
            "Edges:  141\n"
          ]
        }
      ],
      "source": [
        "homophily = 0.3\n",
        "n_edges = 0\n",
        "avg_distances = []\n",
        "for i in range(n_networks):\n",
        "    N = create_graph(n_nodes, 1/3, 1/3, 1, 1, homophily)\n",
        "    nodes = N.nodes()\n",
        "    edges = N.edges()\n",
        "    distances = []\n",
        "    for edge in edges:\n",
        "        node_start = edge[0]\n",
        "        node_end = edge[1]\n",
        "        opinion_start = nodes[node_start]['opinion']\n",
        "        opinion_end = nodes[node_end]['opinion']\n",
        "        distance = np.abs(opinion_start - opinion_end)\n",
        "        distances.append(distance)\n",
        "    avg_distance = np.sum(distances) / len(edges)\n",
        "    avg_distances.append(avg_distance)\n",
        "    n_edges = len(edges)\n",
        "distance = np.sum(avg_distances) / n_networks\n",
        "low, high = confidence_interval(avg_distances, n_networks)\n",
        "averages.append(distance)\n",
        "ci_lows.append(low)\n",
        "ci_highs.append(high)\n",
        "print(\"Homophily value: \", homophily)\n",
        "print(\"Distance: \", distance)\n",
        "print(\"Lower bound of confidence interval: \", low)\n",
        "print(\"Higher bound of confidence interval: \", high)\n",
        "print(\"Edges: \", n_edges)"
      ]
    },
    {
      "cell_type": "code",
      "execution_count": 10,
      "metadata": {},
      "outputs": [
        {
          "name": "stdout",
          "output_type": "stream",
          "text": [
            "Homophily value:  0.4\n",
            "Distance:  0.32639625457034804\n",
            "Lower bound of confidence interval:  0.31846771802575663\n",
            "Higher bound of confidence interval:  0.33432479111493946\n",
            "Edges:  141\n"
          ]
        }
      ],
      "source": [
        "homophily = 0.4\n",
        "n_edges = 0\n",
        "avg_distances = []\n",
        "for i in range(n_networks):\n",
        "    N = create_graph(n_nodes, 1/3, 1/3, 1, 1, homophily)\n",
        "    nodes = N.nodes()\n",
        "    edges = N.edges()\n",
        "    distances = []\n",
        "    for edge in edges:\n",
        "        node_start = edge[0]\n",
        "        node_end = edge[1]\n",
        "        opinion_start = nodes[node_start]['opinion']\n",
        "        opinion_end = nodes[node_end]['opinion']\n",
        "        distance = np.abs(opinion_start - opinion_end)\n",
        "        distances.append(distance)\n",
        "    avg_distance = np.sum(distances) / len(edges)\n",
        "    avg_distances.append(avg_distance)\n",
        "    n_edges = len(edges)\n",
        "distance = np.sum(avg_distances) / n_networks\n",
        "low, high = confidence_interval(avg_distances, n_networks)\n",
        "averages.append(distance)\n",
        "ci_lows.append(low)\n",
        "ci_highs.append(high)\n",
        "print(\"Homophily value: \", homophily)\n",
        "print(\"Distance: \", distance)\n",
        "print(\"Lower bound of confidence interval: \", low)\n",
        "print(\"Higher bound of confidence interval: \", high)\n",
        "print(\"Edges: \", n_edges)"
      ]
    },
    {
      "cell_type": "code",
      "execution_count": 11,
      "metadata": {},
      "outputs": [
        {
          "name": "stdout",
          "output_type": "stream",
          "text": [
            "Homophily value:  0.5\n",
            "Distance:  0.31279581652589117\n",
            "Lower bound of confidence interval:  0.3060478213103677\n",
            "Higher bound of confidence interval:  0.31954381174141466\n",
            "Edges:  143\n"
          ]
        }
      ],
      "source": [
        "homophily = 0.5\n",
        "n_edges = 0\n",
        "avg_distances = []\n",
        "for i in range(n_networks):\n",
        "    N = create_graph(n_nodes, 1/3, 1/3, 1, 1, homophily)\n",
        "    nodes = N.nodes()\n",
        "    edges = N.edges()\n",
        "    distances = []\n",
        "    for edge in edges:\n",
        "        node_start = edge[0]\n",
        "        node_end = edge[1]\n",
        "        opinion_start = nodes[node_start]['opinion']\n",
        "        opinion_end = nodes[node_end]['opinion']\n",
        "        distance = np.abs(opinion_start - opinion_end)\n",
        "        distances.append(distance)\n",
        "    avg_distance = np.sum(distances) / len(edges)\n",
        "    avg_distances.append(avg_distance)\n",
        "    n_edges = len(edges)\n",
        "distance = np.sum(avg_distances) / n_networks\n",
        "low, high = confidence_interval(avg_distances, n_networks)\n",
        "averages.append(distance)\n",
        "ci_lows.append(low)\n",
        "ci_highs.append(high)\n",
        "print(\"Homophily value: \", homophily)\n",
        "print(\"Distance: \", distance)\n",
        "print(\"Lower bound of confidence interval: \", low)\n",
        "print(\"Higher bound of confidence interval: \", high)\n",
        "print(\"Edges: \", n_edges)"
      ]
    },
    {
      "cell_type": "code",
      "execution_count": 12,
      "metadata": {},
      "outputs": [
        {
          "name": "stdout",
          "output_type": "stream",
          "text": [
            "Homophily value:  0.6\n",
            "Distance:  0.30343293457809895\n",
            "Lower bound of confidence interval:  0.2967549975606164\n",
            "Higher bound of confidence interval:  0.3101108715955815\n",
            "Edges:  129\n"
          ]
        }
      ],
      "source": [
        "homophily = 0.6\n",
        "n_edges = 0\n",
        "avg_distances = []\n",
        "for i in range(n_networks):\n",
        "    N = create_graph(n_nodes, 1/3, 1/3, 1, 1, homophily)\n",
        "    nodes = N.nodes()\n",
        "    edges = N.edges()\n",
        "    distances = []\n",
        "    for edge in edges:\n",
        "        node_start = edge[0]\n",
        "        node_end = edge[1]\n",
        "        opinion_start = nodes[node_start]['opinion']\n",
        "        opinion_end = nodes[node_end]['opinion']\n",
        "        distance = np.abs(opinion_start - opinion_end)\n",
        "        distances.append(distance)\n",
        "    avg_distance = np.sum(distances) / len(edges)\n",
        "    avg_distances.append(avg_distance)\n",
        "    n_edges = len(edges)\n",
        "distance = np.sum(avg_distances) / n_networks\n",
        "low, high = confidence_interval(avg_distances, n_networks)\n",
        "averages.append(distance)\n",
        "ci_lows.append(low)\n",
        "ci_highs.append(high)\n",
        "print(\"Homophily value: \", homophily)\n",
        "print(\"Distance: \", distance)\n",
        "print(\"Lower bound of confidence interval: \", low)\n",
        "print(\"Higher bound of confidence interval: \", high)\n",
        "print(\"Edges: \", n_edges)"
      ]
    },
    {
      "cell_type": "code",
      "execution_count": 13,
      "metadata": {},
      "outputs": [
        {
          "name": "stdout",
          "output_type": "stream",
          "text": [
            "Homophily value:  0.7\n",
            "Distance:  0.2967651730822972\n",
            "Lower bound of confidence interval:  0.29120977069591647\n",
            "Higher bound of confidence interval:  0.30232057546867797\n",
            "Edges:  156\n"
          ]
        }
      ],
      "source": [
        "homophily = 0.7\n",
        "n_edges = 0\n",
        "avg_distances = []\n",
        "for i in range(n_networks):\n",
        "    N = create_graph(n_nodes, 1/3, 1/3, 1, 1, homophily)\n",
        "    nodes = N.nodes()\n",
        "    edges = N.edges()\n",
        "    distances = []\n",
        "    for edge in edges:\n",
        "        node_start = edge[0]\n",
        "        node_end = edge[1]\n",
        "        opinion_start = nodes[node_start]['opinion']\n",
        "        opinion_end = nodes[node_end]['opinion']\n",
        "        distance = np.abs(opinion_start - opinion_end)\n",
        "        distances.append(distance)\n",
        "    avg_distance = np.sum(distances) / len(edges)\n",
        "    avg_distances.append(avg_distance)\n",
        "    n_edges = len(edges)\n",
        "distance = np.sum(avg_distances) / n_networks\n",
        "low, high = confidence_interval(avg_distances, n_networks)\n",
        "averages.append(distance)\n",
        "ci_lows.append(low)\n",
        "ci_highs.append(high)\n",
        "print(\"Homophily value: \", homophily)\n",
        "print(\"Distance: \", distance)\n",
        "print(\"Lower bound of confidence interval: \", low)\n",
        "print(\"Higher bound of confidence interval: \", high)\n",
        "print(\"Edges: \", n_edges)"
      ]
    },
    {
      "cell_type": "code",
      "execution_count": 14,
      "metadata": {},
      "outputs": [
        {
          "name": "stdout",
          "output_type": "stream",
          "text": [
            "Homophily value:  0.8\n",
            "Distance:  0.295271718562811\n",
            "Lower bound of confidence interval:  0.28905250506924346\n",
            "Higher bound of confidence interval:  0.3014909320563785\n",
            "Edges:  137\n"
          ]
        }
      ],
      "source": [
        "homophily = 0.8\n",
        "n_edges = 0\n",
        "avg_distances = []\n",
        "for i in range(n_networks):\n",
        "    N = create_graph(n_nodes, 1/3, 1/3, 1, 1, homophily)\n",
        "    nodes = N.nodes()\n",
        "    edges = N.edges()\n",
        "    distances = []\n",
        "    for edge in edges:\n",
        "        node_start = edge[0]\n",
        "        node_end = edge[1]\n",
        "        opinion_start = nodes[node_start]['opinion']\n",
        "        opinion_end = nodes[node_end]['opinion']\n",
        "        distance = np.abs(opinion_start - opinion_end)\n",
        "        distances.append(distance)\n",
        "    avg_distance = np.sum(distances) / len(edges)\n",
        "    avg_distances.append(avg_distance)\n",
        "    n_edges = len(edges)\n",
        "distance = np.sum(avg_distances) / n_networks\n",
        "low, high = confidence_interval(avg_distances, n_networks)\n",
        "averages.append(distance)\n",
        "ci_lows.append(low)\n",
        "ci_highs.append(high)\n",
        "print(\"Homophily value: \", homophily)\n",
        "print(\"Distance: \", distance)\n",
        "print(\"Lower bound of confidence interval: \", low)\n",
        "print(\"Higher bound of confidence interval: \", high)\n",
        "print(\"Edges: \", n_edges)"
      ]
    },
    {
      "cell_type": "code",
      "execution_count": 15,
      "metadata": {},
      "outputs": [
        {
          "name": "stdout",
          "output_type": "stream",
          "text": [
            "Homophily value:  0.9\n",
            "Distance:  0.29349979561032485\n",
            "Lower bound of confidence interval:  0.28654086070874096\n",
            "Higher bound of confidence interval:  0.30045873051190874\n",
            "Edges:  153\n"
          ]
        }
      ],
      "source": [
        "homophily = 0.9\n",
        "n_edges = 0\n",
        "avg_distances = []\n",
        "for i in range(n_networks):\n",
        "    N = create_graph(n_nodes, 1/3, 1/3, 1, 1, homophily)\n",
        "    nodes = N.nodes()\n",
        "    edges = N.edges()\n",
        "    distances = []\n",
        "    for edge in edges:\n",
        "        node_start = edge[0]\n",
        "        node_end = edge[1]\n",
        "        opinion_start = nodes[node_start]['opinion']\n",
        "        opinion_end = nodes[node_end]['opinion']\n",
        "        distance = np.abs(opinion_start - opinion_end)\n",
        "        distances.append(distance)\n",
        "    avg_distance = np.sum(distances) / len(edges)\n",
        "    avg_distances.append(avg_distance)\n",
        "    n_edges = len(edges)\n",
        "distance = np.sum(avg_distances) / n_networks\n",
        "low, high = confidence_interval(avg_distances, n_networks)\n",
        "averages.append(distance)\n",
        "ci_lows.append(low)\n",
        "ci_highs.append(high)\n",
        "print(\"Homophily value: \", homophily)\n",
        "print(\"Distance: \", distance)\n",
        "print(\"Lower bound of confidence interval: \", low)\n",
        "print(\"Higher bound of confidence interval: \", high)\n",
        "print(\"Edges: \", n_edges)"
      ]
    },
    {
      "cell_type": "code",
      "execution_count": 16,
      "metadata": {},
      "outputs": [
        {
          "name": "stdout",
          "output_type": "stream",
          "text": [
            "Homophily value:  1.0\n",
            "Distance:  0.29846943563259015\n",
            "Lower bound of confidence interval:  0.29114801182037275\n",
            "Higher bound of confidence interval:  0.30579085944480755\n",
            "Edges:  142\n"
          ]
        }
      ],
      "source": [
        "homophily = 1.0\n",
        "n_edges = 0\n",
        "avg_distances = []\n",
        "for i in range(n_networks):\n",
        "    N = create_graph(n_nodes, 1/3, 1/3, 1, 1, homophily)\n",
        "    nodes = N.nodes()\n",
        "    edges = N.edges()\n",
        "    distances = []\n",
        "    for edge in edges:\n",
        "        node_start = edge[0]\n",
        "        node_end = edge[1]\n",
        "        opinion_start = nodes[node_start]['opinion']\n",
        "        opinion_end = nodes[node_end]['opinion']\n",
        "        distance = np.abs(opinion_start - opinion_end)\n",
        "        distances.append(distance)\n",
        "    avg_distance = np.sum(distances) / len(edges)\n",
        "    avg_distances.append(avg_distance)\n",
        "    n_edges = len(edges)\n",
        "distance = np.sum(avg_distances) / n_networks\n",
        "low, high = confidence_interval(avg_distances, n_networks)\n",
        "averages.append(distance)\n",
        "ci_lows.append(low)\n",
        "ci_highs.append(high)\n",
        "print(\"Homophily value: \", homophily)\n",
        "print(\"Distance: \", distance)\n",
        "print(\"Lower bound of confidence interval: \", low)\n",
        "print(\"Higher bound of confidence interval: \", high)\n",
        "print(\"Edges: \", n_edges)"
      ]
    },
    {
      "cell_type": "code",
      "execution_count": 17,
      "metadata": {},
      "outputs": [
        {
          "data": {
            "image/png": "[encoded data removed]",
            "text/plain": [
              "<Figure size 640x480 with 1 Axes>"
            ]
          },
          "metadata": {},
          "output_type": "display_data"
        }
      ],
      "source": [
        "# Genera una sequenza di 11 numeri da 0.1 a 1.0\n",
        "x = np.linspace(0.1, 1.0, num=11)  \n",
        "\n",
        "fig, ax = plt.subplots()\n",
        "plt.plot(x, averages, c='b', linewidth=1.0)\n",
        "ax.fill_between(x, averages, ci_lows, color='b', alpha=.1)\n",
        "ax.fill_between(x, averages, ci_highs, color='b', alpha=.1)\n",
        "plt.xlabel(\"Homophily value\")\n",
        "plt.ylabel(\"Average opinion distance\")\n",
        "plt.show()"
      ]
    },
    {
      "cell_type": "code",
      "execution_count": 18,
      "metadata": {},
      "outputs": [
        {
          "data": {
            "text/plain": [
              "array([0.1 , 0.19, 0.28, 0.37, 0.46, 0.55, 0.64, 0.73, 0.82, 0.91, 1.  ])"
            ]
          },
          "execution_count": 18,
          "metadata": {},
          "output_type": "execute_result"
        }
      ],
      "source": [
        "x"
      ]
    },
    {
      "cell_type": "code",
      "execution_count": 19,
      "metadata": {},
      "outputs": [
        {
          "data": {
            "text/plain": [
              "[0.3744539374080218,\n",
              " 0.373961931300546,\n",
              " 0.3662778573229823,\n",
              " 0.3448197428418864,\n",
              " 0.32639625457034804,\n",
              " 0.31279581652589117,\n",
              " 0.30343293457809895,\n",
              " 0.2967651730822972,\n",
              " 0.295271718562811,\n",
              " 0.29349979561032485,\n",
              " 0.29846943563259015]"
            ]
          },
          "execution_count": 19,
          "metadata": {},
          "output_type": "execute_result"
        }
      ],
      "source": [
        "averages"
      ]
    },
    {
      "cell_type": "code",
      "execution_count": 20,
      "metadata": {},
      "outputs": [
        {
          "data": {
            "text/plain": [
              "[0.3650769109208963,\n",
              " 0.3649624848795561,\n",
              " 0.3563355698032688,\n",
              " 0.33777269232803125,\n",
              " 0.31846771802575663,\n",
              " 0.3060478213103677,\n",
              " 0.2967549975606164,\n",
              " 0.29120977069591647,\n",
              " 0.28905250506924346,\n",
              " 0.28654086070874096,\n",
              " 0.29114801182037275]"
            ]
          },
          "execution_count": 20,
          "metadata": {},
          "output_type": "execute_result"
        }
      ],
      "source": [
        "ci_lows"
      ]
    },
    {
      "attachments": {},
      "cell_type": "markdown",
      "metadata": {},
      "source": [
        "## Examples"
      ]
    },
    {
      "cell_type": "code",
      "execution_count": 21,
      "metadata": {},
      "outputs": [
        {
          "name": "stdout",
          "output_type": "stream",
          "text": [
            "0.3712233499607303\n"
          ]
        }
      ],
      "source": [
        "N1 = create_graph(n_nodes, 1/3, 1/3, 1, 1, 0.2)\n",
        "nodes = N1.nodes()\n",
        "edges = N1.edges()\n",
        "distances = []\n",
        "for edge in edges:\n",
        "    node_start = edge[0]\n",
        "    node_end = edge[1]\n",
        "    opinion_start = nodes[node_start]['opinion']\n",
        "    opinion_end = nodes[node_end]['opinion']\n",
        "    distance = np.abs(opinion_start - opinion_end)\n",
        "    distances.append(distance)\n",
        "homophily = np.sum(distances) / len(edges)\n",
        "print(homophily)"
      ]
    },
    {
      "cell_type": "code",
      "execution_count": 22,
      "metadata": {},
      "outputs": [
        {
          "name": "stdout",
          "output_type": "stream",
          "text": [
            "0.30500296392458076\n"
          ]
        }
      ],
      "source": [
        "N2 = create_graph(n_nodes, 1/3, 1/3, 1, 1, 0.5)\n",
        "nodes = N2.nodes()\n",
        "edges = N2.edges()\n",
        "distances = []\n",
        "for edge in edges:\n",
        "    node_start = edge[0]\n",
        "    node_end = edge[1]\n",
        "    opinion_start = nodes[node_start]['opinion']\n",
        "    opinion_end = nodes[node_end]['opinion']\n",
        "    distance = np.abs(opinion_start - opinion_end)\n",
        "    distances.append(distance)\n",
        "homophily = np.sum(distances) / len(edges)\n",
        "print(homophily)"
      ]
    },
    {
      "cell_type": "code",
      "execution_count": 23,
      "metadata": {},
      "outputs": [
        {
          "name": "stdout",
          "output_type": "stream",
          "text": [
            "0.3128706950796345\n"
          ]
        }
      ],
      "source": [
        "N3 = create_graph(n_nodes, 1/3, 1/3, 1, 1, 0.8)\n",
        "nodes = N3.nodes()\n",
        "edges = N3.edges()\n",
        "distances = []\n",
        "for edge in edges:\n",
        "    node_start = edge[0]\n",
        "    node_end = edge[1]\n",
        "    opinion_start = nodes[node_start]['opinion']\n",
        "    opinion_end = nodes[node_end]['opinion']\n",
        "    distance = np.abs(opinion_start - opinion_end)\n",
        "    distances.append(distance)\n",
        "homophily = np.sum(distances) / len(edges)\n",
        "print(homophily)"
      ]
    },
    {
      "cell_type": "code",
      "execution_count": 24,
      "metadata": {},
      "outputs": [
        {
          "name": "stdout",
          "output_type": "stream",
          "text": [
            "Exception\n"
          ]
        }
      ],
      "source": [
        "# Non deve essere possibile creare grafi dove \n",
        "# alfa + beta + gamma > 1\n",
        "try:\n",
        "    N = create_graph(100, 1, 1, 1, 1, 0.2)\n",
        "except:\n",
        "    print(\"Exception\")"
      ]
    }
  ],
  "metadata": {
    "colab": {
      "authorship_tag": "ABX9TyPxUOU7G7csi5MdhCfAI0T9",
      "collapsed_sections": [],
      "include_colab_link": true,
      "name": "Comparison.ipynb",
      "provenance": []
    },
    "kernelspec": {
      "display_name": "Python 3.10.4 ('SCMS')",
      "language": "python",
      "name": "python3"
    },
    "language_info": {
      "codemirror_mode": {
        "name": "ipython",
        "version": 3
      },
      "file_extension": ".py",
      "mimetype": "text/x-python",
      "name": "python",
      "nbconvert_exporter": "python",
      "pygments_lexer": "ipython3",
      "version": "3.10.4"
    },
    "vscode": {
      "interpreter": {
        "hash": "c97dbac1812ec30b48a7f39712c01c480bd467df285f0a5249fb97075fa3baaf"
      }
    }
  },
  "nbformat": 4,
  "nbformat_minor": 0
}
