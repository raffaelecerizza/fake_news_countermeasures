{
 "cells": [
  {
   "cell_type": "code",
   "execution_count": 1,
   "metadata": {},
   "outputs": [],
   "source": [
    "import os\n",
    "import sys\n",
    "import tqdm\n",
    "import random\n",
    "import numpy as np\n",
    "import pandas as pd\n",
    "import matplotlib.pyplot as plt\n",
    "from numpy.random import seed\n",
    "from skopt import BayesSearchCV\n",
    "from sklearn.base import BaseEstimator\n",
    "from sklearn.metrics import mean_squared_error\n",
    "\n",
    "sys.path.append('.')\n",
    "sys.path.append('../../')\n",
    "sys.path.append('../network_model/')\n",
    "\n",
    "notebook_path = os.getcwd()\n",
    "project_path = os.path.abspath(os.path.join(notebook_path, '..'))\n",
    "sys.path.append(project_path)\n",
    "\n",
    "from network_model.network_classes import Network\n",
    "from networks_container import NetworksContainer\n",
    "from estimator import Estimator"
   ]
  },
  {
   "cell_type": "code",
   "execution_count": 2,
   "metadata": {},
   "outputs": [],
   "source": [
    "cherrypicked_seed = 42\n",
    "\n",
    "seed(cherrypicked_seed)\n",
    "random.seed(cherrypicked_seed)"
   ]
  },
  {
   "cell_type": "code",
   "execution_count": 3,
   "metadata": {},
   "outputs": [],
   "source": [
    "dataset_obama = pd.read_csv(\"../datasets/obamaAnonimized.csv\", dtype=str)"
   ]
  },
  {
   "cell_type": "code",
   "execution_count": 4,
   "metadata": {},
   "outputs": [],
   "source": [
    "endorsers_percentage_list = pd.read_csv(\"../datasets/obama_endorsers_hours_percentage_list.csv\", dtype=int, header=None)\n",
    "endorsers_percentage_list = endorsers_percentage_list.values.tolist()\n",
    "endorsers_percentage_list = [item for sublist in endorsers_percentage_list for item in sublist]"
   ]
  },
  {
   "cell_type": "code",
   "execution_count": 5,
   "metadata": {},
   "outputs": [
    {
     "name": "stdout",
     "output_type": "stream",
     "text": [
      "4730\n"
     ]
    }
   ],
   "source": [
    "print(len(endorsers_percentage_list))"
   ]
  },
  {
   "cell_type": "code",
   "execution_count": 6,
   "metadata": {},
   "outputs": [],
   "source": [
    "# Tolgo 1 in quanto considero la prima epoca come lo stato iniziale\n",
    "epochs = len(endorsers_percentage_list) - 1"
   ]
  },
  {
   "cell_type": "code",
   "execution_count": 7,
   "metadata": {},
   "outputs": [
    {
     "name": "stdout",
     "output_type": "stream",
     "text": [
      "4337\n"
     ]
    }
   ],
   "source": [
    "print(len(dataset_obama))"
   ]
  },
  {
   "cell_type": "code",
   "execution_count": 8,
   "metadata": {},
   "outputs": [
    {
     "data": {
      "text/plain": [
       "2678"
      ]
     },
     "execution_count": 8,
     "metadata": {},
     "output_type": "execute_result"
    }
   ],
   "source": [
    "n_nodes = 2678\n",
    "n_nodes"
   ]
  },
  {
   "cell_type": "code",
   "execution_count": 9,
   "metadata": {},
   "outputs": [
    {
     "data": {
      "text/plain": [
       "27"
      ]
     },
     "execution_count": 9,
     "metadata": {},
     "output_type": "execute_result"
    }
   ],
   "source": [
    "n_bots = round((1 / 100) * n_nodes)\n",
    "n_bots"
   ]
  },
  {
   "cell_type": "code",
   "execution_count": 10,
   "metadata": {},
   "outputs": [
    {
     "data": {
      "text/plain": [
       "27"
      ]
     },
     "execution_count": 10,
     "metadata": {},
     "output_type": "execute_result"
    }
   ],
   "source": [
    "n_fact_checkers = round((1 / 100) * n_nodes)\n",
    "n_fact_checkers"
   ]
  },
  {
   "cell_type": "code",
   "execution_count": 11,
   "metadata": {},
   "outputs": [],
   "source": [
    "n_influencers = 29"
   ]
  },
  {
   "cell_type": "code",
   "execution_count": 12,
   "metadata": {},
   "outputs": [
    {
     "data": {
      "text/plain": [
       "2595"
      ]
     },
     "execution_count": 12,
     "metadata": {},
     "output_type": "execute_result"
    }
   ],
   "source": [
    "n_commons = n_nodes - n_bots - n_fact_checkers - n_influencers\n",
    "n_commons"
   ]
  },
  {
   "cell_type": "code",
   "execution_count": 13,
   "metadata": {},
   "outputs": [
    {
     "data": {
      "text/plain": [
       "0"
      ]
     },
     "execution_count": 13,
     "metadata": {},
     "output_type": "execute_result"
    }
   ],
   "source": [
    "n_initial_infected_nodes = round((1 / 100) * n_nodes) - n_bots\n",
    "n_initial_infected_nodes"
   ]
  },
  {
   "attachments": {},
   "cell_type": "markdown",
   "metadata": {},
   "source": [
    "# Validation for homophily 0.50"
   ]
  },
  {
   "cell_type": "code",
   "execution_count": 14,
   "metadata": {},
   "outputs": [],
   "source": [
    "# Prendo i parametri calibrati con un dataset diverso da quello usato per la validazione\n",
    "parameters_homophily_050 = pd.read_csv(\"./parameters/parameters_optimization_palin_hours_homophily_0.50.csv\")"
   ]
  },
  {
   "cell_type": "code",
   "execution_count": 15,
   "metadata": {},
   "outputs": [
    {
     "data": {
      "text/html": [
       "<div>\n",
       "<style scoped>\n",
       "    .dataframe tbody tr th:only-of-type {\n",
       "        vertical-align: middle;\n",
       "    }\n",
       "\n",
       "    .dataframe tbody tr th {\n",
       "        vertical-align: top;\n",
       "    }\n",
       "\n",
       "    .dataframe thead th {\n",
       "        text-align: right;\n",
       "    }\n",
       "</style>\n",
       "<table border=\"1\" class=\"dataframe\">\n",
       "  <thead>\n",
       "    <tr style=\"text-align: right;\">\n",
       "      <th></th>\n",
       "      <th>alpha</th>\n",
       "      <th>beta</th>\n",
       "      <th>homophily</th>\n",
       "      <th>prob_infection</th>\n",
       "      <th>prob_vaccination</th>\n",
       "      <th>prob_cure</th>\n",
       "      <th>prob_influencer</th>\n",
       "      <th>prob_echo</th>\n",
       "      <th>rmse</th>\n",
       "    </tr>\n",
       "  </thead>\n",
       "  <tbody>\n",
       "    <tr>\n",
       "      <th>16</th>\n",
       "      <td>0.50</td>\n",
       "      <td>0.33</td>\n",
       "      <td>0.5</td>\n",
       "      <td>0.360038</td>\n",
       "      <td>0.056790</td>\n",
       "      <td>0.216255</td>\n",
       "      <td>0.098907</td>\n",
       "      <td>0.617839</td>\n",
       "      <td>1.405257</td>\n",
       "    </tr>\n",
       "    <tr>\n",
       "      <th>17</th>\n",
       "      <td>0.50</td>\n",
       "      <td>0.50</td>\n",
       "      <td>0.5</td>\n",
       "      <td>0.454669</td>\n",
       "      <td>0.098769</td>\n",
       "      <td>0.211907</td>\n",
       "      <td>0.101289</td>\n",
       "      <td>0.250256</td>\n",
       "      <td>2.821633</td>\n",
       "    </tr>\n",
       "    <tr>\n",
       "      <th>15</th>\n",
       "      <td>0.50</td>\n",
       "      <td>0.25</td>\n",
       "      <td>0.5</td>\n",
       "      <td>0.308446</td>\n",
       "      <td>0.007363</td>\n",
       "      <td>0.157705</td>\n",
       "      <td>0.510944</td>\n",
       "      <td>0.549876</td>\n",
       "      <td>2.909999</td>\n",
       "    </tr>\n",
       "    <tr>\n",
       "      <th>19</th>\n",
       "      <td>0.75</td>\n",
       "      <td>0.25</td>\n",
       "      <td>0.5</td>\n",
       "      <td>0.448473</td>\n",
       "      <td>0.139018</td>\n",
       "      <td>0.030732</td>\n",
       "      <td>0.006663</td>\n",
       "      <td>0.825364</td>\n",
       "      <td>3.469475</td>\n",
       "    </tr>\n",
       "    <tr>\n",
       "      <th>9</th>\n",
       "      <td>0.25</td>\n",
       "      <td>0.75</td>\n",
       "      <td>0.5</td>\n",
       "      <td>0.471125</td>\n",
       "      <td>0.095869</td>\n",
       "      <td>0.172569</td>\n",
       "      <td>0.407868</td>\n",
       "      <td>0.015595</td>\n",
       "      <td>3.713381</td>\n",
       "    </tr>\n",
       "    <tr>\n",
       "      <th>12</th>\n",
       "      <td>0.33</td>\n",
       "      <td>0.33</td>\n",
       "      <td>0.5</td>\n",
       "      <td>0.317698</td>\n",
       "      <td>0.007074</td>\n",
       "      <td>0.214766</td>\n",
       "      <td>0.499534</td>\n",
       "      <td>0.120162</td>\n",
       "      <td>9.119578</td>\n",
       "    </tr>\n",
       "    <tr>\n",
       "      <th>13</th>\n",
       "      <td>0.33</td>\n",
       "      <td>0.50</td>\n",
       "      <td>0.5</td>\n",
       "      <td>0.439607</td>\n",
       "      <td>0.077711</td>\n",
       "      <td>0.071581</td>\n",
       "      <td>0.018257</td>\n",
       "      <td>0.299499</td>\n",
       "      <td>11.036833</td>\n",
       "    </tr>\n",
       "    <tr>\n",
       "      <th>8</th>\n",
       "      <td>0.25</td>\n",
       "      <td>0.50</td>\n",
       "      <td>0.5</td>\n",
       "      <td>0.481207</td>\n",
       "      <td>0.075433</td>\n",
       "      <td>0.153820</td>\n",
       "      <td>0.221028</td>\n",
       "      <td>0.824805</td>\n",
       "      <td>11.741975</td>\n",
       "    </tr>\n",
       "    <tr>\n",
       "      <th>6</th>\n",
       "      <td>0.25</td>\n",
       "      <td>0.25</td>\n",
       "      <td>0.5</td>\n",
       "      <td>0.418224</td>\n",
       "      <td>0.000221</td>\n",
       "      <td>0.119561</td>\n",
       "      <td>0.112658</td>\n",
       "      <td>0.001969</td>\n",
       "      <td>15.698193</td>\n",
       "    </tr>\n",
       "    <tr>\n",
       "      <th>4</th>\n",
       "      <td>0.00</td>\n",
       "      <td>0.75</td>\n",
       "      <td>0.5</td>\n",
       "      <td>0.437207</td>\n",
       "      <td>0.035077</td>\n",
       "      <td>0.234331</td>\n",
       "      <td>0.816667</td>\n",
       "      <td>0.986421</td>\n",
       "      <td>16.186571</td>\n",
       "    </tr>\n",
       "    <tr>\n",
       "      <th>11</th>\n",
       "      <td>0.33</td>\n",
       "      <td>0.25</td>\n",
       "      <td>0.5</td>\n",
       "      <td>0.304124</td>\n",
       "      <td>0.003573</td>\n",
       "      <td>0.172507</td>\n",
       "      <td>0.118641</td>\n",
       "      <td>0.490564</td>\n",
       "      <td>17.203603</td>\n",
       "    </tr>\n",
       "    <tr>\n",
       "      <th>7</th>\n",
       "      <td>0.25</td>\n",
       "      <td>0.33</td>\n",
       "      <td>0.5</td>\n",
       "      <td>0.291511</td>\n",
       "      <td>0.021879</td>\n",
       "      <td>0.065618</td>\n",
       "      <td>0.835450</td>\n",
       "      <td>0.305456</td>\n",
       "      <td>17.771988</td>\n",
       "    </tr>\n",
       "    <tr>\n",
       "      <th>18</th>\n",
       "      <td>0.75</td>\n",
       "      <td>0.00</td>\n",
       "      <td>0.5</td>\n",
       "      <td>0.463443</td>\n",
       "      <td>0.016327</td>\n",
       "      <td>0.188315</td>\n",
       "      <td>0.366944</td>\n",
       "      <td>0.441945</td>\n",
       "      <td>20.525708</td>\n",
       "    </tr>\n",
       "    <tr>\n",
       "      <th>3</th>\n",
       "      <td>0.00</td>\n",
       "      <td>0.50</td>\n",
       "      <td>0.5</td>\n",
       "      <td>0.271859</td>\n",
       "      <td>0.018083</td>\n",
       "      <td>0.217869</td>\n",
       "      <td>0.203791</td>\n",
       "      <td>0.583193</td>\n",
       "      <td>22.017865</td>\n",
       "    </tr>\n",
       "    <tr>\n",
       "      <th>2</th>\n",
       "      <td>0.00</td>\n",
       "      <td>0.33</td>\n",
       "      <td>0.5</td>\n",
       "      <td>0.350876</td>\n",
       "      <td>0.005639</td>\n",
       "      <td>0.223302</td>\n",
       "      <td>0.407519</td>\n",
       "      <td>0.853382</td>\n",
       "      <td>23.367148</td>\n",
       "    </tr>\n",
       "    <tr>\n",
       "      <th>1</th>\n",
       "      <td>0.00</td>\n",
       "      <td>0.25</td>\n",
       "      <td>0.5</td>\n",
       "      <td>0.494364</td>\n",
       "      <td>0.014413</td>\n",
       "      <td>0.132233</td>\n",
       "      <td>0.817073</td>\n",
       "      <td>0.557609</td>\n",
       "      <td>25.671559</td>\n",
       "    </tr>\n",
       "    <tr>\n",
       "      <th>14</th>\n",
       "      <td>0.50</td>\n",
       "      <td>0.00</td>\n",
       "      <td>0.5</td>\n",
       "      <td>0.405531</td>\n",
       "      <td>0.036844</td>\n",
       "      <td>0.107987</td>\n",
       "      <td>0.489731</td>\n",
       "      <td>0.806351</td>\n",
       "      <td>28.758994</td>\n",
       "    </tr>\n",
       "    <tr>\n",
       "      <th>10</th>\n",
       "      <td>0.33</td>\n",
       "      <td>0.00</td>\n",
       "      <td>0.5</td>\n",
       "      <td>0.280175</td>\n",
       "      <td>0.002412</td>\n",
       "      <td>0.106854</td>\n",
       "      <td>0.237070</td>\n",
       "      <td>0.217599</td>\n",
       "      <td>29.283619</td>\n",
       "    </tr>\n",
       "    <tr>\n",
       "      <th>5</th>\n",
       "      <td>0.25</td>\n",
       "      <td>0.00</td>\n",
       "      <td>0.5</td>\n",
       "      <td>0.414123</td>\n",
       "      <td>0.040131</td>\n",
       "      <td>0.217079</td>\n",
       "      <td>0.312492</td>\n",
       "      <td>0.795782</td>\n",
       "      <td>30.634457</td>\n",
       "    </tr>\n",
       "    <tr>\n",
       "      <th>20</th>\n",
       "      <td>1.00</td>\n",
       "      <td>0.00</td>\n",
       "      <td>0.5</td>\n",
       "      <td>0.363411</td>\n",
       "      <td>0.137573</td>\n",
       "      <td>0.081239</td>\n",
       "      <td>0.993879</td>\n",
       "      <td>0.652491</td>\n",
       "      <td>30.644956</td>\n",
       "    </tr>\n",
       "    <tr>\n",
       "      <th>0</th>\n",
       "      <td>0.00</td>\n",
       "      <td>0.00</td>\n",
       "      <td>0.5</td>\n",
       "      <td>0.434442</td>\n",
       "      <td>0.095741</td>\n",
       "      <td>0.048375</td>\n",
       "      <td>0.895181</td>\n",
       "      <td>0.991688</td>\n",
       "      <td>32.964596</td>\n",
       "    </tr>\n",
       "  </tbody>\n",
       "</table>\n",
       "</div>"
      ],
      "text/plain": [
       "    alpha  beta  homophily  prob_infection  prob_vaccination  prob_cure  \\\n",
       "16   0.50  0.33        0.5        0.360038          0.056790   0.216255   \n",
       "17   0.50  0.50        0.5        0.454669          0.098769   0.211907   \n",
       "15   0.50  0.25        0.5        0.308446          0.007363   0.157705   \n",
       "19   0.75  0.25        0.5        0.448473          0.139018   0.030732   \n",
       "9    0.25  0.75        0.5        0.471125          0.095869   0.172569   \n",
       "12   0.33  0.33        0.5        0.317698          0.007074   0.214766   \n",
       "13   0.33  0.50        0.5        0.439607          0.077711   0.071581   \n",
       "8    0.25  0.50        0.5        0.481207          0.075433   0.153820   \n",
       "6    0.25  0.25        0.5        0.418224          0.000221   0.119561   \n",
       "4    0.00  0.75        0.5        0.437207          0.035077   0.234331   \n",
       "11   0.33  0.25        0.5        0.304124          0.003573   0.172507   \n",
       "7    0.25  0.33        0.5        0.291511          0.021879   0.065618   \n",
       "18   0.75  0.00        0.5        0.463443          0.016327   0.188315   \n",
       "3    0.00  0.50        0.5        0.271859          0.018083   0.217869   \n",
       "2    0.00  0.33        0.5        0.350876          0.005639   0.223302   \n",
       "1    0.00  0.25        0.5        0.494364          0.014413   0.132233   \n",
       "14   0.50  0.00        0.5        0.405531          0.036844   0.107987   \n",
       "10   0.33  0.00        0.5        0.280175          0.002412   0.106854   \n",
       "5    0.25  0.00        0.5        0.414123          0.040131   0.217079   \n",
       "20   1.00  0.00        0.5        0.363411          0.137573   0.081239   \n",
       "0    0.00  0.00        0.5        0.434442          0.095741   0.048375   \n",
       "\n",
       "    prob_influencer  prob_echo       rmse  \n",
       "16         0.098907   0.617839   1.405257  \n",
       "17         0.101289   0.250256   2.821633  \n",
       "15         0.510944   0.549876   2.909999  \n",
       "19         0.006663   0.825364   3.469475  \n",
       "9          0.407868   0.015595   3.713381  \n",
       "12         0.499534   0.120162   9.119578  \n",
       "13         0.018257   0.299499  11.036833  \n",
       "8          0.221028   0.824805  11.741975  \n",
       "6          0.112658   0.001969  15.698193  \n",
       "4          0.816667   0.986421  16.186571  \n",
       "11         0.118641   0.490564  17.203603  \n",
       "7          0.835450   0.305456  17.771988  \n",
       "18         0.366944   0.441945  20.525708  \n",
       "3          0.203791   0.583193  22.017865  \n",
       "2          0.407519   0.853382  23.367148  \n",
       "1          0.817073   0.557609  25.671559  \n",
       "14         0.489731   0.806351  28.758994  \n",
       "10         0.237070   0.217599  29.283619  \n",
       "5          0.312492   0.795782  30.634457  \n",
       "20         0.993879   0.652491  30.644956  \n",
       "0          0.895181   0.991688  32.964596  "
      ]
     },
     "execution_count": 15,
     "metadata": {},
     "output_type": "execute_result"
    }
   ],
   "source": [
    "parameters_homophily_050 = parameters_homophily_050.sort_values(by='rmse')\n",
    "parameters_homophily_050"
   ]
  },
  {
   "cell_type": "code",
   "execution_count": 16,
   "metadata": {},
   "outputs": [],
   "source": [
    "alpha = parameters_homophily_050['alpha'].iloc[0]\n",
    "beta = parameters_homophily_050['beta'].iloc[0]\n",
    "homophily = parameters_homophily_050['homophily'].iloc[0]\n",
    "prob_infection = parameters_homophily_050['prob_infection'].iloc[0]\n",
    "prob_vaccination = parameters_homophily_050['prob_vaccination'].iloc[0]\n",
    "prob_cure = parameters_homophily_050['prob_cure'].iloc[0]\n",
    "prob_influencer = parameters_homophily_050['prob_influencer'].iloc[0]\n",
    "prob_echo = parameters_homophily_050['prob_echo'].iloc[0]"
   ]
  },
  {
   "cell_type": "code",
   "execution_count": 17,
   "metadata": {},
   "outputs": [],
   "source": [
    "container = NetworksContainer(n_networks=30, n_nodes=n_nodes, \n",
    "                              alpha=alpha, beta=beta, \n",
    "                              delta_in=1, delta_out=1, \n",
    "                              homophily=homophily, n_commons=n_commons, \n",
    "                              n_influencers=n_influencers, n_bots=n_bots, \n",
    "                              n_fact_checkers=n_fact_checkers,\n",
    "                              prob_complaint=0.0, \n",
    "                              prob_infection=prob_infection, \n",
    "                              prob_vaccination=prob_vaccination,\n",
    "                              prob_cure=prob_cure, \n",
    "                              prob_influencer=prob_influencer, \n",
    "                              exp_decay=True, user_block=False, \n",
    "                              prob_echo=prob_echo, epochs=epochs)\n",
    "container.create_network_list(n_initial_infected_nodes=n_initial_infected_nodes)"
   ]
  },
  {
   "cell_type": "code",
   "execution_count": 18,
   "metadata": {},
   "outputs": [],
   "source": [
    "total_y_pred_list_homophily_050 = []\n",
    "\n",
    "for i in range(container.n_networks):   \n",
    "    y_pred_list = []\n",
    "    container.network_list[i].reset_network()\n",
    "    for j in range(container.epochs):\n",
    "        container.network_list[i].update_nodes()\n",
    "    y_pred_list = container.network_list[i].perc_infected\n",
    "    total_y_pred_list_homophily_050.append(y_pred_list)"
   ]
  },
  {
   "cell_type": "code",
   "execution_count": 19,
   "metadata": {},
   "outputs": [],
   "source": [
    "avg_y_pred_list_homophily_050 = [sum(column) / len(column) for column in zip(*total_y_pred_list_homophily_050)]"
   ]
  },
  {
   "cell_type": "code",
   "execution_count": 20,
   "metadata": {},
   "outputs": [],
   "source": [
    "std_y_pred_list_homophily_050 = [np.std(column) for column in zip(*total_y_pred_list_homophily_050)]"
   ]
  },
  {
   "cell_type": "code",
   "execution_count": 21,
   "metadata": {},
   "outputs": [],
   "source": [
    "std_low_y_pred_list_homophily_050 = []\n",
    "std_high_y_pred_list_homophily_050 = []\n",
    "for i in range(len(avg_y_pred_list_homophily_050)):\n",
    "    std_low_y_pred_list_homophily_050.append(avg_y_pred_list_homophily_050[i] - std_y_pred_list_homophily_050[i])\n",
    "    std_high_y_pred_list_homophily_050.append(avg_y_pred_list_homophily_050[i] + std_y_pred_list_homophily_050[i])"
   ]
  },
  {
   "cell_type": "code",
   "execution_count": 22,
   "metadata": {},
   "outputs": [],
   "source": [
    "x = []\n",
    "for i in range(len(endorsers_percentage_list)):\n",
    "    x.append(i)"
   ]
  },
  {
   "cell_type": "code",
   "execution_count": 23,
   "metadata": {},
   "outputs": [
    {
     "data": {
      "image/png": "[encoded data removed]",
      "text/plain": [
       "<Figure size 1200x400 with 1 Axes>"
      ]
     },
     "metadata": {},
     "output_type": "display_data"
    }
   ],
   "source": [
    "fig, axs = plt.subplots(1, 1, figsize=(12, 4))\n",
    "axs.plot(endorsers_percentage_list, c='r', label='Real endorsers percentage', linewidth=1.0)\n",
    "plt.plot(avg_y_pred_list_homophily_050, c='b', label='Simulated endorsers percentage', linewidth=1.0)\n",
    "axs.fill_between(x, avg_y_pred_list_homophily_050, std_low_y_pred_list_homophily_050, color='b', alpha=.1)\n",
    "axs.fill_between(x, avg_y_pred_list_homophily_050, std_high_y_pred_list_homophily_050, color='b', alpha=.1)\n",
    "legend = plt.legend(bbox_to_anchor=(1.05, 1), loc='upper left')\n",
    "plt.xlabel(\"Epoch\")\n",
    "plt.ylabel(\"Percentage of endorsers\")\n",
    "plt.show()"
   ]
  },
  {
   "cell_type": "code",
   "execution_count": 24,
   "metadata": {},
   "outputs": [],
   "source": [
    "x = []\n",
    "endorsers_percentage_list_truncated = []\n",
    "avg_y_pred_list_homophily_050_truncated = []\n",
    "std_low_y_pred_list_homophily_050_truncated = []\n",
    "std_high_y_pred_list_homophily_050_truncated = []\n",
    "for i in range(500):\n",
    "    x.append(i)\n",
    "    endorsers_percentage_list_truncated.append(endorsers_percentage_list[i])\n",
    "    avg_y_pred_list_homophily_050_truncated.append(avg_y_pred_list_homophily_050[i])\n",
    "    std_low_y_pred_list_homophily_050_truncated.append(std_low_y_pred_list_homophily_050[i])\n",
    "    std_high_y_pred_list_homophily_050_truncated.append(std_high_y_pred_list_homophily_050[i])"
   ]
  },
  {
   "cell_type": "code",
   "execution_count": 25,
   "metadata": {},
   "outputs": [
    {
     "data": {
      "image/png": "[encoded data removed]",
      "text/plain": [
       "<Figure size 1200x400 with 1 Axes>"
      ]
     },
     "metadata": {},
     "output_type": "display_data"
    }
   ],
   "source": [
    "fig, axs = plt.subplots(1, 1, figsize=(12, 4))\n",
    "axs.plot(endorsers_percentage_list_truncated, c='r', label='Real endorsers percentage', linewidth=1.0)\n",
    "plt.plot(avg_y_pred_list_homophily_050_truncated, c='b', label='Simulated endorsers percentage', linewidth=1.0)\n",
    "axs.fill_between(x, avg_y_pred_list_homophily_050_truncated, std_low_y_pred_list_homophily_050_truncated, color='b', alpha=.1)\n",
    "axs.fill_between(x, avg_y_pred_list_homophily_050_truncated, std_high_y_pred_list_homophily_050_truncated, color='b', alpha=.1)\n",
    "legend = plt.legend(bbox_to_anchor=(1.05, 1), loc='upper left')\n",
    "plt.xlabel(\"Epoch\")\n",
    "plt.ylabel(\"Percentage of endorsers\")\n",
    "plt.show()"
   ]
  },
  {
   "cell_type": "code",
   "execution_count": 26,
   "metadata": {},
   "outputs": [
    {
     "name": "stdout",
     "output_type": "stream",
     "text": [
      "Mean 0.50:  -7.7382378273797086\n",
      "Standard deviation 0.50:  4.365324732089308\n"
     ]
    }
   ],
   "source": [
    "y_true = endorsers_percentage_list\n",
    "\n",
    "neg_rmse_list_homophily_050 = []\n",
    "for i in range(container.n_networks):\n",
    "        mse = mean_squared_error(y_true=y_true, y_pred=total_y_pred_list_homophily_050[i])\n",
    "        neg_rmse = - np.sqrt(mse)\n",
    "        neg_rmse_list_homophily_050.append(neg_rmse)\n",
    "    \n",
    "mean_neg_rmse_homophily_050 = np.mean(neg_rmse_list_homophily_050)\n",
    "std_neg_rmse_homophily_050 = np.std(neg_rmse_list_homophily_050)\n",
    "print(\"Mean 0.50: \", mean_neg_rmse_homophily_050)\n",
    "print(\"Standard deviation 0.50: \", std_neg_rmse_homophily_050)"
   ]
  },
  {
   "cell_type": "code",
   "execution_count": 27,
   "metadata": {},
   "outputs": [],
   "source": [
    "df_total_y_pred_list_homophily_050 = pd.DataFrame(total_y_pred_list_homophily_050).T\n",
    "df_total_y_pred_list_homophily_050.to_csv(\"validation_obama_endorsers_percentages_homophily_0.50.csv\", index=False, header=False)"
   ]
  },
  {
   "cell_type": "code",
   "execution_count": 28,
   "metadata": {},
   "outputs": [],
   "source": [
    "df_statistics_homophily_050 = pd.DataFrame(avg_y_pred_list_homophily_050).T\n",
    "df_statistics_homophily_050.loc[1] = std_y_pred_list_homophily_050\n",
    "df_statistics_homophily_050.loc[2] = std_high_y_pred_list_homophily_050\n",
    "df_statistics_homophily_050.loc[3] = std_low_y_pred_list_homophily_050\n",
    "df_statistics_homophily_050.to_csv(\"validation_obama_statistics_homophily_0.50.csv\", index=False, header=False)"
   ]
  },
  {
   "cell_type": "code",
   "execution_count": 29,
   "metadata": {},
   "outputs": [],
   "source": [
    "df_rmse_homophily_050 = pd.DataFrame(neg_rmse_list_homophily_050).T\n",
    "df_rmse_homophily_050.to_csv(\"validation_obama_rmse_homophily_0.50.csv\", index=False, header=False)"
   ]
  },
  {
   "cell_type": "code",
   "execution_count": null,
   "metadata": {},
   "outputs": [],
   "source": []
  }
 ],
 "metadata": {
  "kernelspec": {
   "display_name": "SCMS",
   "language": "python",
   "name": "python3"
  },
  "language_info": {
   "codemirror_mode": {
    "name": "ipython",
    "version": 3
   },
   "file_extension": ".py",
   "mimetype": "text/x-python",
   "name": "python",
   "nbconvert_exporter": "python",
   "pygments_lexer": "ipython3",
   "version": "3.11.0"
  },
  "orig_nbformat": 4,
  "vscode": {
   "interpreter": {
    "hash": "c97dbac1812ec30b48a7f39712c01c480bd467df285f0a5249fb97075fa3baaf"
   }
  }
 },
 "nbformat": 4,
 "nbformat_minor": 2
}
