{
 "cells": [
  {
   "cell_type": "code",
   "execution_count": 1,
   "metadata": {},
   "outputs": [],
   "source": [
    "import os\n",
    "import sys\n",
    "import tqdm\n",
    "import random\n",
    "import numpy as np\n",
    "import pandas as pd\n",
    "import matplotlib.pyplot as plt\n",
    "from numpy.random import seed\n",
    "from skopt import BayesSearchCV\n",
    "from sklearn.base import BaseEstimator\n",
    "from sklearn.metrics import mean_squared_error\n",
    "\n",
    "sys.path.append('.')\n",
    "sys.path.append('../../')\n",
    "sys.path.append('../network_model/')\n",
    "\n",
    "notebook_path = os.getcwd()\n",
    "project_path = os.path.abspath(os.path.join(notebook_path, '..'))\n",
    "sys.path.append(project_path)\n",
    "\n",
    "from network_model.network_classes import Network\n",
    "from networks_container import NetworksContainer\n",
    "from estimator import Estimator"
   ]
  },
  {
   "cell_type": "code",
   "execution_count": 2,
   "metadata": {},
   "outputs": [],
   "source": [
    "cherrypicked_seed = 42\n",
    "\n",
    "seed(cherrypicked_seed)\n",
    "random.seed(cherrypicked_seed)"
   ]
  },
  {
   "cell_type": "code",
   "execution_count": 3,
   "metadata": {},
   "outputs": [],
   "source": [
    "dataset_obama = pd.read_csv(\"../datasets/obamaAnonimized.csv\", dtype=str)"
   ]
  },
  {
   "cell_type": "code",
   "execution_count": 4,
   "metadata": {},
   "outputs": [],
   "source": [
    "endorsers_percentage_list = pd.read_csv(\"../datasets/obama_endorsers_hours_percentage_list.csv\", dtype=int, header=None)\n",
    "endorsers_percentage_list = endorsers_percentage_list.values.tolist()\n",
    "endorsers_percentage_list = [item for sublist in endorsers_percentage_list for item in sublist]"
   ]
  },
  {
   "cell_type": "code",
   "execution_count": 5,
   "metadata": {},
   "outputs": [
    {
     "name": "stdout",
     "output_type": "stream",
     "text": [
      "4730\n"
     ]
    }
   ],
   "source": [
    "print(len(endorsers_percentage_list))"
   ]
  },
  {
   "cell_type": "code",
   "execution_count": 6,
   "metadata": {},
   "outputs": [],
   "source": [
    "# Tolgo 1 in quanto considero la prima epoca come lo stato iniziale\n",
    "epochs = len(endorsers_percentage_list) - 1"
   ]
  },
  {
   "cell_type": "code",
   "execution_count": 7,
   "metadata": {},
   "outputs": [
    {
     "name": "stdout",
     "output_type": "stream",
     "text": [
      "4337\n"
     ]
    }
   ],
   "source": [
    "print(len(dataset_obama))"
   ]
  },
  {
   "cell_type": "code",
   "execution_count": 8,
   "metadata": {},
   "outputs": [
    {
     "data": {
      "text/plain": [
       "2678"
      ]
     },
     "execution_count": 8,
     "metadata": {},
     "output_type": "execute_result"
    }
   ],
   "source": [
    "n_nodes = 2678\n",
    "n_nodes"
   ]
  },
  {
   "cell_type": "code",
   "execution_count": 9,
   "metadata": {},
   "outputs": [
    {
     "data": {
      "text/plain": [
       "27"
      ]
     },
     "execution_count": 9,
     "metadata": {},
     "output_type": "execute_result"
    }
   ],
   "source": [
    "n_bots = round((1 / 100) * n_nodes)\n",
    "n_bots"
   ]
  },
  {
   "cell_type": "code",
   "execution_count": 10,
   "metadata": {},
   "outputs": [
    {
     "data": {
      "text/plain": [
       "27"
      ]
     },
     "execution_count": 10,
     "metadata": {},
     "output_type": "execute_result"
    }
   ],
   "source": [
    "n_fact_checkers = round((1 / 100) * n_nodes)\n",
    "n_fact_checkers"
   ]
  },
  {
   "cell_type": "code",
   "execution_count": 11,
   "metadata": {},
   "outputs": [],
   "source": [
    "n_influencers = 29"
   ]
  },
  {
   "cell_type": "code",
   "execution_count": 12,
   "metadata": {},
   "outputs": [
    {
     "data": {
      "text/plain": [
       "2595"
      ]
     },
     "execution_count": 12,
     "metadata": {},
     "output_type": "execute_result"
    }
   ],
   "source": [
    "n_commons = n_nodes - n_bots - n_fact_checkers - n_influencers\n",
    "n_commons"
   ]
  },
  {
   "cell_type": "code",
   "execution_count": 13,
   "metadata": {},
   "outputs": [
    {
     "data": {
      "text/plain": [
       "0"
      ]
     },
     "execution_count": 13,
     "metadata": {},
     "output_type": "execute_result"
    }
   ],
   "source": [
    "n_initial_infected_nodes = round((1 / 100) * n_nodes) - n_bots\n",
    "n_initial_infected_nodes"
   ]
  },
  {
   "attachments": {},
   "cell_type": "markdown",
   "metadata": {},
   "source": [
    "# Validation for homophily 0.25"
   ]
  },
  {
   "cell_type": "code",
   "execution_count": 14,
   "metadata": {},
   "outputs": [],
   "source": [
    "# Prendo i parametri calibrati con un dataset diverso da quello usato per la validazione\n",
    "parameters_homophily_025 = pd.read_csv(\"./parameters/parameters_optimization_palin_hours_homophily_0.25.csv\")"
   ]
  },
  {
   "cell_type": "code",
   "execution_count": 15,
   "metadata": {},
   "outputs": [
    {
     "data": {
      "text/html": [
       "<div>\n",
       "<style scoped>\n",
       "    .dataframe tbody tr th:only-of-type {\n",
       "        vertical-align: middle;\n",
       "    }\n",
       "\n",
       "    .dataframe tbody tr th {\n",
       "        vertical-align: top;\n",
       "    }\n",
       "\n",
       "    .dataframe thead th {\n",
       "        text-align: right;\n",
       "    }\n",
       "</style>\n",
       "<table border=\"1\" class=\"dataframe\">\n",
       "  <thead>\n",
       "    <tr style=\"text-align: right;\">\n",
       "      <th></th>\n",
       "      <th>alpha</th>\n",
       "      <th>beta</th>\n",
       "      <th>homophily</th>\n",
       "      <th>prob_infection</th>\n",
       "      <th>prob_vaccination</th>\n",
       "      <th>prob_cure</th>\n",
       "      <th>prob_influencer</th>\n",
       "      <th>prob_echo</th>\n",
       "      <th>rmse</th>\n",
       "    </tr>\n",
       "  </thead>\n",
       "  <tbody>\n",
       "    <tr>\n",
       "      <th>16</th>\n",
       "      <td>0.50</td>\n",
       "      <td>0.33</td>\n",
       "      <td>0.25</td>\n",
       "      <td>0.442730</td>\n",
       "      <td>0.064519</td>\n",
       "      <td>0.026729</td>\n",
       "      <td>0.646287</td>\n",
       "      <td>0.313151</td>\n",
       "      <td>1.289307</td>\n",
       "    </tr>\n",
       "    <tr>\n",
       "      <th>13</th>\n",
       "      <td>0.33</td>\n",
       "      <td>0.50</td>\n",
       "      <td>0.25</td>\n",
       "      <td>0.291691</td>\n",
       "      <td>0.059403</td>\n",
       "      <td>0.184275</td>\n",
       "      <td>0.503753</td>\n",
       "      <td>0.658270</td>\n",
       "      <td>4.985692</td>\n",
       "    </tr>\n",
       "    <tr>\n",
       "      <th>9</th>\n",
       "      <td>0.25</td>\n",
       "      <td>0.75</td>\n",
       "      <td>0.25</td>\n",
       "      <td>0.370144</td>\n",
       "      <td>0.122705</td>\n",
       "      <td>0.004844</td>\n",
       "      <td>0.574290</td>\n",
       "      <td>0.103401</td>\n",
       "      <td>5.727420</td>\n",
       "    </tr>\n",
       "    <tr>\n",
       "      <th>12</th>\n",
       "      <td>0.33</td>\n",
       "      <td>0.33</td>\n",
       "      <td>0.25</td>\n",
       "      <td>0.397784</td>\n",
       "      <td>0.020723</td>\n",
       "      <td>0.095295</td>\n",
       "      <td>0.032267</td>\n",
       "      <td>0.975058</td>\n",
       "      <td>5.819376</td>\n",
       "    </tr>\n",
       "    <tr>\n",
       "      <th>15</th>\n",
       "      <td>0.50</td>\n",
       "      <td>0.25</td>\n",
       "      <td>0.25</td>\n",
       "      <td>0.383830</td>\n",
       "      <td>0.055430</td>\n",
       "      <td>0.046594</td>\n",
       "      <td>0.394412</td>\n",
       "      <td>0.683971</td>\n",
       "      <td>7.149238</td>\n",
       "    </tr>\n",
       "    <tr>\n",
       "      <th>17</th>\n",
       "      <td>0.50</td>\n",
       "      <td>0.50</td>\n",
       "      <td>0.25</td>\n",
       "      <td>0.473526</td>\n",
       "      <td>0.244842</td>\n",
       "      <td>0.116643</td>\n",
       "      <td>0.357147</td>\n",
       "      <td>0.744357</td>\n",
       "      <td>7.708419</td>\n",
       "    </tr>\n",
       "    <tr>\n",
       "      <th>8</th>\n",
       "      <td>0.25</td>\n",
       "      <td>0.50</td>\n",
       "      <td>0.25</td>\n",
       "      <td>0.473743</td>\n",
       "      <td>0.045206</td>\n",
       "      <td>0.230382</td>\n",
       "      <td>0.998038</td>\n",
       "      <td>0.455078</td>\n",
       "      <td>8.748882</td>\n",
       "    </tr>\n",
       "    <tr>\n",
       "      <th>19</th>\n",
       "      <td>0.75</td>\n",
       "      <td>0.25</td>\n",
       "      <td>0.25</td>\n",
       "      <td>0.328632</td>\n",
       "      <td>0.083365</td>\n",
       "      <td>0.002090</td>\n",
       "      <td>0.036722</td>\n",
       "      <td>0.383299</td>\n",
       "      <td>12.048789</td>\n",
       "    </tr>\n",
       "    <tr>\n",
       "      <th>3</th>\n",
       "      <td>0.00</td>\n",
       "      <td>0.50</td>\n",
       "      <td>0.25</td>\n",
       "      <td>0.466630</td>\n",
       "      <td>0.001159</td>\n",
       "      <td>0.163695</td>\n",
       "      <td>0.634161</td>\n",
       "      <td>0.999207</td>\n",
       "      <td>14.745163</td>\n",
       "    </tr>\n",
       "    <tr>\n",
       "      <th>18</th>\n",
       "      <td>0.75</td>\n",
       "      <td>0.00</td>\n",
       "      <td>0.25</td>\n",
       "      <td>0.383161</td>\n",
       "      <td>0.000148</td>\n",
       "      <td>0.082063</td>\n",
       "      <td>0.026332</td>\n",
       "      <td>0.796873</td>\n",
       "      <td>16.466477</td>\n",
       "    </tr>\n",
       "    <tr>\n",
       "      <th>7</th>\n",
       "      <td>0.25</td>\n",
       "      <td>0.33</td>\n",
       "      <td>0.25</td>\n",
       "      <td>0.325113</td>\n",
       "      <td>0.028666</td>\n",
       "      <td>0.113827</td>\n",
       "      <td>0.795603</td>\n",
       "      <td>0.286039</td>\n",
       "      <td>17.127205</td>\n",
       "    </tr>\n",
       "    <tr>\n",
       "      <th>4</th>\n",
       "      <td>0.00</td>\n",
       "      <td>0.75</td>\n",
       "      <td>0.25</td>\n",
       "      <td>0.372023</td>\n",
       "      <td>0.043927</td>\n",
       "      <td>0.187406</td>\n",
       "      <td>0.796751</td>\n",
       "      <td>0.595780</td>\n",
       "      <td>17.772694</td>\n",
       "    </tr>\n",
       "    <tr>\n",
       "      <th>11</th>\n",
       "      <td>0.33</td>\n",
       "      <td>0.25</td>\n",
       "      <td>0.25</td>\n",
       "      <td>0.328373</td>\n",
       "      <td>0.039274</td>\n",
       "      <td>0.076354</td>\n",
       "      <td>0.288101</td>\n",
       "      <td>0.121624</td>\n",
       "      <td>18.653182</td>\n",
       "    </tr>\n",
       "    <tr>\n",
       "      <th>6</th>\n",
       "      <td>0.25</td>\n",
       "      <td>0.25</td>\n",
       "      <td>0.25</td>\n",
       "      <td>0.476892</td>\n",
       "      <td>0.074457</td>\n",
       "      <td>0.160721</td>\n",
       "      <td>0.314727</td>\n",
       "      <td>0.835756</td>\n",
       "      <td>21.852099</td>\n",
       "    </tr>\n",
       "    <tr>\n",
       "      <th>2</th>\n",
       "      <td>0.00</td>\n",
       "      <td>0.33</td>\n",
       "      <td>0.25</td>\n",
       "      <td>0.476978</td>\n",
       "      <td>0.025182</td>\n",
       "      <td>0.182587</td>\n",
       "      <td>0.212371</td>\n",
       "      <td>0.218732</td>\n",
       "      <td>25.325387</td>\n",
       "    </tr>\n",
       "    <tr>\n",
       "      <th>14</th>\n",
       "      <td>0.50</td>\n",
       "      <td>0.00</td>\n",
       "      <td>0.25</td>\n",
       "      <td>0.382023</td>\n",
       "      <td>0.029727</td>\n",
       "      <td>0.015988</td>\n",
       "      <td>0.200843</td>\n",
       "      <td>0.440771</td>\n",
       "      <td>29.119339</td>\n",
       "    </tr>\n",
       "    <tr>\n",
       "      <th>5</th>\n",
       "      <td>0.25</td>\n",
       "      <td>0.00</td>\n",
       "      <td>0.25</td>\n",
       "      <td>0.386615</td>\n",
       "      <td>0.012549</td>\n",
       "      <td>0.050887</td>\n",
       "      <td>0.455677</td>\n",
       "      <td>0.428705</td>\n",
       "      <td>29.998200</td>\n",
       "    </tr>\n",
       "    <tr>\n",
       "      <th>20</th>\n",
       "      <td>1.00</td>\n",
       "      <td>0.00</td>\n",
       "      <td>0.25</td>\n",
       "      <td>0.267051</td>\n",
       "      <td>0.146102</td>\n",
       "      <td>0.199530</td>\n",
       "      <td>0.258806</td>\n",
       "      <td>0.857904</td>\n",
       "      <td>30.456702</td>\n",
       "    </tr>\n",
       "    <tr>\n",
       "      <th>10</th>\n",
       "      <td>0.33</td>\n",
       "      <td>0.00</td>\n",
       "      <td>0.25</td>\n",
       "      <td>0.340630</td>\n",
       "      <td>0.037211</td>\n",
       "      <td>0.238799</td>\n",
       "      <td>0.525207</td>\n",
       "      <td>0.959407</td>\n",
       "      <td>30.859987</td>\n",
       "    </tr>\n",
       "    <tr>\n",
       "      <th>1</th>\n",
       "      <td>0.00</td>\n",
       "      <td>0.25</td>\n",
       "      <td>0.25</td>\n",
       "      <td>0.466244</td>\n",
       "      <td>0.091798</td>\n",
       "      <td>0.231997</td>\n",
       "      <td>0.199670</td>\n",
       "      <td>0.540997</td>\n",
       "      <td>31.779699</td>\n",
       "    </tr>\n",
       "    <tr>\n",
       "      <th>0</th>\n",
       "      <td>0.00</td>\n",
       "      <td>0.00</td>\n",
       "      <td>0.25</td>\n",
       "      <td>0.434442</td>\n",
       "      <td>0.095741</td>\n",
       "      <td>0.048375</td>\n",
       "      <td>0.895181</td>\n",
       "      <td>0.991688</td>\n",
       "      <td>33.407364</td>\n",
       "    </tr>\n",
       "  </tbody>\n",
       "</table>\n",
       "</div>"
      ],
      "text/plain": [
       "    alpha  beta  homophily  prob_infection  prob_vaccination  prob_cure  \\\n",
       "16   0.50  0.33       0.25        0.442730          0.064519   0.026729   \n",
       "13   0.33  0.50       0.25        0.291691          0.059403   0.184275   \n",
       "9    0.25  0.75       0.25        0.370144          0.122705   0.004844   \n",
       "12   0.33  0.33       0.25        0.397784          0.020723   0.095295   \n",
       "15   0.50  0.25       0.25        0.383830          0.055430   0.046594   \n",
       "17   0.50  0.50       0.25        0.473526          0.244842   0.116643   \n",
       "8    0.25  0.50       0.25        0.473743          0.045206   0.230382   \n",
       "19   0.75  0.25       0.25        0.328632          0.083365   0.002090   \n",
       "3    0.00  0.50       0.25        0.466630          0.001159   0.163695   \n",
       "18   0.75  0.00       0.25        0.383161          0.000148   0.082063   \n",
       "7    0.25  0.33       0.25        0.325113          0.028666   0.113827   \n",
       "4    0.00  0.75       0.25        0.372023          0.043927   0.187406   \n",
       "11   0.33  0.25       0.25        0.328373          0.039274   0.076354   \n",
       "6    0.25  0.25       0.25        0.476892          0.074457   0.160721   \n",
       "2    0.00  0.33       0.25        0.476978          0.025182   0.182587   \n",
       "14   0.50  0.00       0.25        0.382023          0.029727   0.015988   \n",
       "5    0.25  0.00       0.25        0.386615          0.012549   0.050887   \n",
       "20   1.00  0.00       0.25        0.267051          0.146102   0.199530   \n",
       "10   0.33  0.00       0.25        0.340630          0.037211   0.238799   \n",
       "1    0.00  0.25       0.25        0.466244          0.091798   0.231997   \n",
       "0    0.00  0.00       0.25        0.434442          0.095741   0.048375   \n",
       "\n",
       "    prob_influencer  prob_echo       rmse  \n",
       "16         0.646287   0.313151   1.289307  \n",
       "13         0.503753   0.658270   4.985692  \n",
       "9          0.574290   0.103401   5.727420  \n",
       "12         0.032267   0.975058   5.819376  \n",
       "15         0.394412   0.683971   7.149238  \n",
       "17         0.357147   0.744357   7.708419  \n",
       "8          0.998038   0.455078   8.748882  \n",
       "19         0.036722   0.383299  12.048789  \n",
       "3          0.634161   0.999207  14.745163  \n",
       "18         0.026332   0.796873  16.466477  \n",
       "7          0.795603   0.286039  17.127205  \n",
       "4          0.796751   0.595780  17.772694  \n",
       "11         0.288101   0.121624  18.653182  \n",
       "6          0.314727   0.835756  21.852099  \n",
       "2          0.212371   0.218732  25.325387  \n",
       "14         0.200843   0.440771  29.119339  \n",
       "5          0.455677   0.428705  29.998200  \n",
       "20         0.258806   0.857904  30.456702  \n",
       "10         0.525207   0.959407  30.859987  \n",
       "1          0.199670   0.540997  31.779699  \n",
       "0          0.895181   0.991688  33.407364  "
      ]
     },
     "execution_count": 15,
     "metadata": {},
     "output_type": "execute_result"
    }
   ],
   "source": [
    "parameters_homophily_025 = parameters_homophily_025.sort_values(by='rmse')\n",
    "parameters_homophily_025"
   ]
  },
  {
   "cell_type": "code",
   "execution_count": 16,
   "metadata": {},
   "outputs": [],
   "source": [
    "alpha = parameters_homophily_025['alpha'].iloc[0]\n",
    "beta = parameters_homophily_025['beta'].iloc[0]\n",
    "homophily = parameters_homophily_025['homophily'].iloc[0]\n",
    "prob_infection = parameters_homophily_025['prob_infection'].iloc[0]\n",
    "prob_vaccination = parameters_homophily_025['prob_vaccination'].iloc[0]\n",
    "prob_cure = parameters_homophily_025['prob_cure'].iloc[0]\n",
    "prob_influencer = parameters_homophily_025['prob_influencer'].iloc[0]\n",
    "prob_echo = parameters_homophily_025['prob_echo'].iloc[0]"
   ]
  },
  {
   "cell_type": "code",
   "execution_count": 17,
   "metadata": {},
   "outputs": [],
   "source": [
    "container = NetworksContainer(n_networks=30, n_nodes=n_nodes, \n",
    "                              alpha=alpha, beta=beta, \n",
    "                              delta_in=1, delta_out=1, \n",
    "                              homophily=homophily, n_commons=n_commons, \n",
    "                              n_influencers=n_influencers, n_bots=n_bots, \n",
    "                              n_fact_checkers=n_fact_checkers,\n",
    "                              prob_complaint=0.0, \n",
    "                              prob_infection=prob_infection, \n",
    "                              prob_vaccination=prob_vaccination,\n",
    "                              prob_cure=prob_cure, \n",
    "                              prob_influencer=prob_influencer, \n",
    "                              exp_decay=True, user_block=False, \n",
    "                              prob_echo=prob_echo, epochs=epochs)\n",
    "container.create_network_list(n_initial_infected_nodes=n_initial_infected_nodes)"
   ]
  },
  {
   "cell_type": "code",
   "execution_count": 18,
   "metadata": {},
   "outputs": [],
   "source": [
    "total_y_pred_list_homophily_025 = []\n",
    "\n",
    "for i in range(container.n_networks):   \n",
    "    y_pred_list = []\n",
    "    container.network_list[i].reset_network()\n",
    "    for j in range(container.epochs):\n",
    "        container.network_list[i].update_nodes()\n",
    "    y_pred_list = container.network_list[i].perc_infected\n",
    "    total_y_pred_list_homophily_025.append(y_pred_list)"
   ]
  },
  {
   "cell_type": "code",
   "execution_count": 19,
   "metadata": {},
   "outputs": [],
   "source": [
    "avg_y_pred_list_homophily_025 = [sum(column) / len(column) for column in zip(*total_y_pred_list_homophily_025)]"
   ]
  },
  {
   "cell_type": "code",
   "execution_count": 20,
   "metadata": {},
   "outputs": [],
   "source": [
    "std_y_pred_list_homophily_025 = [np.std(column) for column in zip(*total_y_pred_list_homophily_025)]"
   ]
  },
  {
   "cell_type": "code",
   "execution_count": 21,
   "metadata": {},
   "outputs": [],
   "source": [
    "std_low_y_pred_list_homophily_025 = []\n",
    "std_high_y_pred_list_homophily_025 = []\n",
    "for i in range(len(avg_y_pred_list_homophily_025)):\n",
    "    std_low_y_pred_list_homophily_025.append(avg_y_pred_list_homophily_025[i] - std_y_pred_list_homophily_025[i])\n",
    "    std_high_y_pred_list_homophily_025.append(avg_y_pred_list_homophily_025[i] + std_y_pred_list_homophily_025[i])"
   ]
  },
  {
   "cell_type": "code",
   "execution_count": 22,
   "metadata": {},
   "outputs": [],
   "source": [
    "x = []\n",
    "for i in range(len(endorsers_percentage_list)):\n",
    "    x.append(i)"
   ]
  },
  {
   "cell_type": "code",
   "execution_count": 23,
   "metadata": {},
   "outputs": [
    {
     "data": {
      "image/png": "[encoded data removed]",
      "text/plain": [
       "<Figure size 1200x400 with 1 Axes>"
      ]
     },
     "metadata": {},
     "output_type": "display_data"
    }
   ],
   "source": [
    "fig, axs = plt.subplots(1, 1, figsize=(12, 4))\n",
    "axs.plot(endorsers_percentage_list, c='r', label='Real endorsers percentage', linewidth=1.0)\n",
    "plt.plot(avg_y_pred_list_homophily_025, c='b', label='Simulated endorsers percentage', linewidth=1.0)\n",
    "axs.fill_between(x, avg_y_pred_list_homophily_025, std_low_y_pred_list_homophily_025, color='b', alpha=.1)\n",
    "axs.fill_between(x, avg_y_pred_list_homophily_025, std_high_y_pred_list_homophily_025, color='b', alpha=.1)\n",
    "legend = plt.legend(bbox_to_anchor=(1.05, 1), loc='upper left')\n",
    "plt.xlabel(\"Epoch\")\n",
    "plt.ylabel(\"Percentage of endorsers\")\n",
    "plt.show()"
   ]
  },
  {
   "cell_type": "code",
   "execution_count": 24,
   "metadata": {},
   "outputs": [],
   "source": [
    "x = []\n",
    "endorsers_percentage_list_truncated = []\n",
    "avg_y_pred_list_homophily_025_truncated = []\n",
    "std_low_y_pred_list_homophily_025_truncated = []\n",
    "std_high_y_pred_list_homophily_025_truncated = []\n",
    "for i in range(500):\n",
    "    x.append(i)\n",
    "    endorsers_percentage_list_truncated.append(endorsers_percentage_list[i])\n",
    "    avg_y_pred_list_homophily_025_truncated.append(avg_y_pred_list_homophily_025[i])\n",
    "    std_low_y_pred_list_homophily_025_truncated.append(std_low_y_pred_list_homophily_025[i])\n",
    "    std_high_y_pred_list_homophily_025_truncated.append(std_high_y_pred_list_homophily_025[i])"
   ]
  },
  {
   "cell_type": "code",
   "execution_count": 25,
   "metadata": {},
   "outputs": [
    {
     "data": {
      "image/png": "[encoded data removed]",
      "text/plain": [
       "<Figure size 1200x400 with 1 Axes>"
      ]
     },
     "metadata": {},
     "output_type": "display_data"
    }
   ],
   "source": [
    "fig, axs = plt.subplots(1, 1, figsize=(12, 4))\n",
    "axs.plot(endorsers_percentage_list_truncated, c='r', label='Real endorsers percentage', linewidth=1.0)\n",
    "plt.plot(avg_y_pred_list_homophily_025_truncated, c='b', label='Simulated endorsers percentage', linewidth=1.0)\n",
    "axs.fill_between(x, avg_y_pred_list_homophily_025_truncated, std_low_y_pred_list_homophily_025_truncated, color='b', alpha=.1)\n",
    "axs.fill_between(x, avg_y_pred_list_homophily_025_truncated, std_high_y_pred_list_homophily_025_truncated, color='b', alpha=.1)\n",
    "legend = plt.legend(bbox_to_anchor=(1.05, 1), loc='upper left')\n",
    "plt.xlabel(\"Epoch\")\n",
    "plt.ylabel(\"Percentage of endorsers\")\n",
    "plt.show()"
   ]
  },
  {
   "cell_type": "code",
   "execution_count": 26,
   "metadata": {},
   "outputs": [
    {
     "name": "stdout",
     "output_type": "stream",
     "text": [
      "Mean 0.25:  -14.101001747549448\n",
      "Standard deviation 0.25:  7.73550582383308\n"
     ]
    }
   ],
   "source": [
    "y_true = endorsers_percentage_list\n",
    "\n",
    "neg_rmse_list_homophily_025 = []\n",
    "for i in range(container.n_networks):\n",
    "        mse = mean_squared_error(y_true=y_true, y_pred=total_y_pred_list_homophily_025[i])\n",
    "        neg_rmse = - np.sqrt(mse)\n",
    "        neg_rmse_list_homophily_025.append(neg_rmse)\n",
    "    \n",
    "mean_neg_rmse_homophily_025 = np.mean(neg_rmse_list_homophily_025)\n",
    "std_neg_rmse_homophily_025 = np.std(neg_rmse_list_homophily_025)\n",
    "print(\"Mean 0.25: \", mean_neg_rmse_homophily_025)\n",
    "print(\"Standard deviation 0.25: \", std_neg_rmse_homophily_025)"
   ]
  },
  {
   "cell_type": "code",
   "execution_count": 27,
   "metadata": {},
   "outputs": [],
   "source": [
    "df_total_y_pred_list_homophily_025 = pd.DataFrame(total_y_pred_list_homophily_025).T\n",
    "df_total_y_pred_list_homophily_025.to_csv(\"validation_obama_endorsers_percentages_homophily_0.25.csv\", index=False, header=False)"
   ]
  },
  {
   "cell_type": "code",
   "execution_count": 28,
   "metadata": {},
   "outputs": [],
   "source": [
    "df_statistics_homophily_025 = pd.DataFrame(avg_y_pred_list_homophily_025).T\n",
    "df_statistics_homophily_025.loc[1] = std_y_pred_list_homophily_025\n",
    "df_statistics_homophily_025.loc[2] = std_high_y_pred_list_homophily_025\n",
    "df_statistics_homophily_025.loc[3] = std_low_y_pred_list_homophily_025\n",
    "df_statistics_homophily_025.to_csv(\"validation_obama_statistics_homophily_0.25.csv\", index=False, header=False)"
   ]
  },
  {
   "cell_type": "code",
   "execution_count": 29,
   "metadata": {},
   "outputs": [],
   "source": [
    "df_rmse_homophily_025 = pd.DataFrame(neg_rmse_list_homophily_025).T\n",
    "df_rmse_homophily_025.to_csv(\"validation_obama_rmse_homophily_0.25.csv\", index=False, header=False)"
   ]
  },
  {
   "cell_type": "code",
   "execution_count": null,
   "metadata": {},
   "outputs": [],
   "source": []
  }
 ],
 "metadata": {
  "kernelspec": {
   "display_name": "SCMS",
   "language": "python",
   "name": "python3"
  },
  "language_info": {
   "codemirror_mode": {
    "name": "ipython",
    "version": 3
   },
   "file_extension": ".py",
   "mimetype": "text/x-python",
   "name": "python",
   "nbconvert_exporter": "python",
   "pygments_lexer": "ipython3",
   "version": "3.10.4"
  },
  "orig_nbformat": 4,
  "vscode": {
   "interpreter": {
    "hash": "c97dbac1812ec30b48a7f39712c01c480bd467df285f0a5249fb97075fa3baaf"
   }
  }
 },
 "nbformat": 4,
 "nbformat_minor": 2
}
