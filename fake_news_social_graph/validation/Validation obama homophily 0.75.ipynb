{
 "cells": [
  {
   "cell_type": "code",
   "execution_count": 1,
   "metadata": {},
   "outputs": [],
   "source": [
    "import os\n",
    "import sys\n",
    "import tqdm\n",
    "import random\n",
    "import numpy as np\n",
    "import pandas as pd\n",
    "import matplotlib.pyplot as plt\n",
    "from numpy.random import seed\n",
    "from skopt import BayesSearchCV\n",
    "from sklearn.base import BaseEstimator\n",
    "from sklearn.metrics import mean_squared_error\n",
    "\n",
    "sys.path.append('.')\n",
    "sys.path.append('../../')\n",
    "sys.path.append('../network_model/')\n",
    "\n",
    "notebook_path = os.getcwd()\n",
    "project_path = os.path.abspath(os.path.join(notebook_path, '..'))\n",
    "sys.path.append(project_path)\n",
    "\n",
    "from network_model.network_classes import Network\n",
    "from networks_container import NetworksContainer\n",
    "from estimator import Estimator"
   ]
  },
  {
   "cell_type": "code",
   "execution_count": 2,
   "metadata": {},
   "outputs": [],
   "source": [
    "cherrypicked_seed = 42\n",
    "\n",
    "seed(cherrypicked_seed)\n",
    "random.seed(cherrypicked_seed)"
   ]
  },
  {
   "cell_type": "code",
   "execution_count": 3,
   "metadata": {},
   "outputs": [],
   "source": [
    "dataset_obama = pd.read_csv(\"../datasets/obamaAnonimized.csv\", dtype=str)"
   ]
  },
  {
   "cell_type": "code",
   "execution_count": 4,
   "metadata": {},
   "outputs": [],
   "source": [
    "endorsers_percentage_list = pd.read_csv(\"../datasets/obama_endorsers_hours_percentage_list.csv\", dtype=int, header=None)\n",
    "endorsers_percentage_list = endorsers_percentage_list.values.tolist()\n",
    "endorsers_percentage_list = [item for sublist in endorsers_percentage_list for item in sublist]"
   ]
  },
  {
   "cell_type": "code",
   "execution_count": 5,
   "metadata": {},
   "outputs": [
    {
     "name": "stdout",
     "output_type": "stream",
     "text": [
      "4730\n"
     ]
    }
   ],
   "source": [
    "print(len(endorsers_percentage_list))"
   ]
  },
  {
   "cell_type": "code",
   "execution_count": 6,
   "metadata": {},
   "outputs": [],
   "source": [
    "# Tolgo 1 in quanto considero la prima epoca come lo stato iniziale\n",
    "epochs = len(endorsers_percentage_list) - 1"
   ]
  },
  {
   "cell_type": "code",
   "execution_count": 7,
   "metadata": {},
   "outputs": [
    {
     "name": "stdout",
     "output_type": "stream",
     "text": [
      "4337\n"
     ]
    }
   ],
   "source": [
    "print(len(dataset_obama))"
   ]
  },
  {
   "cell_type": "code",
   "execution_count": 8,
   "metadata": {},
   "outputs": [
    {
     "data": {
      "text/plain": [
       "2678"
      ]
     },
     "execution_count": 8,
     "metadata": {},
     "output_type": "execute_result"
    }
   ],
   "source": [
    "n_nodes = 2678\n",
    "n_nodes"
   ]
  },
  {
   "cell_type": "code",
   "execution_count": 9,
   "metadata": {},
   "outputs": [
    {
     "data": {
      "text/plain": [
       "27"
      ]
     },
     "execution_count": 9,
     "metadata": {},
     "output_type": "execute_result"
    }
   ],
   "source": [
    "n_bots = round((1 / 100) * n_nodes)\n",
    "n_bots"
   ]
  },
  {
   "cell_type": "code",
   "execution_count": 10,
   "metadata": {},
   "outputs": [
    {
     "data": {
      "text/plain": [
       "27"
      ]
     },
     "execution_count": 10,
     "metadata": {},
     "output_type": "execute_result"
    }
   ],
   "source": [
    "n_fact_checkers = round((1 / 100) * n_nodes)\n",
    "n_fact_checkers"
   ]
  },
  {
   "cell_type": "code",
   "execution_count": 11,
   "metadata": {},
   "outputs": [],
   "source": [
    "n_influencers = 29"
   ]
  },
  {
   "cell_type": "code",
   "execution_count": 12,
   "metadata": {},
   "outputs": [
    {
     "data": {
      "text/plain": [
       "2595"
      ]
     },
     "execution_count": 12,
     "metadata": {},
     "output_type": "execute_result"
    }
   ],
   "source": [
    "n_commons = n_nodes - n_bots - n_fact_checkers - n_influencers\n",
    "n_commons"
   ]
  },
  {
   "cell_type": "code",
   "execution_count": 13,
   "metadata": {},
   "outputs": [
    {
     "data": {
      "text/plain": [
       "0"
      ]
     },
     "execution_count": 13,
     "metadata": {},
     "output_type": "execute_result"
    }
   ],
   "source": [
    "n_initial_infected_nodes = round((1 / 100) * n_nodes) - n_bots\n",
    "n_initial_infected_nodes"
   ]
  },
  {
   "attachments": {},
   "cell_type": "markdown",
   "metadata": {},
   "source": [
    "# Validation for homophily 0.75"
   ]
  },
  {
   "cell_type": "code",
   "execution_count": 14,
   "metadata": {},
   "outputs": [],
   "source": [
    "# Prendo i parametri calibrati con un dataset diverso da quello usato per la validazione\n",
    "parameters_homophily_075 = pd.read_csv(\"./parameters/parameters_optimization_palin_hours_homophily_0.75.csv\")"
   ]
  },
  {
   "cell_type": "code",
   "execution_count": 15,
   "metadata": {},
   "outputs": [
    {
     "data": {
      "text/html": [
       "<div>\n",
       "<style scoped>\n",
       "    .dataframe tbody tr th:only-of-type {\n",
       "        vertical-align: middle;\n",
       "    }\n",
       "\n",
       "    .dataframe tbody tr th {\n",
       "        vertical-align: top;\n",
       "    }\n",
       "\n",
       "    .dataframe thead th {\n",
       "        text-align: right;\n",
       "    }\n",
       "</style>\n",
       "<table border=\"1\" class=\"dataframe\">\n",
       "  <thead>\n",
       "    <tr style=\"text-align: right;\">\n",
       "      <th></th>\n",
       "      <th>alpha</th>\n",
       "      <th>beta</th>\n",
       "      <th>homophily</th>\n",
       "      <th>prob_infection</th>\n",
       "      <th>prob_vaccination</th>\n",
       "      <th>prob_cure</th>\n",
       "      <th>prob_influencer</th>\n",
       "      <th>prob_echo</th>\n",
       "      <th>rmse</th>\n",
       "    </tr>\n",
       "  </thead>\n",
       "  <tbody>\n",
       "    <tr>\n",
       "      <th>16</th>\n",
       "      <td>0.50</td>\n",
       "      <td>0.33</td>\n",
       "      <td>0.75</td>\n",
       "      <td>0.024295</td>\n",
       "      <td>0.238505</td>\n",
       "      <td>0.627572</td>\n",
       "      <td>0.860890</td>\n",
       "      <td>0.610532</td>\n",
       "      <td>3.607667</td>\n",
       "    </tr>\n",
       "    <tr>\n",
       "      <th>13</th>\n",
       "      <td>0.33</td>\n",
       "      <td>0.50</td>\n",
       "      <td>0.75</td>\n",
       "      <td>0.452849</td>\n",
       "      <td>0.038784</td>\n",
       "      <td>0.725085</td>\n",
       "      <td>0.488359</td>\n",
       "      <td>0.459757</td>\n",
       "      <td>8.837733</td>\n",
       "    </tr>\n",
       "    <tr>\n",
       "      <th>12</th>\n",
       "      <td>0.33</td>\n",
       "      <td>0.33</td>\n",
       "      <td>0.75</td>\n",
       "      <td>0.559446</td>\n",
       "      <td>0.046271</td>\n",
       "      <td>0.904621</td>\n",
       "      <td>0.743159</td>\n",
       "      <td>0.947966</td>\n",
       "      <td>9.870279</td>\n",
       "    </tr>\n",
       "    <tr>\n",
       "      <th>15</th>\n",
       "      <td>0.50</td>\n",
       "      <td>0.25</td>\n",
       "      <td>0.75</td>\n",
       "      <td>0.694408</td>\n",
       "      <td>0.272079</td>\n",
       "      <td>0.278570</td>\n",
       "      <td>0.922379</td>\n",
       "      <td>0.023372</td>\n",
       "      <td>10.684394</td>\n",
       "    </tr>\n",
       "    <tr>\n",
       "      <th>9</th>\n",
       "      <td>0.25</td>\n",
       "      <td>0.75</td>\n",
       "      <td>0.75</td>\n",
       "      <td>0.519945</td>\n",
       "      <td>0.497827</td>\n",
       "      <td>0.484554</td>\n",
       "      <td>0.915505</td>\n",
       "      <td>0.984425</td>\n",
       "      <td>11.336427</td>\n",
       "    </tr>\n",
       "    <tr>\n",
       "      <th>17</th>\n",
       "      <td>0.50</td>\n",
       "      <td>0.50</td>\n",
       "      <td>0.75</td>\n",
       "      <td>0.200498</td>\n",
       "      <td>0.940240</td>\n",
       "      <td>0.054724</td>\n",
       "      <td>0.935212</td>\n",
       "      <td>0.154635</td>\n",
       "      <td>13.844171</td>\n",
       "    </tr>\n",
       "    <tr>\n",
       "      <th>7</th>\n",
       "      <td>0.25</td>\n",
       "      <td>0.33</td>\n",
       "      <td>0.75</td>\n",
       "      <td>0.360210</td>\n",
       "      <td>0.127941</td>\n",
       "      <td>0.252209</td>\n",
       "      <td>0.818803</td>\n",
       "      <td>0.870347</td>\n",
       "      <td>14.616534</td>\n",
       "    </tr>\n",
       "    <tr>\n",
       "      <th>19</th>\n",
       "      <td>0.75</td>\n",
       "      <td>0.25</td>\n",
       "      <td>0.75</td>\n",
       "      <td>0.274410</td>\n",
       "      <td>0.260870</td>\n",
       "      <td>0.917187</td>\n",
       "      <td>0.625798</td>\n",
       "      <td>0.728559</td>\n",
       "      <td>14.684150</td>\n",
       "    </tr>\n",
       "    <tr>\n",
       "      <th>8</th>\n",
       "      <td>0.25</td>\n",
       "      <td>0.50</td>\n",
       "      <td>0.75</td>\n",
       "      <td>0.005588</td>\n",
       "      <td>0.224918</td>\n",
       "      <td>0.040319</td>\n",
       "      <td>0.514692</td>\n",
       "      <td>0.895134</td>\n",
       "      <td>17.066942</td>\n",
       "    </tr>\n",
       "    <tr>\n",
       "      <th>11</th>\n",
       "      <td>0.33</td>\n",
       "      <td>0.25</td>\n",
       "      <td>0.75</td>\n",
       "      <td>0.455895</td>\n",
       "      <td>0.331393</td>\n",
       "      <td>0.054083</td>\n",
       "      <td>0.965285</td>\n",
       "      <td>0.581391</td>\n",
       "      <td>18.668095</td>\n",
       "    </tr>\n",
       "    <tr>\n",
       "      <th>6</th>\n",
       "      <td>0.25</td>\n",
       "      <td>0.25</td>\n",
       "      <td>0.75</td>\n",
       "      <td>0.064607</td>\n",
       "      <td>0.000982</td>\n",
       "      <td>0.082519</td>\n",
       "      <td>0.127761</td>\n",
       "      <td>0.924551</td>\n",
       "      <td>19.824573</td>\n",
       "    </tr>\n",
       "    <tr>\n",
       "      <th>3</th>\n",
       "      <td>0.00</td>\n",
       "      <td>0.50</td>\n",
       "      <td>0.75</td>\n",
       "      <td>0.030950</td>\n",
       "      <td>0.001508</td>\n",
       "      <td>0.436177</td>\n",
       "      <td>0.259027</td>\n",
       "      <td>0.287010</td>\n",
       "      <td>19.944803</td>\n",
       "    </tr>\n",
       "    <tr>\n",
       "      <th>4</th>\n",
       "      <td>0.00</td>\n",
       "      <td>0.75</td>\n",
       "      <td>0.75</td>\n",
       "      <td>0.708311</td>\n",
       "      <td>0.120102</td>\n",
       "      <td>0.316673</td>\n",
       "      <td>0.535631</td>\n",
       "      <td>0.761649</td>\n",
       "      <td>24.814507</td>\n",
       "    </tr>\n",
       "    <tr>\n",
       "      <th>18</th>\n",
       "      <td>0.75</td>\n",
       "      <td>0.00</td>\n",
       "      <td>0.75</td>\n",
       "      <td>0.577247</td>\n",
       "      <td>0.092846</td>\n",
       "      <td>0.751203</td>\n",
       "      <td>0.853613</td>\n",
       "      <td>0.166283</td>\n",
       "      <td>26.000324</td>\n",
       "    </tr>\n",
       "    <tr>\n",
       "      <th>14</th>\n",
       "      <td>0.50</td>\n",
       "      <td>0.00</td>\n",
       "      <td>0.75</td>\n",
       "      <td>0.670281</td>\n",
       "      <td>0.235106</td>\n",
       "      <td>0.426394</td>\n",
       "      <td>0.935653</td>\n",
       "      <td>0.613225</td>\n",
       "      <td>29.405426</td>\n",
       "    </tr>\n",
       "    <tr>\n",
       "      <th>2</th>\n",
       "      <td>0.00</td>\n",
       "      <td>0.33</td>\n",
       "      <td>0.75</td>\n",
       "      <td>0.906863</td>\n",
       "      <td>0.082052</td>\n",
       "      <td>0.541361</td>\n",
       "      <td>0.532287</td>\n",
       "      <td>0.679548</td>\n",
       "      <td>29.599400</td>\n",
       "    </tr>\n",
       "    <tr>\n",
       "      <th>1</th>\n",
       "      <td>0.00</td>\n",
       "      <td>0.25</td>\n",
       "      <td>0.75</td>\n",
       "      <td>0.559713</td>\n",
       "      <td>0.153158</td>\n",
       "      <td>0.428186</td>\n",
       "      <td>0.879440</td>\n",
       "      <td>0.107033</td>\n",
       "      <td>29.850447</td>\n",
       "    </tr>\n",
       "    <tr>\n",
       "      <th>10</th>\n",
       "      <td>0.33</td>\n",
       "      <td>0.00</td>\n",
       "      <td>0.75</td>\n",
       "      <td>0.790812</td>\n",
       "      <td>0.009507</td>\n",
       "      <td>0.804880</td>\n",
       "      <td>0.953791</td>\n",
       "      <td>0.600414</td>\n",
       "      <td>30.442114</td>\n",
       "    </tr>\n",
       "    <tr>\n",
       "      <th>20</th>\n",
       "      <td>1.00</td>\n",
       "      <td>0.00</td>\n",
       "      <td>0.75</td>\n",
       "      <td>0.864145</td>\n",
       "      <td>0.088489</td>\n",
       "      <td>0.777521</td>\n",
       "      <td>0.880251</td>\n",
       "      <td>0.720726</td>\n",
       "      <td>30.838230</td>\n",
       "    </tr>\n",
       "    <tr>\n",
       "      <th>5</th>\n",
       "      <td>0.25</td>\n",
       "      <td>0.00</td>\n",
       "      <td>0.75</td>\n",
       "      <td>0.225591</td>\n",
       "      <td>0.106273</td>\n",
       "      <td>0.267316</td>\n",
       "      <td>0.704847</td>\n",
       "      <td>0.150069</td>\n",
       "      <td>31.457638</td>\n",
       "    </tr>\n",
       "    <tr>\n",
       "      <th>0</th>\n",
       "      <td>0.00</td>\n",
       "      <td>0.00</td>\n",
       "      <td>0.75</td>\n",
       "      <td>0.347875</td>\n",
       "      <td>0.328040</td>\n",
       "      <td>0.842198</td>\n",
       "      <td>0.947431</td>\n",
       "      <td>0.422984</td>\n",
       "      <td>33.644201</td>\n",
       "    </tr>\n",
       "  </tbody>\n",
       "</table>\n",
       "</div>"
      ],
      "text/plain": [
       "    alpha  beta  homophily  prob_infection  prob_vaccination  prob_cure  \\\n",
       "16   0.50  0.33       0.75        0.024295          0.238505   0.627572   \n",
       "13   0.33  0.50       0.75        0.452849          0.038784   0.725085   \n",
       "12   0.33  0.33       0.75        0.559446          0.046271   0.904621   \n",
       "15   0.50  0.25       0.75        0.694408          0.272079   0.278570   \n",
       "9    0.25  0.75       0.75        0.519945          0.497827   0.484554   \n",
       "17   0.50  0.50       0.75        0.200498          0.940240   0.054724   \n",
       "7    0.25  0.33       0.75        0.360210          0.127941   0.252209   \n",
       "19   0.75  0.25       0.75        0.274410          0.260870   0.917187   \n",
       "8    0.25  0.50       0.75        0.005588          0.224918   0.040319   \n",
       "11   0.33  0.25       0.75        0.455895          0.331393   0.054083   \n",
       "6    0.25  0.25       0.75        0.064607          0.000982   0.082519   \n",
       "3    0.00  0.50       0.75        0.030950          0.001508   0.436177   \n",
       "4    0.00  0.75       0.75        0.708311          0.120102   0.316673   \n",
       "18   0.75  0.00       0.75        0.577247          0.092846   0.751203   \n",
       "14   0.50  0.00       0.75        0.670281          0.235106   0.426394   \n",
       "2    0.00  0.33       0.75        0.906863          0.082052   0.541361   \n",
       "1    0.00  0.25       0.75        0.559713          0.153158   0.428186   \n",
       "10   0.33  0.00       0.75        0.790812          0.009507   0.804880   \n",
       "20   1.00  0.00       0.75        0.864145          0.088489   0.777521   \n",
       "5    0.25  0.00       0.75        0.225591          0.106273   0.267316   \n",
       "0    0.00  0.00       0.75        0.347875          0.328040   0.842198   \n",
       "\n",
       "    prob_influencer  prob_echo       rmse  \n",
       "16         0.860890   0.610532   3.607667  \n",
       "13         0.488359   0.459757   8.837733  \n",
       "12         0.743159   0.947966   9.870279  \n",
       "15         0.922379   0.023372  10.684394  \n",
       "9          0.915505   0.984425  11.336427  \n",
       "17         0.935212   0.154635  13.844171  \n",
       "7          0.818803   0.870347  14.616534  \n",
       "19         0.625798   0.728559  14.684150  \n",
       "8          0.514692   0.895134  17.066942  \n",
       "11         0.965285   0.581391  18.668095  \n",
       "6          0.127761   0.924551  19.824573  \n",
       "3          0.259027   0.287010  19.944803  \n",
       "4          0.535631   0.761649  24.814507  \n",
       "18         0.853613   0.166283  26.000324  \n",
       "14         0.935653   0.613225  29.405426  \n",
       "2          0.532287   0.679548  29.599400  \n",
       "1          0.879440   0.107033  29.850447  \n",
       "10         0.953791   0.600414  30.442114  \n",
       "20         0.880251   0.720726  30.838230  \n",
       "5          0.704847   0.150069  31.457638  \n",
       "0          0.947431   0.422984  33.644201  "
      ]
     },
     "execution_count": 15,
     "metadata": {},
     "output_type": "execute_result"
    }
   ],
   "source": [
    "parameters_homophily_075 = parameters_homophily_075.sort_values(by='rmse')\n",
    "parameters_homophily_075"
   ]
  },
  {
   "cell_type": "code",
   "execution_count": 16,
   "metadata": {},
   "outputs": [],
   "source": [
    "alpha = parameters_homophily_075['alpha'].iloc[0]\n",
    "beta = parameters_homophily_075['beta'].iloc[0]\n",
    "homophily = parameters_homophily_075['homophily'].iloc[0]\n",
    "prob_infection = parameters_homophily_075['prob_infection'].iloc[0]\n",
    "prob_vaccination = parameters_homophily_075['prob_vaccination'].iloc[0]\n",
    "prob_cure = parameters_homophily_075['prob_cure'].iloc[0]\n",
    "prob_influencer = parameters_homophily_075['prob_influencer'].iloc[0]\n",
    "prob_echo = parameters_homophily_075['prob_echo'].iloc[0]"
   ]
  },
  {
   "cell_type": "code",
   "execution_count": 17,
   "metadata": {},
   "outputs": [],
   "source": [
    "container = NetworksContainer(n_networks=30, n_nodes=n_nodes, \n",
    "                              alpha=alpha, beta=beta, \n",
    "                              delta_in=1, delta_out=1, \n",
    "                              homophily=homophily, n_commons=n_commons, \n",
    "                              n_influencers=n_influencers, n_bots=n_bots, \n",
    "                              n_fact_checkers=n_fact_checkers,\n",
    "                              prob_complaint=0.0, \n",
    "                              prob_infection=prob_infection, \n",
    "                              prob_vaccination=prob_vaccination,\n",
    "                              prob_cure=prob_cure, \n",
    "                              prob_influencer=prob_influencer, \n",
    "                              exp_decay=True, user_block=False, \n",
    "                              prob_echo=prob_echo, epochs=epochs)\n",
    "container.create_network_list(n_initial_infected_nodes=n_initial_infected_nodes)"
   ]
  },
  {
   "cell_type": "code",
   "execution_count": 18,
   "metadata": {},
   "outputs": [],
   "source": [
    "total_y_pred_list_homophily_075 = []\n",
    "\n",
    "for i in range(container.n_networks):   \n",
    "    y_pred_list = []\n",
    "    container.network_list[i].reset_network()\n",
    "    for j in range(container.epochs):\n",
    "        container.network_list[i].update_nodes()\n",
    "    y_pred_list = container.network_list[i].perc_infected\n",
    "    total_y_pred_list_homophily_075.append(y_pred_list)"
   ]
  },
  {
   "cell_type": "code",
   "execution_count": 19,
   "metadata": {},
   "outputs": [],
   "source": [
    "avg_y_pred_list_homophily_075 = [sum(column) / len(column) for column in zip(*total_y_pred_list_homophily_075)]"
   ]
  },
  {
   "cell_type": "code",
   "execution_count": 20,
   "metadata": {},
   "outputs": [],
   "source": [
    "std_y_pred_list_homophily_075 = [np.std(column) for column in zip(*total_y_pred_list_homophily_075)]"
   ]
  },
  {
   "cell_type": "code",
   "execution_count": 21,
   "metadata": {},
   "outputs": [],
   "source": [
    "std_low_y_pred_list_homophily_075 = []\n",
    "std_high_y_pred_list_homophily_075 = []\n",
    "for i in range(len(avg_y_pred_list_homophily_075)):\n",
    "    std_low_y_pred_list_homophily_075.append(avg_y_pred_list_homophily_075[i] - std_y_pred_list_homophily_075[i])\n",
    "    std_high_y_pred_list_homophily_075.append(avg_y_pred_list_homophily_075[i] + std_y_pred_list_homophily_075[i])"
   ]
  },
  {
   "cell_type": "code",
   "execution_count": 22,
   "metadata": {},
   "outputs": [],
   "source": [
    "x = []\n",
    "for i in range(len(endorsers_percentage_list)):\n",
    "    x.append(i)"
   ]
  },
  {
   "cell_type": "code",
   "execution_count": 23,
   "metadata": {},
   "outputs": [
    {
     "data": {
      "image/png": "[encoded data removed]",
      "text/plain": [
       "<Figure size 1200x400 with 1 Axes>"
      ]
     },
     "metadata": {},
     "output_type": "display_data"
    }
   ],
   "source": [
    "fig, axs = plt.subplots(1, 1, figsize=(12, 4))\n",
    "axs.plot(endorsers_percentage_list, c='r', label='Real endorsers percentage', linewidth=1.0)\n",
    "plt.plot(avg_y_pred_list_homophily_075, c='b', label='Simulated endorsers percentage', linewidth=1.0)\n",
    "axs.fill_between(x, avg_y_pred_list_homophily_075, std_low_y_pred_list_homophily_075, color='b', alpha=.1)\n",
    "axs.fill_between(x, avg_y_pred_list_homophily_075, std_high_y_pred_list_homophily_075, color='b', alpha=.1)\n",
    "legend = plt.legend(bbox_to_anchor=(1.05, 1), loc='upper left')\n",
    "plt.xlabel(\"Epoch\")\n",
    "plt.ylabel(\"Percentage of endorsers\")\n",
    "plt.show()"
   ]
  },
  {
   "cell_type": "code",
   "execution_count": 24,
   "metadata": {},
   "outputs": [],
   "source": [
    "x = []\n",
    "endorsers_percentage_list_truncated = []\n",
    "avg_y_pred_list_homophily_075_truncated = []\n",
    "std_low_y_pred_list_homophily_075_truncated = []\n",
    "std_high_y_pred_list_homophily_075_truncated = []\n",
    "for i in range(500):\n",
    "    x.append(i)\n",
    "    endorsers_percentage_list_truncated.append(endorsers_percentage_list[i])\n",
    "    avg_y_pred_list_homophily_075_truncated.append(avg_y_pred_list_homophily_075[i])\n",
    "    std_low_y_pred_list_homophily_075_truncated.append(std_low_y_pred_list_homophily_075[i])\n",
    "    std_high_y_pred_list_homophily_075_truncated.append(std_high_y_pred_list_homophily_075[i])"
   ]
  },
  {
   "cell_type": "code",
   "execution_count": 25,
   "metadata": {},
   "outputs": [
    {
     "data": {
      "image/png": "[encoded data removed]",
      "text/plain": [
       "<Figure size 1200x400 with 1 Axes>"
      ]
     },
     "metadata": {},
     "output_type": "display_data"
    }
   ],
   "source": [
    "fig, axs = plt.subplots(1, 1, figsize=(12, 4))\n",
    "axs.plot(endorsers_percentage_list_truncated, c='r', label='Real endorsers percentage', linewidth=1.0)\n",
    "plt.plot(avg_y_pred_list_homophily_075_truncated, c='b', label='Simulated endorsers percentage', linewidth=1.0)\n",
    "axs.fill_between(x, avg_y_pred_list_homophily_075_truncated, std_low_y_pred_list_homophily_075_truncated, color='b', alpha=.1)\n",
    "axs.fill_between(x, avg_y_pred_list_homophily_075_truncated, std_high_y_pred_list_homophily_075_truncated, color='b', alpha=.1)\n",
    "legend = plt.legend(bbox_to_anchor=(1.05, 1), loc='upper left')\n",
    "plt.xlabel(\"Epoch\")\n",
    "plt.ylabel(\"Percentage of endorsers\")\n",
    "plt.show()"
   ]
  },
  {
   "cell_type": "code",
   "execution_count": 26,
   "metadata": {},
   "outputs": [
    {
     "name": "stdout",
     "output_type": "stream",
     "text": [
      "Mean 0.75:  -18.6372126067517\n",
      "Standard deviation 0.75:  0.06397081613772768\n"
     ]
    }
   ],
   "source": [
    "y_true = endorsers_percentage_list\n",
    "\n",
    "neg_rmse_list_homophily_075 = []\n",
    "for i in range(container.n_networks):\n",
    "        mse = mean_squared_error(y_true=y_true, y_pred=total_y_pred_list_homophily_075[i])\n",
    "        neg_rmse = - np.sqrt(mse)\n",
    "        neg_rmse_list_homophily_075.append(neg_rmse)\n",
    "    \n",
    "mean_neg_rmse_homophily_075 = np.mean(neg_rmse_list_homophily_075)\n",
    "std_neg_rmse_homophily_075 = np.std(neg_rmse_list_homophily_075)\n",
    "print(\"Mean 0.75: \", mean_neg_rmse_homophily_075)\n",
    "print(\"Standard deviation 0.75: \", std_neg_rmse_homophily_075)"
   ]
  },
  {
   "cell_type": "code",
   "execution_count": 27,
   "metadata": {},
   "outputs": [],
   "source": [
    "df_total_y_pred_list_homophily_075 = pd.DataFrame(total_y_pred_list_homophily_075).T\n",
    "df_total_y_pred_list_homophily_075.to_csv(\"validation_obama_endorsers_percentages_homophily_0.75.csv\", index=False, header=False)"
   ]
  },
  {
   "cell_type": "code",
   "execution_count": 28,
   "metadata": {},
   "outputs": [],
   "source": [
    "df_statistics_homophily_075 = pd.DataFrame(avg_y_pred_list_homophily_075).T\n",
    "df_statistics_homophily_075.loc[1] = std_y_pred_list_homophily_075\n",
    "df_statistics_homophily_075.loc[2] = std_high_y_pred_list_homophily_075\n",
    "df_statistics_homophily_075.loc[3] = std_low_y_pred_list_homophily_075\n",
    "df_statistics_homophily_075.to_csv(\"validation_obama_statistics_homophily_0.75.csv\", index=False, header=False)"
   ]
  },
  {
   "cell_type": "code",
   "execution_count": 29,
   "metadata": {},
   "outputs": [],
   "source": [
    "df_rmse_homophily_075 = pd.DataFrame(neg_rmse_list_homophily_075).T\n",
    "df_rmse_homophily_075.to_csv(\"validation_obama_rmse_homophily_0.75.csv\", index=False, header=False)"
   ]
  },
  {
   "cell_type": "code",
   "execution_count": null,
   "metadata": {},
   "outputs": [],
   "source": []
  }
 ],
 "metadata": {
  "kernelspec": {
   "display_name": "SCMS",
   "language": "python",
   "name": "python3"
  },
  "language_info": {
   "codemirror_mode": {
    "name": "ipython",
    "version": 3
   },
   "file_extension": ".py",
   "mimetype": "text/x-python",
   "name": "python",
   "nbconvert_exporter": "python",
   "pygments_lexer": "ipython3",
   "version": "3.11.0"
  },
  "orig_nbformat": 4,
  "vscode": {
   "interpreter": {
    "hash": "c97dbac1812ec30b48a7f39712c01c480bd467df285f0a5249fb97075fa3baaf"
   }
  }
 },
 "nbformat": 4,
 "nbformat_minor": 2
}
