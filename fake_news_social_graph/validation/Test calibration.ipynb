{
 "cells": [
  {
   "cell_type": "code",
   "execution_count": 1,
   "metadata": {},
   "outputs": [],
   "source": [
    "import os\n",
    "import sys\n",
    "import tqdm\n",
    "import random\n",
    "import numpy as np\n",
    "import pandas as pd\n",
    "from skopt import BayesSearchCV\n",
    "from sklearn.base import BaseEstimator\n",
    "from sklearn.metrics import mean_squared_error\n",
    "\n",
    "sys.path.append('.')\n",
    "sys.path.append('../../')\n",
    "sys.path.append('../network_model/')\n",
    "\n",
    "notebook_path = os.getcwd()\n",
    "project_path = os.path.abspath(os.path.join(notebook_path, '..'))\n",
    "sys.path.append(project_path)\n",
    "\n",
    "from network_model.network_classes import Network\n",
    "from networks_container import NetworksContainer\n",
    "from estimator import Estimator"
   ]
  },
  {
   "cell_type": "code",
   "execution_count": 2,
   "metadata": {},
   "outputs": [],
   "source": [
    "endorsers_percentage_list = pd.read_csv(\"../datasets/palin_endorsers_hours_percentage_list.csv\", dtype=int, header=None)\n",
    "endorsers_percentage_list = endorsers_percentage_list.values.tolist()\n",
    "endorsers_percentage_list = [item for sublist in endorsers_percentage_list for item in sublist]"
   ]
  },
  {
   "cell_type": "code",
   "execution_count": 3,
   "metadata": {},
   "outputs": [
    {
     "name": "stdout",
     "output_type": "stream",
     "text": [
      "3634\n"
     ]
    }
   ],
   "source": [
    "print(len(endorsers_percentage_list))"
   ]
  },
  {
   "cell_type": "code",
   "execution_count": 4,
   "metadata": {},
   "outputs": [],
   "source": [
    "# Tolgo 1 in quanto considero la prima epoca come lo stato iniziale\n",
    "epochs = len(endorsers_percentage_list) - 1"
   ]
  },
  {
   "cell_type": "code",
   "execution_count": 5,
   "metadata": {},
   "outputs": [],
   "source": [
    "df = pd.DataFrame(columns=['alpha','beta','homophily','prob_infection','prob_vaccination',\n",
    "                           'prob_cure','prob_influencer','prob_echo','rmse'])"
   ]
  },
  {
   "cell_type": "code",
   "execution_count": 6,
   "metadata": {},
   "outputs": [],
   "source": [
    "search_spaces = {\n",
    "    'prob_influencer': (0.0, 1.0),\n",
    "    'prob_infection': (0.0, 1.0),\n",
    "    'prob_vaccination': (0.0, 1.0),\n",
    "    'prob_cure': (0.0, 1.0),\n",
    "    'prob_echo': (0.0, 1.0),\n",
    "}\n",
    "\n",
    "best_params = []\n",
    "best_rmse = 1000"
   ]
  },
  {
   "cell_type": "code",
   "execution_count": 7,
   "metadata": {},
   "outputs": [],
   "source": [
    "# Funzione per salvare i migliori parametri e il miglior RMSE a ogni passo di inferenza\n",
    "def on_step_callback(result):\n",
    "    global best_rmse, best_params\n",
    "    length = len(result.func_vals)\n",
    "    last_val = result.func_vals[length-1]\n",
    "    if last_val < best_rmse:\n",
    "        best_rmse = last_val\n",
    "        best_params = result.x"
   ]
  },
  {
   "cell_type": "code",
   "execution_count": 8,
   "metadata": {},
   "outputs": [],
   "source": [
    "# Funzione per verificare se i valori di alpha e beta sono corretti\n",
    "def check_values(alpha, beta):\n",
    "    if  alpha + beta > 1.0:\n",
    "        return False\n",
    "    # Con alpha = 0 e beta = 1 non vengono aggiunti nuovi nodi\n",
    "    if alpha == 0 and beta == 1:\n",
    "        return False\n",
    "    return True"
   ]
  },
  {
   "cell_type": "code",
   "execution_count": 9,
   "metadata": {},
   "outputs": [],
   "source": [
    "def run_simulations(alpha, beta, homophily):\n",
    "    #print(\"Entrata simulazione\")\n",
    "    container = NetworksContainer(n_networks=3, n_nodes=50, \n",
    "                                  alpha=alpha, beta=beta, \n",
    "                                  delta_in=1, delta_out=1, \n",
    "                                  homophily=homophily, n_commons=45, \n",
    "                                  n_influencers=5, n_bots=0, n_fact_checkers=0,\n",
    "                                  prob_complaint=0.1, \n",
    "                                  prob_infection=0.5, \n",
    "                                  prob_vaccination=0.1,\n",
    "                                  prob_cure=0.1, \n",
    "                                  prob_influencer=0.1, \n",
    "                                  exp_decay=True, user_block=False, \n",
    "                                  prob_echo=0.0, epochs=epochs)\n",
    "    container.create_network_list(n_initial_infected_nodes=5)\n",
    "    #print(\"Finita creazione reti\")\n",
    "    estimator = Estimator()\n",
    "    clf = BayesSearchCV(estimator, \n",
    "                        search_spaces=search_spaces,\n",
    "                        cv=[(slice(None), slice(None))], # per evitare la cross-validation\n",
    "                        verbose=0,\n",
    "                        n_iter=10)\n",
    "    #print(\"Inizio fit\")\n",
    "    clf.fit(np.array([container]), \n",
    "            np.array([endorsers_percentage_list]),\n",
    "            callback=on_step_callback)\n",
    "    #print(\"Fine fit\")\n",
    "    best_prob_cure = best_params[0]\n",
    "    best_prob_echo = best_params[1]\n",
    "    best_prob_influencer = best_params[2]\n",
    "    best_prob_infection = best_params[3]\n",
    "    best_prob_vaccination = best_params[4]\n",
    "    \n",
    "    return best_prob_infection, best_prob_vaccination, best_prob_cure, best_prob_influencer, best_prob_echo"
   ]
  },
  {
   "cell_type": "code",
   "execution_count": 10,
   "metadata": {},
   "outputs": [],
   "source": [
    "values_alpha_beta = [0.0, 0.25, 0.33, 0.50, 0.75, 1.0]\n",
    "values_homophily = [0.25, 0.5, 0.75]"
   ]
  },
  {
   "cell_type": "code",
   "execution_count": 11,
   "metadata": {},
   "outputs": [
    {
     "name": "stderr",
     "output_type": "stream",
     "text": [
      "  0%|          | 0/6 [00:00<?, ?it/s]\n",
      "\u001b[A\n",
      "\u001b[A\n",
      "\u001b[A\n",
      "100%|██████████| 3/3 [00:29<00:00,  9.88s/it]\n",
      "\n",
      "\u001b[A\n",
      "\u001b[A\n",
      "\u001b[A\n",
      "100%|██████████| 3/3 [00:33<00:00, 11.17s/it]\n",
      "\n",
      "\u001b[A\n",
      "\u001b[A\n",
      "\u001b[A\n",
      "100%|██████████| 3/3 [00:32<00:00, 10.93s/it]\n",
      "\n",
      "\u001b[A\n",
      "\u001b[A\n",
      "\u001b[A\n",
      "100%|██████████| 3/3 [00:36<00:00, 12.03s/it]\n",
      "\n",
      "\u001b[A\n",
      "\u001b[A\n",
      "\u001b[A\n",
      "100%|██████████| 3/3 [00:44<00:00, 14.86s/it]\n",
      "100%|██████████| 6/6 [02:56<00:00, 29.44s/it]\n",
      " 17%|█▋        | 1/6 [02:56<14:43, 176.62s/it]\n",
      "\u001b[A\n",
      "\u001b[A\n",
      "\u001b[A\n",
      "100%|██████████| 3/3 [00:29<00:00,  9.68s/it]\n",
      "\n",
      "\u001b[A\n",
      "\u001b[A\n",
      "\u001b[A\n",
      "100%|██████████| 3/3 [00:32<00:00, 10.85s/it]\n",
      "\n",
      "\u001b[A\n",
      "\u001b[A\n",
      "\u001b[A\n",
      "100%|██████████| 3/3 [00:31<00:00, 10.36s/it]\n",
      "\n",
      "\u001b[A\n",
      "\u001b[A\n",
      "\u001b[A\n",
      "100%|██████████| 3/3 [00:35<00:00, 11.82s/it]\n",
      "\n",
      "\u001b[A\n",
      "\u001b[A\n",
      "\u001b[A\n",
      "100%|██████████| 3/3 [00:46<00:00, 15.37s/it]\n",
      "100%|██████████| 6/6 [02:54<00:00, 29.04s/it]\n",
      " 33%|███▎      | 2/6 [05:50<11:40, 175.24s/it]\n",
      "\u001b[A\n",
      "\u001b[A\n",
      "\u001b[A\n",
      "100%|██████████| 3/3 [00:29<00:00,  9.75s/it]\n",
      "\n",
      "\u001b[A\n",
      "\u001b[A\n",
      "\u001b[A\n",
      "100%|██████████| 3/3 [00:31<00:00, 10.48s/it]\n",
      "\n",
      "\u001b[A\n",
      "\u001b[A\n",
      "\u001b[A\n",
      "100%|██████████| 3/3 [00:31<00:00, 10.54s/it]\n",
      "\n",
      "\u001b[A\n",
      "\u001b[A\n",
      "\u001b[A\n",
      "100%|██████████| 3/3 [00:34<00:00, 11.57s/it]\n",
      "100%|██████████| 6/6 [02:07<00:00, 21.18s/it]\n",
      " 50%|█████     | 3/6 [07:57<07:39, 153.24s/it]\n",
      "\u001b[A\n",
      "\u001b[A\n",
      "\u001b[A\n",
      "100%|██████████| 3/3 [00:28<00:00,  9.43s/it]\n",
      "\n",
      "\u001b[A\n",
      "\u001b[A\n",
      "\u001b[A\n",
      "100%|██████████| 3/3 [00:32<00:00, 10.72s/it]\n",
      "\n",
      "\u001b[A\n",
      "\u001b[A\n",
      "\u001b[A\n",
      "100%|██████████| 3/3 [00:33<00:00, 11.14s/it]\n",
      "\n",
      "\u001b[A\n",
      "\u001b[A\n",
      "\u001b[A\n",
      "100%|██████████| 3/3 [00:37<00:00, 12.63s/it]\n",
      "100%|██████████| 6/6 [02:11<00:00, 21.96s/it]\n",
      " 67%|██████▋   | 4/6 [10:09<04:49, 144.76s/it]\n",
      "\u001b[A\n",
      "\u001b[A\n",
      "\u001b[A\n",
      "100%|██████████| 3/3 [00:31<00:00, 10.40s/it]\n",
      "\n",
      "\u001b[A\n",
      "\u001b[A\n",
      "\u001b[A\n",
      "100%|██████████| 3/3 [00:31<00:00, 10.52s/it]\n",
      "100%|██████████| 6/6 [01:02<00:00, 10.46s/it]\n",
      " 83%|████████▎ | 5/6 [11:12<01:55, 115.19s/it]\n",
      "\u001b[A\n",
      "\u001b[A\n",
      "\u001b[A\n",
      "100%|██████████| 3/3 [00:29<00:00,  9.68s/it]\n",
      "100%|██████████| 6/6 [00:29<00:00,  4.84s/it]\n",
      "100%|██████████| 6/6 [11:41<00:00, 116.92s/it]\n"
     ]
    }
   ],
   "source": [
    "for i in tqdm.tqdm((range(len(values_alpha_beta)))):\n",
    "    alpha = values_alpha_beta[i]\n",
    "    for j in tqdm.tqdm(range(len(values_alpha_beta))):\n",
    "        beta = values_alpha_beta[j]\n",
    "        checked_values = check_values(alpha, beta)\n",
    "        if checked_values:\n",
    "            for k in tqdm.tqdm(range(len(values_homophily))):\n",
    "                homophily = values_homophily[k]\n",
    "                prob_infection, prob_vaccination, prob_cure, prob_influencer, prob_echo = run_simulations(alpha, beta, homophily)\n",
    "                #print(\"Finita simulazione\")\n",
    "                row = {'alpha':alpha,'beta':beta,\n",
    "                       'homophily':homophily,\n",
    "                       'prob_infection':prob_infection,\n",
    "                       'prob_vaccination':prob_vaccination,\n",
    "                       'prob_cure':prob_cure,\n",
    "                       'prob_influencer':prob_influencer,\n",
    "                       'prob_echo':prob_echo,\n",
    "                       'rmse':best_rmse}\n",
    "                row = pd.DataFrame([row])\n",
    "                df = pd.concat([df, row], ignore_index=True)\n",
    "                df.to_csv(\"parameters_optimization.csv\", index=False)\n",
    "                best_params = []\n",
    "                best_rmse = 1000"
   ]
  },
  {
   "cell_type": "code",
   "execution_count": null,
   "metadata": {},
   "outputs": [],
   "source": []
  }
 ],
 "metadata": {
  "kernelspec": {
   "display_name": "SCMS",
   "language": "python",
   "name": "python3"
  },
  "language_info": {
   "codemirror_mode": {
    "name": "ipython",
    "version": 3
   },
   "file_extension": ".py",
   "mimetype": "text/x-python",
   "name": "python",
   "nbconvert_exporter": "python",
   "pygments_lexer": "ipython3",
   "version": "3.10.4"
  },
  "orig_nbformat": 4,
  "vscode": {
   "interpreter": {
    "hash": "c97dbac1812ec30b48a7f39712c01c480bd467df285f0a5249fb97075fa3baaf"
   }
  }
 },
 "nbformat": 4,
 "nbformat_minor": 2
}
