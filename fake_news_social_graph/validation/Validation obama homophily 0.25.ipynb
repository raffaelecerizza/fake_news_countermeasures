{
 "cells": [
  {
   "cell_type": "code",
   "execution_count": 1,
   "metadata": {},
   "outputs": [],
   "source": [
    "import os\n",
    "import sys\n",
    "import tqdm\n",
    "import random\n",
    "import numpy as np\n",
    "import pandas as pd\n",
    "import matplotlib.pyplot as plt\n",
    "from numpy.random import seed\n",
    "from skopt import BayesSearchCV\n",
    "from sklearn.base import BaseEstimator\n",
    "from sklearn.metrics import mean_squared_error\n",
    "\n",
    "sys.path.append('.')\n",
    "sys.path.append('../../')\n",
    "sys.path.append('../network_model/')\n",
    "\n",
    "notebook_path = os.getcwd()\n",
    "project_path = os.path.abspath(os.path.join(notebook_path, '..'))\n",
    "sys.path.append(project_path)\n",
    "\n",
    "from network_model.network_classes import Network\n",
    "from networks_container import NetworksContainer\n",
    "from estimator import Estimator"
   ]
  },
  {
   "cell_type": "code",
   "execution_count": 2,
   "metadata": {},
   "outputs": [],
   "source": [
    "cherrypicked_seed = 42\n",
    "\n",
    "seed(cherrypicked_seed)\n",
    "random.seed(cherrypicked_seed)"
   ]
  },
  {
   "cell_type": "code",
   "execution_count": 3,
   "metadata": {},
   "outputs": [],
   "source": [
    "dataset_obama = pd.read_csv(\"../datasets/obamaAnonimized.csv\", dtype=str)"
   ]
  },
  {
   "cell_type": "code",
   "execution_count": 4,
   "metadata": {},
   "outputs": [],
   "source": [
    "endorsers_percentage_list = pd.read_csv(\"../datasets/obama_endorsers_hours_percentage_list.csv\", dtype=int, header=None)\n",
    "endorsers_percentage_list = endorsers_percentage_list.values.tolist()\n",
    "endorsers_percentage_list = [item for sublist in endorsers_percentage_list for item in sublist]"
   ]
  },
  {
   "cell_type": "code",
   "execution_count": 5,
   "metadata": {},
   "outputs": [
    {
     "name": "stdout",
     "output_type": "stream",
     "text": [
      "4730\n"
     ]
    }
   ],
   "source": [
    "print(len(endorsers_percentage_list))"
   ]
  },
  {
   "cell_type": "code",
   "execution_count": 6,
   "metadata": {},
   "outputs": [],
   "source": [
    "# Tolgo 1 in quanto considero la prima epoca come lo stato iniziale\n",
    "epochs = len(endorsers_percentage_list) - 1"
   ]
  },
  {
   "cell_type": "code",
   "execution_count": 7,
   "metadata": {},
   "outputs": [
    {
     "name": "stdout",
     "output_type": "stream",
     "text": [
      "4337\n"
     ]
    }
   ],
   "source": [
    "print(len(dataset_obama))"
   ]
  },
  {
   "cell_type": "code",
   "execution_count": 8,
   "metadata": {},
   "outputs": [
    {
     "data": {
      "text/plain": [
       "2678"
      ]
     },
     "execution_count": 8,
     "metadata": {},
     "output_type": "execute_result"
    }
   ],
   "source": [
    "n_nodes = 2678\n",
    "n_nodes"
   ]
  },
  {
   "cell_type": "code",
   "execution_count": 9,
   "metadata": {},
   "outputs": [
    {
     "data": {
      "text/plain": [
       "27"
      ]
     },
     "execution_count": 9,
     "metadata": {},
     "output_type": "execute_result"
    }
   ],
   "source": [
    "n_bots = round((1 / 100) * n_nodes)\n",
    "n_bots"
   ]
  },
  {
   "cell_type": "code",
   "execution_count": 10,
   "metadata": {},
   "outputs": [
    {
     "data": {
      "text/plain": [
       "27"
      ]
     },
     "execution_count": 10,
     "metadata": {},
     "output_type": "execute_result"
    }
   ],
   "source": [
    "n_fact_checkers = round((1 / 100) * n_nodes)\n",
    "n_fact_checkers"
   ]
  },
  {
   "cell_type": "code",
   "execution_count": 11,
   "metadata": {},
   "outputs": [],
   "source": [
    "n_influencers = 29"
   ]
  },
  {
   "cell_type": "code",
   "execution_count": 12,
   "metadata": {},
   "outputs": [
    {
     "data": {
      "text/plain": [
       "2595"
      ]
     },
     "execution_count": 12,
     "metadata": {},
     "output_type": "execute_result"
    }
   ],
   "source": [
    "n_commons = n_nodes - n_bots - n_fact_checkers - n_influencers\n",
    "n_commons"
   ]
  },
  {
   "cell_type": "code",
   "execution_count": 13,
   "metadata": {},
   "outputs": [
    {
     "data": {
      "text/plain": [
       "0"
      ]
     },
     "execution_count": 13,
     "metadata": {},
     "output_type": "execute_result"
    }
   ],
   "source": [
    "n_initial_infected_nodes = round((1 / 100) * n_nodes) - n_bots\n",
    "n_initial_infected_nodes"
   ]
  },
  {
   "attachments": {},
   "cell_type": "markdown",
   "metadata": {},
   "source": [
    "# Validation for homophily 0.25"
   ]
  },
  {
   "cell_type": "code",
   "execution_count": 14,
   "metadata": {},
   "outputs": [],
   "source": [
    "# Prendo i parametri calibrati con un dataset diverso da quello usato per la validazione\n",
    "parameters_homophily_025 = pd.read_csv(\"./parameters/parameters_optimization_palin_hours_homophily_0.25.csv\")"
   ]
  },
  {
   "cell_type": "code",
   "execution_count": 15,
   "metadata": {},
   "outputs": [
    {
     "data": {
      "text/html": [
       "<div>\n",
       "<style scoped>\n",
       "    .dataframe tbody tr th:only-of-type {\n",
       "        vertical-align: middle;\n",
       "    }\n",
       "\n",
       "    .dataframe tbody tr th {\n",
       "        vertical-align: top;\n",
       "    }\n",
       "\n",
       "    .dataframe thead th {\n",
       "        text-align: right;\n",
       "    }\n",
       "</style>\n",
       "<table border=\"1\" class=\"dataframe\">\n",
       "  <thead>\n",
       "    <tr style=\"text-align: right;\">\n",
       "      <th></th>\n",
       "      <th>alpha</th>\n",
       "      <th>beta</th>\n",
       "      <th>homophily</th>\n",
       "      <th>prob_infection</th>\n",
       "      <th>prob_vaccination</th>\n",
       "      <th>prob_cure</th>\n",
       "      <th>prob_influencer</th>\n",
       "      <th>prob_echo</th>\n",
       "      <th>rmse</th>\n",
       "    </tr>\n",
       "  </thead>\n",
       "  <tbody>\n",
       "    <tr>\n",
       "      <th>15</th>\n",
       "      <td>0.50</td>\n",
       "      <td>0.25</td>\n",
       "      <td>0.25</td>\n",
       "      <td>0.946572</td>\n",
       "      <td>0.019471</td>\n",
       "      <td>0.806971</td>\n",
       "      <td>0.485082</td>\n",
       "      <td>0.630385</td>\n",
       "      <td>3.665503</td>\n",
       "    </tr>\n",
       "    <tr>\n",
       "      <th>9</th>\n",
       "      <td>0.25</td>\n",
       "      <td>0.75</td>\n",
       "      <td>0.25</td>\n",
       "      <td>0.671159</td>\n",
       "      <td>0.315414</td>\n",
       "      <td>0.837163</td>\n",
       "      <td>0.938964</td>\n",
       "      <td>0.786240</td>\n",
       "      <td>4.061536</td>\n",
       "    </tr>\n",
       "    <tr>\n",
       "      <th>13</th>\n",
       "      <td>0.33</td>\n",
       "      <td>0.50</td>\n",
       "      <td>0.25</td>\n",
       "      <td>0.811651</td>\n",
       "      <td>0.122950</td>\n",
       "      <td>0.415625</td>\n",
       "      <td>0.641897</td>\n",
       "      <td>0.359864</td>\n",
       "      <td>4.579548</td>\n",
       "    </tr>\n",
       "    <tr>\n",
       "      <th>17</th>\n",
       "      <td>0.50</td>\n",
       "      <td>0.50</td>\n",
       "      <td>0.25</td>\n",
       "      <td>0.832157</td>\n",
       "      <td>0.178371</td>\n",
       "      <td>0.874119</td>\n",
       "      <td>0.533449</td>\n",
       "      <td>0.751942</td>\n",
       "      <td>7.440493</td>\n",
       "    </tr>\n",
       "    <tr>\n",
       "      <th>19</th>\n",
       "      <td>0.75</td>\n",
       "      <td>0.25</td>\n",
       "      <td>0.25</td>\n",
       "      <td>0.700935</td>\n",
       "      <td>0.313440</td>\n",
       "      <td>0.323507</td>\n",
       "      <td>0.646720</td>\n",
       "      <td>0.425415</td>\n",
       "      <td>10.167374</td>\n",
       "    </tr>\n",
       "    <tr>\n",
       "      <th>4</th>\n",
       "      <td>0.00</td>\n",
       "      <td>0.75</td>\n",
       "      <td>0.25</td>\n",
       "      <td>0.242011</td>\n",
       "      <td>0.047201</td>\n",
       "      <td>0.446475</td>\n",
       "      <td>0.831034</td>\n",
       "      <td>0.571795</td>\n",
       "      <td>11.283309</td>\n",
       "    </tr>\n",
       "    <tr>\n",
       "      <th>16</th>\n",
       "      <td>0.50</td>\n",
       "      <td>0.33</td>\n",
       "      <td>0.25</td>\n",
       "      <td>0.676409</td>\n",
       "      <td>0.451609</td>\n",
       "      <td>0.692063</td>\n",
       "      <td>0.950132</td>\n",
       "      <td>0.099987</td>\n",
       "      <td>11.821275</td>\n",
       "    </tr>\n",
       "    <tr>\n",
       "      <th>11</th>\n",
       "      <td>0.33</td>\n",
       "      <td>0.25</td>\n",
       "      <td>0.25</td>\n",
       "      <td>0.961665</td>\n",
       "      <td>0.087162</td>\n",
       "      <td>0.674789</td>\n",
       "      <td>0.873810</td>\n",
       "      <td>0.721106</td>\n",
       "      <td>14.995867</td>\n",
       "    </tr>\n",
       "    <tr>\n",
       "      <th>12</th>\n",
       "      <td>0.33</td>\n",
       "      <td>0.33</td>\n",
       "      <td>0.25</td>\n",
       "      <td>0.871039</td>\n",
       "      <td>0.214956</td>\n",
       "      <td>0.566959</td>\n",
       "      <td>0.946951</td>\n",
       "      <td>0.041759</td>\n",
       "      <td>15.466470</td>\n",
       "    </tr>\n",
       "    <tr>\n",
       "      <th>7</th>\n",
       "      <td>0.25</td>\n",
       "      <td>0.33</td>\n",
       "      <td>0.25</td>\n",
       "      <td>0.082344</td>\n",
       "      <td>0.310468</td>\n",
       "      <td>0.194199</td>\n",
       "      <td>0.899468</td>\n",
       "      <td>0.449386</td>\n",
       "      <td>22.524894</td>\n",
       "    </tr>\n",
       "    <tr>\n",
       "      <th>18</th>\n",
       "      <td>0.75</td>\n",
       "      <td>0.00</td>\n",
       "      <td>0.25</td>\n",
       "      <td>0.769699</td>\n",
       "      <td>0.186514</td>\n",
       "      <td>0.810085</td>\n",
       "      <td>0.949964</td>\n",
       "      <td>0.609648</td>\n",
       "      <td>22.983508</td>\n",
       "    </tr>\n",
       "    <tr>\n",
       "      <th>8</th>\n",
       "      <td>0.25</td>\n",
       "      <td>0.50</td>\n",
       "      <td>0.25</td>\n",
       "      <td>0.022769</td>\n",
       "      <td>0.577372</td>\n",
       "      <td>0.735569</td>\n",
       "      <td>0.986076</td>\n",
       "      <td>0.047381</td>\n",
       "      <td>24.860437</td>\n",
       "    </tr>\n",
       "    <tr>\n",
       "      <th>20</th>\n",
       "      <td>1.00</td>\n",
       "      <td>0.00</td>\n",
       "      <td>0.25</td>\n",
       "      <td>0.304826</td>\n",
       "      <td>0.028654</td>\n",
       "      <td>0.434504</td>\n",
       "      <td>0.940048</td>\n",
       "      <td>0.533894</td>\n",
       "      <td>25.471679</td>\n",
       "    </tr>\n",
       "    <tr>\n",
       "      <th>2</th>\n",
       "      <td>0.00</td>\n",
       "      <td>0.33</td>\n",
       "      <td>0.25</td>\n",
       "      <td>0.957083</td>\n",
       "      <td>0.404041</td>\n",
       "      <td>0.229332</td>\n",
       "      <td>0.977308</td>\n",
       "      <td>0.724613</td>\n",
       "      <td>29.429184</td>\n",
       "    </tr>\n",
       "    <tr>\n",
       "      <th>10</th>\n",
       "      <td>0.33</td>\n",
       "      <td>0.00</td>\n",
       "      <td>0.25</td>\n",
       "      <td>0.621033</td>\n",
       "      <td>0.107866</td>\n",
       "      <td>0.172409</td>\n",
       "      <td>0.987889</td>\n",
       "      <td>0.373349</td>\n",
       "      <td>29.621813</td>\n",
       "    </tr>\n",
       "    <tr>\n",
       "      <th>3</th>\n",
       "      <td>0.00</td>\n",
       "      <td>0.50</td>\n",
       "      <td>0.25</td>\n",
       "      <td>0.390317</td>\n",
       "      <td>0.492830</td>\n",
       "      <td>0.083003</td>\n",
       "      <td>0.881348</td>\n",
       "      <td>0.277427</td>\n",
       "      <td>30.169731</td>\n",
       "    </tr>\n",
       "    <tr>\n",
       "      <th>14</th>\n",
       "      <td>0.50</td>\n",
       "      <td>0.00</td>\n",
       "      <td>0.25</td>\n",
       "      <td>0.322105</td>\n",
       "      <td>0.059747</td>\n",
       "      <td>0.931775</td>\n",
       "      <td>0.170698</td>\n",
       "      <td>0.908452</td>\n",
       "      <td>30.537430</td>\n",
       "    </tr>\n",
       "    <tr>\n",
       "      <th>1</th>\n",
       "      <td>0.00</td>\n",
       "      <td>0.25</td>\n",
       "      <td>0.25</td>\n",
       "      <td>0.724666</td>\n",
       "      <td>0.347593</td>\n",
       "      <td>0.510398</td>\n",
       "      <td>0.903484</td>\n",
       "      <td>0.708939</td>\n",
       "      <td>31.657345</td>\n",
       "    </tr>\n",
       "    <tr>\n",
       "      <th>5</th>\n",
       "      <td>0.25</td>\n",
       "      <td>0.00</td>\n",
       "      <td>0.25</td>\n",
       "      <td>0.286262</td>\n",
       "      <td>0.159694</td>\n",
       "      <td>0.819944</td>\n",
       "      <td>0.628651</td>\n",
       "      <td>0.399149</td>\n",
       "      <td>32.210330</td>\n",
       "    </tr>\n",
       "    <tr>\n",
       "      <th>6</th>\n",
       "      <td>0.25</td>\n",
       "      <td>0.25</td>\n",
       "      <td>0.25</td>\n",
       "      <td>0.126351</td>\n",
       "      <td>0.360184</td>\n",
       "      <td>0.852596</td>\n",
       "      <td>0.434066</td>\n",
       "      <td>0.952241</td>\n",
       "      <td>32.690294</td>\n",
       "    </tr>\n",
       "    <tr>\n",
       "      <th>0</th>\n",
       "      <td>0.00</td>\n",
       "      <td>0.00</td>\n",
       "      <td>0.25</td>\n",
       "      <td>0.347875</td>\n",
       "      <td>0.328040</td>\n",
       "      <td>0.842198</td>\n",
       "      <td>0.947431</td>\n",
       "      <td>0.422984</td>\n",
       "      <td>33.445233</td>\n",
       "    </tr>\n",
       "  </tbody>\n",
       "</table>\n",
       "</div>"
      ],
      "text/plain": [
       "    alpha  beta  homophily  prob_infection  prob_vaccination  prob_cure  \\\n",
       "15   0.50  0.25       0.25        0.946572          0.019471   0.806971   \n",
       "9    0.25  0.75       0.25        0.671159          0.315414   0.837163   \n",
       "13   0.33  0.50       0.25        0.811651          0.122950   0.415625   \n",
       "17   0.50  0.50       0.25        0.832157          0.178371   0.874119   \n",
       "19   0.75  0.25       0.25        0.700935          0.313440   0.323507   \n",
       "4    0.00  0.75       0.25        0.242011          0.047201   0.446475   \n",
       "16   0.50  0.33       0.25        0.676409          0.451609   0.692063   \n",
       "11   0.33  0.25       0.25        0.961665          0.087162   0.674789   \n",
       "12   0.33  0.33       0.25        0.871039          0.214956   0.566959   \n",
       "7    0.25  0.33       0.25        0.082344          0.310468   0.194199   \n",
       "18   0.75  0.00       0.25        0.769699          0.186514   0.810085   \n",
       "8    0.25  0.50       0.25        0.022769          0.577372   0.735569   \n",
       "20   1.00  0.00       0.25        0.304826          0.028654   0.434504   \n",
       "2    0.00  0.33       0.25        0.957083          0.404041   0.229332   \n",
       "10   0.33  0.00       0.25        0.621033          0.107866   0.172409   \n",
       "3    0.00  0.50       0.25        0.390317          0.492830   0.083003   \n",
       "14   0.50  0.00       0.25        0.322105          0.059747   0.931775   \n",
       "1    0.00  0.25       0.25        0.724666          0.347593   0.510398   \n",
       "5    0.25  0.00       0.25        0.286262          0.159694   0.819944   \n",
       "6    0.25  0.25       0.25        0.126351          0.360184   0.852596   \n",
       "0    0.00  0.00       0.25        0.347875          0.328040   0.842198   \n",
       "\n",
       "    prob_influencer  prob_echo       rmse  \n",
       "15         0.485082   0.630385   3.665503  \n",
       "9          0.938964   0.786240   4.061536  \n",
       "13         0.641897   0.359864   4.579548  \n",
       "17         0.533449   0.751942   7.440493  \n",
       "19         0.646720   0.425415  10.167374  \n",
       "4          0.831034   0.571795  11.283309  \n",
       "16         0.950132   0.099987  11.821275  \n",
       "11         0.873810   0.721106  14.995867  \n",
       "12         0.946951   0.041759  15.466470  \n",
       "7          0.899468   0.449386  22.524894  \n",
       "18         0.949964   0.609648  22.983508  \n",
       "8          0.986076   0.047381  24.860437  \n",
       "20         0.940048   0.533894  25.471679  \n",
       "2          0.977308   0.724613  29.429184  \n",
       "10         0.987889   0.373349  29.621813  \n",
       "3          0.881348   0.277427  30.169731  \n",
       "14         0.170698   0.908452  30.537430  \n",
       "1          0.903484   0.708939  31.657345  \n",
       "5          0.628651   0.399149  32.210330  \n",
       "6          0.434066   0.952241  32.690294  \n",
       "0          0.947431   0.422984  33.445233  "
      ]
     },
     "execution_count": 15,
     "metadata": {},
     "output_type": "execute_result"
    }
   ],
   "source": [
    "parameters_homophily_025 = parameters_homophily_025.sort_values(by='rmse')\n",
    "parameters_homophily_025"
   ]
  },
  {
   "cell_type": "code",
   "execution_count": 16,
   "metadata": {},
   "outputs": [],
   "source": [
    "alpha = parameters_homophily_025['alpha'].iloc[0]\n",
    "beta = parameters_homophily_025['beta'].iloc[0]\n",
    "homophily = parameters_homophily_025['homophily'].iloc[0]\n",
    "prob_infection = parameters_homophily_025['prob_infection'].iloc[0]\n",
    "prob_vaccination = parameters_homophily_025['prob_vaccination'].iloc[0]\n",
    "prob_cure = parameters_homophily_025['prob_cure'].iloc[0]\n",
    "prob_influencer = parameters_homophily_025['prob_influencer'].iloc[0]\n",
    "prob_echo = parameters_homophily_025['prob_echo'].iloc[0]"
   ]
  },
  {
   "cell_type": "code",
   "execution_count": 17,
   "metadata": {},
   "outputs": [],
   "source": [
    "container = NetworksContainer(n_networks=30, n_nodes=n_nodes, \n",
    "                              alpha=alpha, beta=beta, \n",
    "                              delta_in=1, delta_out=1, \n",
    "                              homophily=homophily, n_commons=n_commons, \n",
    "                              n_influencers=n_influencers, n_bots=n_bots, \n",
    "                              n_fact_checkers=n_fact_checkers,\n",
    "                              prob_complaint=0.0, \n",
    "                              prob_infection=prob_infection, \n",
    "                              prob_vaccination=prob_vaccination,\n",
    "                              prob_cure=prob_cure, \n",
    "                              prob_influencer=prob_influencer, \n",
    "                              exp_decay=True, user_block=False, \n",
    "                              prob_echo=prob_echo, epochs=epochs)\n",
    "container.create_network_list(n_initial_infected_nodes=n_initial_infected_nodes)"
   ]
  },
  {
   "cell_type": "code",
   "execution_count": 18,
   "metadata": {},
   "outputs": [],
   "source": [
    "total_y_pred_list_homophily_025 = []\n",
    "\n",
    "for i in range(container.n_networks):   \n",
    "    y_pred_list = []\n",
    "    container.network_list[i].reset_network()\n",
    "    for j in range(container.epochs):\n",
    "        container.network_list[i].update_nodes()\n",
    "    y_pred_list = container.network_list[i].perc_infected\n",
    "    total_y_pred_list_homophily_025.append(y_pred_list)"
   ]
  },
  {
   "cell_type": "code",
   "execution_count": 19,
   "metadata": {},
   "outputs": [],
   "source": [
    "avg_y_pred_list_homophily_025 = [sum(column) / len(column) for column in zip(*total_y_pred_list_homophily_025)]"
   ]
  },
  {
   "cell_type": "code",
   "execution_count": 20,
   "metadata": {},
   "outputs": [],
   "source": [
    "std_y_pred_list_homophily_025 = [np.std(column) for column in zip(*total_y_pred_list_homophily_025)]"
   ]
  },
  {
   "cell_type": "code",
   "execution_count": 21,
   "metadata": {},
   "outputs": [],
   "source": [
    "std_low_y_pred_list_homophily_025 = []\n",
    "std_high_y_pred_list_homophily_025 = []\n",
    "for i in range(len(avg_y_pred_list_homophily_025)):\n",
    "    std_low_y_pred_list_homophily_025.append(avg_y_pred_list_homophily_025[i] - std_y_pred_list_homophily_025[i])\n",
    "    std_high_y_pred_list_homophily_025.append(avg_y_pred_list_homophily_025[i] + std_y_pred_list_homophily_025[i])"
   ]
  },
  {
   "cell_type": "code",
   "execution_count": 22,
   "metadata": {},
   "outputs": [],
   "source": [
    "x = []\n",
    "for i in range(len(endorsers_percentage_list)):\n",
    "    x.append(i)"
   ]
  },
  {
   "cell_type": "code",
   "execution_count": 23,
   "metadata": {},
   "outputs": [
    {
     "data": {
      "image/png": "[encoded data removed]",
      "text/plain": [
       "<Figure size 1200x400 with 1 Axes>"
      ]
     },
     "metadata": {},
     "output_type": "display_data"
    }
   ],
   "source": [
    "fig, axs = plt.subplots(1, 1, figsize=(12, 4))\n",
    "axs.plot(endorsers_percentage_list, c='r', label='Real endorsers percentage', linewidth=1.0)\n",
    "plt.plot(avg_y_pred_list_homophily_025, c='b', label='Simulated endorsers percentage', linewidth=1.0)\n",
    "axs.fill_between(x, avg_y_pred_list_homophily_025, std_low_y_pred_list_homophily_025, color='b', alpha=.1)\n",
    "axs.fill_between(x, avg_y_pred_list_homophily_025, std_high_y_pred_list_homophily_025, color='b', alpha=.1)\n",
    "legend = plt.legend(bbox_to_anchor=(1.05, 1), loc='upper left')\n",
    "plt.xlabel(\"Epoch\")\n",
    "plt.ylabel(\"Percentage of endorsers\")\n",
    "plt.show()"
   ]
  },
  {
   "cell_type": "code",
   "execution_count": 24,
   "metadata": {},
   "outputs": [],
   "source": [
    "x = []\n",
    "endorsers_percentage_list_truncated = []\n",
    "avg_y_pred_list_homophily_025_truncated = []\n",
    "std_low_y_pred_list_homophily_025_truncated = []\n",
    "std_high_y_pred_list_homophily_025_truncated = []\n",
    "for i in range(500):\n",
    "    x.append(i)\n",
    "    endorsers_percentage_list_truncated.append(endorsers_percentage_list[i])\n",
    "    avg_y_pred_list_homophily_025_truncated.append(avg_y_pred_list_homophily_025[i])\n",
    "    std_low_y_pred_list_homophily_025_truncated.append(std_low_y_pred_list_homophily_025[i])\n",
    "    std_high_y_pred_list_homophily_025_truncated.append(std_high_y_pred_list_homophily_025[i])"
   ]
  },
  {
   "cell_type": "code",
   "execution_count": 25,
   "metadata": {},
   "outputs": [
    {
     "data": {
      "image/png": "[encoded data removed]",
      "text/plain": [
       "<Figure size 1200x400 with 1 Axes>"
      ]
     },
     "metadata": {},
     "output_type": "display_data"
    }
   ],
   "source": [
    "fig, axs = plt.subplots(1, 1, figsize=(12, 4))\n",
    "axs.plot(endorsers_percentage_list_truncated, c='r', label='Real endorsers percentage', linewidth=1.0)\n",
    "plt.plot(avg_y_pred_list_homophily_025_truncated, c='b', label='Simulated endorsers percentage', linewidth=1.0)\n",
    "axs.fill_between(x, avg_y_pred_list_homophily_025_truncated, std_low_y_pred_list_homophily_025_truncated, color='b', alpha=.1)\n",
    "axs.fill_between(x, avg_y_pred_list_homophily_025_truncated, std_high_y_pred_list_homophily_025_truncated, color='b', alpha=.1)\n",
    "legend = plt.legend(bbox_to_anchor=(1.05, 1), loc='upper left')\n",
    "plt.xlabel(\"Epoch\")\n",
    "plt.ylabel(\"Percentage of endorsers\")\n",
    "plt.show()"
   ]
  },
  {
   "cell_type": "code",
   "execution_count": 26,
   "metadata": {},
   "outputs": [
    {
     "name": "stdout",
     "output_type": "stream",
     "text": [
      "Mean 0.25:  -23.66684996121504\n",
      "Standard deviation 0.25:  2.7960248547048367\n"
     ]
    }
   ],
   "source": [
    "y_true = endorsers_percentage_list\n",
    "\n",
    "neg_rmse_list_homophily_025 = []\n",
    "for i in range(container.n_networks):\n",
    "        mse = mean_squared_error(y_true=y_true, y_pred=total_y_pred_list_homophily_025[i])\n",
    "        neg_rmse = - np.sqrt(mse)\n",
    "        neg_rmse_list_homophily_025.append(neg_rmse)\n",
    "    \n",
    "mean_neg_rmse_homophily_025 = np.mean(neg_rmse_list_homophily_025)\n",
    "std_neg_rmse_homophily_025 = np.std(neg_rmse_list_homophily_025)\n",
    "print(\"Mean 0.25: \", mean_neg_rmse_homophily_025)\n",
    "print(\"Standard deviation 0.25: \", std_neg_rmse_homophily_025)"
   ]
  },
  {
   "cell_type": "code",
   "execution_count": 27,
   "metadata": {},
   "outputs": [],
   "source": [
    "df_total_y_pred_list_homophily_025 = pd.DataFrame(total_y_pred_list_homophily_025).T\n",
    "df_total_y_pred_list_homophily_025.to_csv(\"validation_obama_endorsers_percentages_homophily_0.25.csv\", index=False, header=False)"
   ]
  },
  {
   "cell_type": "code",
   "execution_count": 28,
   "metadata": {},
   "outputs": [],
   "source": [
    "df_statistics_homophily_025 = pd.DataFrame(avg_y_pred_list_homophily_025).T\n",
    "df_statistics_homophily_025.loc[1] = std_y_pred_list_homophily_025\n",
    "df_statistics_homophily_025.loc[2] = std_high_y_pred_list_homophily_025\n",
    "df_statistics_homophily_025.loc[3] = std_low_y_pred_list_homophily_025\n",
    "df_statistics_homophily_025.to_csv(\"validation_obama_statistics_homophily_0.25.csv\", index=False, header=False)"
   ]
  },
  {
   "cell_type": "code",
   "execution_count": 29,
   "metadata": {},
   "outputs": [],
   "source": [
    "df_rmse_homophily_025 = pd.DataFrame(neg_rmse_list_homophily_025).T\n",
    "df_rmse_homophily_025.to_csv(\"validation_obama_rmse_homophily_0.25.csv\", index=False, header=False)"
   ]
  },
  {
   "cell_type": "code",
   "execution_count": null,
   "metadata": {},
   "outputs": [],
   "source": []
  }
 ],
 "metadata": {
  "kernelspec": {
   "display_name": "SCMS",
   "language": "python",
   "name": "python3"
  },
  "language_info": {
   "codemirror_mode": {
    "name": "ipython",
    "version": 3
   },
   "file_extension": ".py",
   "mimetype": "text/x-python",
   "name": "python",
   "nbconvert_exporter": "python",
   "pygments_lexer": "ipython3",
   "version": "3.11.0"
  },
  "orig_nbformat": 4,
  "vscode": {
   "interpreter": {
    "hash": "c97dbac1812ec30b48a7f39712c01c480bd467df285f0a5249fb97075fa3baaf"
   }
  }
 },
 "nbformat": 4,
 "nbformat_minor": 2
}
